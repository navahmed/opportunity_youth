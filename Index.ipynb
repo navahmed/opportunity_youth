{
 "cells": [
  {
   "cell_type": "markdown",
   "metadata": {},
   "source": []
  },
  {
   "cell_type": "code",
   "execution_count": 220,
   "metadata": {},
   "outputs": [],
   "source": [
    "import pandas as pd\n",
    "import folium\n",
    "import geopandas as gpd\n",
    "import descartes\n",
    "from shapely.geometry import Point, Polygon\n",
    "import matplotlib.pyplot as plt\n",
    "%matplotlib inline"
   ]
  },
  {
   "cell_type": "code",
   "execution_count": 202,
   "metadata": {},
   "outputs": [],
   "source": [
    "kc = pd.read_csv('KC_cities.csv')"
   ]
  },
  {
   "cell_type": "code",
   "execution_count": 203,
   "metadata": {},
   "outputs": [
    {
     "data": {
      "text/html": [
       "<div>\n",
       "<style scoped>\n",
       "    .dataframe tbody tr th:only-of-type {\n",
       "        vertical-align: middle;\n",
       "    }\n",
       "\n",
       "    .dataframe tbody tr th {\n",
       "        vertical-align: top;\n",
       "    }\n",
       "\n",
       "    .dataframe thead th {\n",
       "        text-align: right;\n",
       "    }\n",
       "</style>\n",
       "<table border=\"1\" class=\"dataframe\">\n",
       "  <thead>\n",
       "    <tr style=\"text-align: right;\">\n",
       "      <th></th>\n",
       "      <th>tabblk2010</th>\n",
       "      <th>st</th>\n",
       "      <th>stusps</th>\n",
       "      <th>stname</th>\n",
       "      <th>cty</th>\n",
       "      <th>ctyname</th>\n",
       "      <th>trct</th>\n",
       "      <th>trctname</th>\n",
       "      <th>bgrp</th>\n",
       "      <th>bgrpname</th>\n",
       "      <th>...</th>\n",
       "      <th>stanrcname</th>\n",
       "      <th>necta</th>\n",
       "      <th>nectname</th>\n",
       "      <th>mil</th>\n",
       "      <th>milname</th>\n",
       "      <th>stwib</th>\n",
       "      <th>stwibname</th>\n",
       "      <th>blklatdd</th>\n",
       "      <th>blklondd</th>\n",
       "      <th>createdate</th>\n",
       "    </tr>\n",
       "  </thead>\n",
       "  <tbody>\n",
       "    <tr>\n",
       "      <th>0</th>\n",
       "      <td>530330312021017</td>\n",
       "      <td>53</td>\n",
       "      <td>WA</td>\n",
       "      <td>Washington                                    ...</td>\n",
       "      <td>53033</td>\n",
       "      <td>King County, WA                               ...</td>\n",
       "      <td>53033031202</td>\n",
       "      <td>312.02 (King, WA)                             ...</td>\n",
       "      <td>530330312021</td>\n",
       "      <td>1 (Tract 312.02, King, WA)                    ...</td>\n",
       "      <td>...</td>\n",
       "      <td>NaN</td>\n",
       "      <td>99999</td>\n",
       "      <td>NaN</td>\n",
       "      <td>NaN</td>\n",
       "      <td>NaN</td>\n",
       "      <td>53000005</td>\n",
       "      <td>05 Seattle/King County WIB                    ...</td>\n",
       "      <td>47.281505</td>\n",
       "      <td>-122.152278</td>\n",
       "      <td>2019-08-26</td>\n",
       "    </tr>\n",
       "    <tr>\n",
       "      <th>1</th>\n",
       "      <td>530330312022005</td>\n",
       "      <td>53</td>\n",
       "      <td>WA</td>\n",
       "      <td>Washington                                    ...</td>\n",
       "      <td>53033</td>\n",
       "      <td>King County, WA                               ...</td>\n",
       "      <td>53033031202</td>\n",
       "      <td>312.02 (King, WA)                             ...</td>\n",
       "      <td>530330312022</td>\n",
       "      <td>2 (Tract 312.02, King, WA)                    ...</td>\n",
       "      <td>...</td>\n",
       "      <td>NaN</td>\n",
       "      <td>99999</td>\n",
       "      <td>NaN</td>\n",
       "      <td>NaN</td>\n",
       "      <td>NaN</td>\n",
       "      <td>53000005</td>\n",
       "      <td>05 Seattle/King County WIB                    ...</td>\n",
       "      <td>47.279386</td>\n",
       "      <td>-122.157441</td>\n",
       "      <td>2019-08-26</td>\n",
       "    </tr>\n",
       "    <tr>\n",
       "      <th>2</th>\n",
       "      <td>530330311002021</td>\n",
       "      <td>53</td>\n",
       "      <td>WA</td>\n",
       "      <td>Washington                                    ...</td>\n",
       "      <td>53033</td>\n",
       "      <td>King County, WA                               ...</td>\n",
       "      <td>53033031100</td>\n",
       "      <td>311 (King, WA)                                ...</td>\n",
       "      <td>530330311002</td>\n",
       "      <td>2 (Tract 311, King, WA)                       ...</td>\n",
       "      <td>...</td>\n",
       "      <td>NaN</td>\n",
       "      <td>99999</td>\n",
       "      <td>NaN</td>\n",
       "      <td>NaN</td>\n",
       "      <td>NaN</td>\n",
       "      <td>53000005</td>\n",
       "      <td>05 Seattle/King County WIB                    ...</td>\n",
       "      <td>47.284217</td>\n",
       "      <td>-122.197750</td>\n",
       "      <td>2019-08-26</td>\n",
       "    </tr>\n",
       "    <tr>\n",
       "      <th>3</th>\n",
       "      <td>530330311002015</td>\n",
       "      <td>53</td>\n",
       "      <td>WA</td>\n",
       "      <td>Washington                                    ...</td>\n",
       "      <td>53033</td>\n",
       "      <td>King County, WA                               ...</td>\n",
       "      <td>53033031100</td>\n",
       "      <td>311 (King, WA)                                ...</td>\n",
       "      <td>530330311002</td>\n",
       "      <td>2 (Tract 311, King, WA)                       ...</td>\n",
       "      <td>...</td>\n",
       "      <td>NaN</td>\n",
       "      <td>99999</td>\n",
       "      <td>NaN</td>\n",
       "      <td>NaN</td>\n",
       "      <td>NaN</td>\n",
       "      <td>53000005</td>\n",
       "      <td>05 Seattle/King County WIB                    ...</td>\n",
       "      <td>47.278259</td>\n",
       "      <td>-122.206612</td>\n",
       "      <td>2019-08-26</td>\n",
       "    </tr>\n",
       "    <tr>\n",
       "      <th>4</th>\n",
       "      <td>530330306002031</td>\n",
       "      <td>53</td>\n",
       "      <td>WA</td>\n",
       "      <td>Washington                                    ...</td>\n",
       "      <td>53033</td>\n",
       "      <td>King County, WA                               ...</td>\n",
       "      <td>53033030600</td>\n",
       "      <td>306 (King, WA)                                ...</td>\n",
       "      <td>530330306002</td>\n",
       "      <td>2 (Tract 306, King, WA)                       ...</td>\n",
       "      <td>...</td>\n",
       "      <td>NaN</td>\n",
       "      <td>99999</td>\n",
       "      <td>NaN</td>\n",
       "      <td>NaN</td>\n",
       "      <td>NaN</td>\n",
       "      <td>53000005</td>\n",
       "      <td>05 Seattle/King County WIB                    ...</td>\n",
       "      <td>47.300098</td>\n",
       "      <td>-122.182180</td>\n",
       "      <td>2019-08-26</td>\n",
       "    </tr>\n",
       "  </tbody>\n",
       "</table>\n",
       "<p>5 rows × 43 columns</p>\n",
       "</div>"
      ],
      "text/plain": [
       "        tabblk2010  st stusps  \\\n",
       "0  530330312021017  53     WA   \n",
       "1  530330312022005  53     WA   \n",
       "2  530330311002021  53     WA   \n",
       "3  530330311002015  53     WA   \n",
       "4  530330306002031  53     WA   \n",
       "\n",
       "                                              stname    cty  \\\n",
       "0  Washington                                    ...  53033   \n",
       "1  Washington                                    ...  53033   \n",
       "2  Washington                                    ...  53033   \n",
       "3  Washington                                    ...  53033   \n",
       "4  Washington                                    ...  53033   \n",
       "\n",
       "                                             ctyname         trct  \\\n",
       "0  King County, WA                               ...  53033031202   \n",
       "1  King County, WA                               ...  53033031202   \n",
       "2  King County, WA                               ...  53033031100   \n",
       "3  King County, WA                               ...  53033031100   \n",
       "4  King County, WA                               ...  53033030600   \n",
       "\n",
       "                                            trctname          bgrp  \\\n",
       "0  312.02 (King, WA)                             ...  530330312021   \n",
       "1  312.02 (King, WA)                             ...  530330312022   \n",
       "2  311 (King, WA)                                ...  530330311002   \n",
       "3  311 (King, WA)                                ...  530330311002   \n",
       "4  306 (King, WA)                                ...  530330306002   \n",
       "\n",
       "                                            bgrpname  ...  stanrcname  necta  \\\n",
       "0  1 (Tract 312.02, King, WA)                    ...  ...         NaN  99999   \n",
       "1  2 (Tract 312.02, King, WA)                    ...  ...         NaN  99999   \n",
       "2  2 (Tract 311, King, WA)                       ...  ...         NaN  99999   \n",
       "3  2 (Tract 311, King, WA)                       ...  ...         NaN  99999   \n",
       "4  2 (Tract 306, King, WA)                       ...  ...         NaN  99999   \n",
       "\n",
       "   nectname  mil  milname     stwib  \\\n",
       "0       NaN  NaN      NaN  53000005   \n",
       "1       NaN  NaN      NaN  53000005   \n",
       "2       NaN  NaN      NaN  53000005   \n",
       "3       NaN  NaN      NaN  53000005   \n",
       "4       NaN  NaN      NaN  53000005   \n",
       "\n",
       "                                           stwibname   blklatdd    blklondd  \\\n",
       "0  05 Seattle/King County WIB                    ...  47.281505 -122.152278   \n",
       "1  05 Seattle/King County WIB                    ...  47.279386 -122.157441   \n",
       "2  05 Seattle/King County WIB                    ...  47.284217 -122.197750   \n",
       "3  05 Seattle/King County WIB                    ...  47.278259 -122.206612   \n",
       "4  05 Seattle/King County WIB                    ...  47.300098 -122.182180   \n",
       "\n",
       "   createdate  \n",
       "0  2019-08-26  \n",
       "1  2019-08-26  \n",
       "2  2019-08-26  \n",
       "3  2019-08-26  \n",
       "4  2019-08-26  \n",
       "\n",
       "[5 rows x 43 columns]"
      ]
     },
     "execution_count": 203,
     "metadata": {},
     "output_type": "execute_result"
    }
   ],
   "source": [
    "kc.head()"
   ]
  },
  {
   "cell_type": "markdown",
   "metadata": {},
   "source": [
    "Firstly, we looked to identify the cities which are part of South King County. Based on information from Google, we found out that the following cities are a part of South King County:\n",
    "Auburn, Burien, Covington, Des Monies, Enumclaw, Federal Way, Kent, Maple Valley, Normandy Park, Renton, Tukwikla, SeaTac, White Center, Boulevard Park and Vashon.\n",
    "We used the following SQL query to extract a table with the PUMA IDs from the puma_names_2010 table."
   ]
  },
  {
   "cell_type": "code",
   "execution_count": null,
   "metadata": {},
   "outputs": [],
   "source": [
    "SELECT * FROM puma_names_2010\n",
    "WHERE puma_name LIKE '%Auburn%'\n",
    "OR puma_name LIKE '%Federal Way%'\n",
    "OR puma_name LIKE '%Kent%'\n",
    "OR puma_name LIKE '%Renton%'\n",
    "OR puma_name LIKE '%Tukwila%'\n",
    "OR puma_name LIKE '%Highline%';"
   ]
  },
  {
   "cell_type": "code",
   "execution_count": null,
   "metadata": {},
   "outputs": [],
   "source": []
  },
  {
   "cell_type": "code",
   "execution_count": 200,
   "metadata": {},
   "outputs": [],
   "source": []
  },
  {
   "cell_type": "code",
   "execution_count": 201,
   "metadata": {},
   "outputs": [
    {
     "data": {
      "text/html": [
       "<div>\n",
       "<style scoped>\n",
       "    .dataframe tbody tr th:only-of-type {\n",
       "        vertical-align: middle;\n",
       "    }\n",
       "\n",
       "    .dataframe tbody tr th {\n",
       "        vertical-align: top;\n",
       "    }\n",
       "\n",
       "    .dataframe thead th {\n",
       "        text-align: right;\n",
       "    }\n",
       "</style>\n",
       "<table border=\"1\" class=\"dataframe\">\n",
       "  <thead>\n",
       "    <tr style=\"text-align: right;\">\n",
       "      <th></th>\n",
       "      <th>tabblk2010</th>\n",
       "      <th>st</th>\n",
       "      <th>stusps</th>\n",
       "      <th>stname</th>\n",
       "      <th>cty</th>\n",
       "      <th>ctyname</th>\n",
       "      <th>trct</th>\n",
       "      <th>trctname</th>\n",
       "      <th>bgrp</th>\n",
       "      <th>bgrpname</th>\n",
       "      <th>...</th>\n",
       "      <th>stanrcname</th>\n",
       "      <th>necta</th>\n",
       "      <th>nectname</th>\n",
       "      <th>mil</th>\n",
       "      <th>milname</th>\n",
       "      <th>stwib</th>\n",
       "      <th>stwibname</th>\n",
       "      <th>blklatdd</th>\n",
       "      <th>blklondd</th>\n",
       "      <th>createdate</th>\n",
       "    </tr>\n",
       "  </thead>\n",
       "  <tbody>\n",
       "    <tr>\n",
       "      <th>0</th>\n",
       "      <td>530330312021017</td>\n",
       "      <td>53</td>\n",
       "      <td>WA</td>\n",
       "      <td>Washington                                    ...</td>\n",
       "      <td>53033</td>\n",
       "      <td>King County, WA                               ...</td>\n",
       "      <td>53033031202</td>\n",
       "      <td>312.02 (King, WA)                             ...</td>\n",
       "      <td>530330312021</td>\n",
       "      <td>1 (Tract 312.02, King, WA)                    ...</td>\n",
       "      <td>...</td>\n",
       "      <td>NaN</td>\n",
       "      <td>99999</td>\n",
       "      <td>NaN</td>\n",
       "      <td>NaN</td>\n",
       "      <td>NaN</td>\n",
       "      <td>53000005</td>\n",
       "      <td>05 Seattle/King County WIB                    ...</td>\n",
       "      <td>47.281505</td>\n",
       "      <td>-122.152278</td>\n",
       "      <td>2019-08-26</td>\n",
       "    </tr>\n",
       "    <tr>\n",
       "      <th>1</th>\n",
       "      <td>530330312022005</td>\n",
       "      <td>53</td>\n",
       "      <td>WA</td>\n",
       "      <td>Washington                                    ...</td>\n",
       "      <td>53033</td>\n",
       "      <td>King County, WA                               ...</td>\n",
       "      <td>53033031202</td>\n",
       "      <td>312.02 (King, WA)                             ...</td>\n",
       "      <td>530330312022</td>\n",
       "      <td>2 (Tract 312.02, King, WA)                    ...</td>\n",
       "      <td>...</td>\n",
       "      <td>NaN</td>\n",
       "      <td>99999</td>\n",
       "      <td>NaN</td>\n",
       "      <td>NaN</td>\n",
       "      <td>NaN</td>\n",
       "      <td>53000005</td>\n",
       "      <td>05 Seattle/King County WIB                    ...</td>\n",
       "      <td>47.279386</td>\n",
       "      <td>-122.157441</td>\n",
       "      <td>2019-08-26</td>\n",
       "    </tr>\n",
       "    <tr>\n",
       "      <th>2</th>\n",
       "      <td>530330311002021</td>\n",
       "      <td>53</td>\n",
       "      <td>WA</td>\n",
       "      <td>Washington                                    ...</td>\n",
       "      <td>53033</td>\n",
       "      <td>King County, WA                               ...</td>\n",
       "      <td>53033031100</td>\n",
       "      <td>311 (King, WA)                                ...</td>\n",
       "      <td>530330311002</td>\n",
       "      <td>2 (Tract 311, King, WA)                       ...</td>\n",
       "      <td>...</td>\n",
       "      <td>NaN</td>\n",
       "      <td>99999</td>\n",
       "      <td>NaN</td>\n",
       "      <td>NaN</td>\n",
       "      <td>NaN</td>\n",
       "      <td>53000005</td>\n",
       "      <td>05 Seattle/King County WIB                    ...</td>\n",
       "      <td>47.284217</td>\n",
       "      <td>-122.197750</td>\n",
       "      <td>2019-08-26</td>\n",
       "    </tr>\n",
       "    <tr>\n",
       "      <th>3</th>\n",
       "      <td>530330311002015</td>\n",
       "      <td>53</td>\n",
       "      <td>WA</td>\n",
       "      <td>Washington                                    ...</td>\n",
       "      <td>53033</td>\n",
       "      <td>King County, WA                               ...</td>\n",
       "      <td>53033031100</td>\n",
       "      <td>311 (King, WA)                                ...</td>\n",
       "      <td>530330311002</td>\n",
       "      <td>2 (Tract 311, King, WA)                       ...</td>\n",
       "      <td>...</td>\n",
       "      <td>NaN</td>\n",
       "      <td>99999</td>\n",
       "      <td>NaN</td>\n",
       "      <td>NaN</td>\n",
       "      <td>NaN</td>\n",
       "      <td>53000005</td>\n",
       "      <td>05 Seattle/King County WIB                    ...</td>\n",
       "      <td>47.278259</td>\n",
       "      <td>-122.206612</td>\n",
       "      <td>2019-08-26</td>\n",
       "    </tr>\n",
       "    <tr>\n",
       "      <th>4</th>\n",
       "      <td>530330306002031</td>\n",
       "      <td>53</td>\n",
       "      <td>WA</td>\n",
       "      <td>Washington                                    ...</td>\n",
       "      <td>53033</td>\n",
       "      <td>King County, WA                               ...</td>\n",
       "      <td>53033030600</td>\n",
       "      <td>306 (King, WA)                                ...</td>\n",
       "      <td>530330306002</td>\n",
       "      <td>2 (Tract 306, King, WA)                       ...</td>\n",
       "      <td>...</td>\n",
       "      <td>NaN</td>\n",
       "      <td>99999</td>\n",
       "      <td>NaN</td>\n",
       "      <td>NaN</td>\n",
       "      <td>NaN</td>\n",
       "      <td>53000005</td>\n",
       "      <td>05 Seattle/King County WIB                    ...</td>\n",
       "      <td>47.300098</td>\n",
       "      <td>-122.182180</td>\n",
       "      <td>2019-08-26</td>\n",
       "    </tr>\n",
       "  </tbody>\n",
       "</table>\n",
       "<p>5 rows × 43 columns</p>\n",
       "</div>"
      ],
      "text/plain": [
       "        tabblk2010  st stusps  \\\n",
       "0  530330312021017  53     WA   \n",
       "1  530330312022005  53     WA   \n",
       "2  530330311002021  53     WA   \n",
       "3  530330311002015  53     WA   \n",
       "4  530330306002031  53     WA   \n",
       "\n",
       "                                              stname    cty  \\\n",
       "0  Washington                                    ...  53033   \n",
       "1  Washington                                    ...  53033   \n",
       "2  Washington                                    ...  53033   \n",
       "3  Washington                                    ...  53033   \n",
       "4  Washington                                    ...  53033   \n",
       "\n",
       "                                             ctyname         trct  \\\n",
       "0  King County, WA                               ...  53033031202   \n",
       "1  King County, WA                               ...  53033031202   \n",
       "2  King County, WA                               ...  53033031100   \n",
       "3  King County, WA                               ...  53033031100   \n",
       "4  King County, WA                               ...  53033030600   \n",
       "\n",
       "                                            trctname          bgrp  \\\n",
       "0  312.02 (King, WA)                             ...  530330312021   \n",
       "1  312.02 (King, WA)                             ...  530330312022   \n",
       "2  311 (King, WA)                                ...  530330311002   \n",
       "3  311 (King, WA)                                ...  530330311002   \n",
       "4  306 (King, WA)                                ...  530330306002   \n",
       "\n",
       "                                            bgrpname  ...  stanrcname  necta  \\\n",
       "0  1 (Tract 312.02, King, WA)                    ...  ...         NaN  99999   \n",
       "1  2 (Tract 312.02, King, WA)                    ...  ...         NaN  99999   \n",
       "2  2 (Tract 311, King, WA)                       ...  ...         NaN  99999   \n",
       "3  2 (Tract 311, King, WA)                       ...  ...         NaN  99999   \n",
       "4  2 (Tract 306, King, WA)                       ...  ...         NaN  99999   \n",
       "\n",
       "   nectname  mil  milname     stwib  \\\n",
       "0       NaN  NaN      NaN  53000005   \n",
       "1       NaN  NaN      NaN  53000005   \n",
       "2       NaN  NaN      NaN  53000005   \n",
       "3       NaN  NaN      NaN  53000005   \n",
       "4       NaN  NaN      NaN  53000005   \n",
       "\n",
       "                                           stwibname   blklatdd    blklondd  \\\n",
       "0  05 Seattle/King County WIB                    ...  47.281505 -122.152278   \n",
       "1  05 Seattle/King County WIB                    ...  47.279386 -122.157441   \n",
       "2  05 Seattle/King County WIB                    ...  47.284217 -122.197750   \n",
       "3  05 Seattle/King County WIB                    ...  47.278259 -122.206612   \n",
       "4  05 Seattle/King County WIB                    ...  47.300098 -122.182180   \n",
       "\n",
       "   createdate  \n",
       "0  2019-08-26  \n",
       "1  2019-08-26  \n",
       "2  2019-08-26  \n",
       "3  2019-08-26  \n",
       "4  2019-08-26  \n",
       "\n",
       "[5 rows x 43 columns]"
      ]
     },
     "execution_count": 201,
     "metadata": {},
     "output_type": "execute_result"
    }
   ],
   "source": []
  },
  {
   "cell_type": "code",
   "execution_count": 7,
   "metadata": {},
   "outputs": [],
   "source": [
    "pum_was = pd.read_csv('puma_was.csv')"
   ]
  },
  {
   "cell_type": "code",
   "execution_count": 8,
   "metadata": {},
   "outputs": [
    {
     "data": {
      "text/html": [
       "<div>\n",
       "<style scoped>\n",
       "    .dataframe tbody tr th:only-of-type {\n",
       "        vertical-align: middle;\n",
       "    }\n",
       "\n",
       "    .dataframe tbody tr th {\n",
       "        vertical-align: top;\n",
       "    }\n",
       "\n",
       "    .dataframe thead th {\n",
       "        text-align: right;\n",
       "    }\n",
       "</style>\n",
       "<table border=\"1\" class=\"dataframe\">\n",
       "  <thead>\n",
       "    <tr style=\"text-align: right;\">\n",
       "      <th></th>\n",
       "      <th>state_fips</th>\n",
       "      <th>state_name</th>\n",
       "      <th>cpuma0010</th>\n",
       "      <th>puma</th>\n",
       "      <th>geoid</th>\n",
       "      <th>gisjoin</th>\n",
       "      <th>puma_name</th>\n",
       "    </tr>\n",
       "  </thead>\n",
       "  <tbody>\n",
       "    <tr>\n",
       "      <th>0</th>\n",
       "      <td>1</td>\n",
       "      <td>Alabama                                       ...</td>\n",
       "      <td>14</td>\n",
       "      <td>1900</td>\n",
       "      <td>101900</td>\n",
       "      <td>G01001900</td>\n",
       "      <td>Lee County--Auburn City                       ...</td>\n",
       "    </tr>\n",
       "    <tr>\n",
       "      <th>1</th>\n",
       "      <td>1</td>\n",
       "      <td>Alabama                                       ...</td>\n",
       "      <td>16</td>\n",
       "      <td>2300</td>\n",
       "      <td>102300</td>\n",
       "      <td>G01002300</td>\n",
       "      <td>Coffee, Covington, Butler &amp; Crenshaw Counties ...</td>\n",
       "    </tr>\n",
       "    <tr>\n",
       "      <th>2</th>\n",
       "      <td>6</td>\n",
       "      <td>California                                    ...</td>\n",
       "      <td>108</td>\n",
       "      <td>6103</td>\n",
       "      <td>606103</td>\n",
       "      <td>G06006103</td>\n",
       "      <td>Placer County (East/High Country Region)--Aubu...</td>\n",
       "    </tr>\n",
       "    <tr>\n",
       "      <th>3</th>\n",
       "      <td>10</td>\n",
       "      <td>Delaware                                      ...</td>\n",
       "      <td>198</td>\n",
       "      <td>200</td>\n",
       "      <td>1000200</td>\n",
       "      <td>G10000200</td>\n",
       "      <td>Kent County--Dover City                       ...</td>\n",
       "    </tr>\n",
       "    <tr>\n",
       "      <th>4</th>\n",
       "      <td>17</td>\n",
       "      <td>Illinois                                      ...</td>\n",
       "      <td>337</td>\n",
       "      <td>3531</td>\n",
       "      <td>1703531</td>\n",
       "      <td>G17003531</td>\n",
       "      <td>Chicago City (South)--Auburn Gresham, Roseland...</td>\n",
       "    </tr>\n",
       "  </tbody>\n",
       "</table>\n",
       "</div>"
      ],
      "text/plain": [
       "   state_fips                                         state_name  cpuma0010  \\\n",
       "0           1  Alabama                                       ...         14   \n",
       "1           1  Alabama                                       ...         16   \n",
       "2           6  California                                    ...        108   \n",
       "3          10  Delaware                                      ...        198   \n",
       "4          17  Illinois                                      ...        337   \n",
       "\n",
       "   puma    geoid    gisjoin                                          puma_name  \n",
       "0  1900   101900  G01001900  Lee County--Auburn City                       ...  \n",
       "1  2300   102300  G01002300  Coffee, Covington, Butler & Crenshaw Counties ...  \n",
       "2  6103   606103  G06006103  Placer County (East/High Country Region)--Aubu...  \n",
       "3   200  1000200  G10000200  Kent County--Dover City                       ...  \n",
       "4  3531  1703531  G17003531  Chicago City (South)--Auburn Gresham, Roseland...  "
      ]
     },
     "execution_count": 8,
     "metadata": {},
     "output_type": "execute_result"
    }
   ],
   "source": [
    "pum_was.head()"
   ]
  },
  {
   "cell_type": "markdown",
   "metadata": {},
   "source": [
    "With the SQL query saved as a csv file, we loaded it into the Jupyter Notebook. We noticed that the SQL quewry gave a few cities outside Washington. In order to fix this, we filtered the dataframe using state_fips as 53, which is the id for Washinton. We then took the unique IDs in the 'puma' column of the table to identify the puma IDs for the cities we are interested in."
   ]
  },
  {
   "cell_type": "code",
   "execution_count": 9,
   "metadata": {},
   "outputs": [],
   "source": [
    "pum_was = pum_was[pum_was['state_fips'] == 53]"
   ]
  },
  {
   "cell_type": "code",
   "execution_count": 10,
   "metadata": {},
   "outputs": [
    {
     "data": {
      "text/plain": [
       "array([11610, 11613, 11614, 11615, 11611, 11612])"
      ]
     },
     "execution_count": 10,
     "metadata": {},
     "output_type": "execute_result"
    }
   ],
   "source": [
    "pum_was['puma'].unique()"
   ]
  },
  {
   "cell_type": "markdown",
   "metadata": {},
   "source": [
    "We then ran another SQL query on the pums_2017 table, using the puma IDs we had extracted above."
   ]
  },
  {
   "cell_type": "code",
   "execution_count": null,
   "metadata": {},
   "outputs": [],
   "source": [
    "\n",
    "SELECT * FROM pums_2017\n",
    "WHERE puma ='11610'\n",
    "OR puma ='11611'\n",
    "OR puma ='11612'\n",
    "OR puma ='11613'\n",
    "OR puma ='11614'\n",
    "OR puma ='11615'"
   ]
  },
  {
   "cell_type": "code",
   "execution_count": 11,
   "metadata": {},
   "outputs": [],
   "source": [
    "was_rm = pd.read_csv('was_rm.csv')"
   ]
  },
  {
   "cell_type": "code",
   "execution_count": 12,
   "metadata": {},
   "outputs": [
    {
     "data": {
      "text/html": [
       "<div>\n",
       "<style scoped>\n",
       "    .dataframe tbody tr th:only-of-type {\n",
       "        vertical-align: middle;\n",
       "    }\n",
       "\n",
       "    .dataframe tbody tr th {\n",
       "        vertical-align: top;\n",
       "    }\n",
       "\n",
       "    .dataframe thead th {\n",
       "        text-align: right;\n",
       "    }\n",
       "</style>\n",
       "<table border=\"1\" class=\"dataframe\">\n",
       "  <thead>\n",
       "    <tr style=\"text-align: right;\">\n",
       "      <th></th>\n",
       "      <th>rt</th>\n",
       "      <th>serialno</th>\n",
       "      <th>division</th>\n",
       "      <th>sporder</th>\n",
       "      <th>puma</th>\n",
       "      <th>region</th>\n",
       "      <th>st</th>\n",
       "      <th>adjinc</th>\n",
       "      <th>pwgtp</th>\n",
       "      <th>agep</th>\n",
       "      <th>...</th>\n",
       "      <th>pwgtp71</th>\n",
       "      <th>pwgtp72</th>\n",
       "      <th>pwgtp73</th>\n",
       "      <th>pwgtp74</th>\n",
       "      <th>pwgtp75</th>\n",
       "      <th>pwgtp76</th>\n",
       "      <th>pwgtp77</th>\n",
       "      <th>pwgtp78</th>\n",
       "      <th>pwgtp79</th>\n",
       "      <th>pwgtp80</th>\n",
       "    </tr>\n",
       "  </thead>\n",
       "  <tbody>\n",
       "    <tr>\n",
       "      <th>0</th>\n",
       "      <td>P</td>\n",
       "      <td>2013000888692</td>\n",
       "      <td>9</td>\n",
       "      <td>1</td>\n",
       "      <td>11611</td>\n",
       "      <td>4</td>\n",
       "      <td>53</td>\n",
       "      <td>1061971</td>\n",
       "      <td>26</td>\n",
       "      <td>58</td>\n",
       "      <td>...</td>\n",
       "      <td>26</td>\n",
       "      <td>44</td>\n",
       "      <td>46</td>\n",
       "      <td>24</td>\n",
       "      <td>25</td>\n",
       "      <td>47</td>\n",
       "      <td>7</td>\n",
       "      <td>25</td>\n",
       "      <td>8</td>\n",
       "      <td>24</td>\n",
       "    </tr>\n",
       "    <tr>\n",
       "      <th>1</th>\n",
       "      <td>P</td>\n",
       "      <td>2013000888957</td>\n",
       "      <td>9</td>\n",
       "      <td>1</td>\n",
       "      <td>11615</td>\n",
       "      <td>4</td>\n",
       "      <td>53</td>\n",
       "      <td>1061971</td>\n",
       "      <td>15</td>\n",
       "      <td>54</td>\n",
       "      <td>...</td>\n",
       "      <td>5</td>\n",
       "      <td>5</td>\n",
       "      <td>28</td>\n",
       "      <td>15</td>\n",
       "      <td>5</td>\n",
       "      <td>25</td>\n",
       "      <td>28</td>\n",
       "      <td>15</td>\n",
       "      <td>15</td>\n",
       "      <td>17</td>\n",
       "    </tr>\n",
       "    <tr>\n",
       "      <th>2</th>\n",
       "      <td>P</td>\n",
       "      <td>2013000888957</td>\n",
       "      <td>9</td>\n",
       "      <td>2</td>\n",
       "      <td>11615</td>\n",
       "      <td>4</td>\n",
       "      <td>53</td>\n",
       "      <td>1061971</td>\n",
       "      <td>18</td>\n",
       "      <td>27</td>\n",
       "      <td>...</td>\n",
       "      <td>5</td>\n",
       "      <td>5</td>\n",
       "      <td>31</td>\n",
       "      <td>20</td>\n",
       "      <td>5</td>\n",
       "      <td>36</td>\n",
       "      <td>30</td>\n",
       "      <td>15</td>\n",
       "      <td>17</td>\n",
       "      <td>20</td>\n",
       "    </tr>\n",
       "    <tr>\n",
       "      <th>3</th>\n",
       "      <td>P</td>\n",
       "      <td>2013000890399</td>\n",
       "      <td>9</td>\n",
       "      <td>1</td>\n",
       "      <td>11612</td>\n",
       "      <td>4</td>\n",
       "      <td>53</td>\n",
       "      <td>1061971</td>\n",
       "      <td>14</td>\n",
       "      <td>71</td>\n",
       "      <td>...</td>\n",
       "      <td>25</td>\n",
       "      <td>4</td>\n",
       "      <td>3</td>\n",
       "      <td>12</td>\n",
       "      <td>13</td>\n",
       "      <td>23</td>\n",
       "      <td>23</td>\n",
       "      <td>4</td>\n",
       "      <td>13</td>\n",
       "      <td>4</td>\n",
       "    </tr>\n",
       "    <tr>\n",
       "      <th>4</th>\n",
       "      <td>P</td>\n",
       "      <td>2013000890399</td>\n",
       "      <td>9</td>\n",
       "      <td>2</td>\n",
       "      <td>11612</td>\n",
       "      <td>4</td>\n",
       "      <td>53</td>\n",
       "      <td>1061971</td>\n",
       "      <td>13</td>\n",
       "      <td>59</td>\n",
       "      <td>...</td>\n",
       "      <td>29</td>\n",
       "      <td>3</td>\n",
       "      <td>4</td>\n",
       "      <td>16</td>\n",
       "      <td>14</td>\n",
       "      <td>18</td>\n",
       "      <td>17</td>\n",
       "      <td>2</td>\n",
       "      <td>15</td>\n",
       "      <td>4</td>\n",
       "    </tr>\n",
       "  </tbody>\n",
       "</table>\n",
       "<p>5 rows × 286 columns</p>\n",
       "</div>"
      ],
      "text/plain": [
       "  rt       serialno  division  sporder   puma  region  st   adjinc  pwgtp  \\\n",
       "0  P  2013000888692         9        1  11611       4  53  1061971     26   \n",
       "1  P  2013000888957         9        1  11615       4  53  1061971     15   \n",
       "2  P  2013000888957         9        2  11615       4  53  1061971     18   \n",
       "3  P  2013000890399         9        1  11612       4  53  1061971     14   \n",
       "4  P  2013000890399         9        2  11612       4  53  1061971     13   \n",
       "\n",
       "   agep  ...  pwgtp71  pwgtp72  pwgtp73  pwgtp74  pwgtp75  pwgtp76  pwgtp77  \\\n",
       "0    58  ...       26       44       46       24       25       47        7   \n",
       "1    54  ...        5        5       28       15        5       25       28   \n",
       "2    27  ...        5        5       31       20        5       36       30   \n",
       "3    71  ...       25        4        3       12       13       23       23   \n",
       "4    59  ...       29        3        4       16       14       18       17   \n",
       "\n",
       "   pwgtp78  pwgtp79  pwgtp80  \n",
       "0       25        8       24  \n",
       "1       15       15       17  \n",
       "2       15       17       20  \n",
       "3        4       13        4  \n",
       "4        2       15        4  \n",
       "\n",
       "[5 rows x 286 columns]"
      ]
     },
     "execution_count": 12,
     "metadata": {},
     "output_type": "execute_result"
    }
   ],
   "source": [
    "was_rm.head()"
   ]
  },
  {
   "cell_type": "code",
   "execution_count": 15,
   "metadata": {},
   "outputs": [
    {
     "data": {
      "text/plain": [
       "34145"
      ]
     },
     "execution_count": 15,
     "metadata": {},
     "output_type": "execute_result"
    }
   ],
   "source": [
    "len(was_rm)"
   ]
  },
  {
   "cell_type": "code",
   "execution_count": 13,
   "metadata": {},
   "outputs": [],
   "source": [
    "was_rm.loc[(was_rm['agep'] < 16),  'Age_Group'] = 'other'\n",
    "was_rm.loc[(was_rm['agep'] >24),  'Age_Group'] = 'other'\n",
    "was_rm.loc[((was_rm['agep'] >= 16) & (was_rm['agep'] <=18)) ,  'Age_Group'] = '16-18'\n",
    "was_rm.loc[((was_rm['agep'] >= 19) & (was_rm['agep'] <=21)) ,  'Age_Group'] = '19-21'\n",
    "was_rm.loc[((was_rm['agep'] >= 22) & (was_rm['agep'] <=24)) ,  'Age_Group'] = '22-24'"
   ]
  },
  {
   "cell_type": "code",
   "execution_count": 16,
   "metadata": {},
   "outputs": [],
   "source": [
    "was_rm_16_24 = was_rm[(was_rm['agep']>= 16) & (was_rm['agep'] <=24)]\n",
    "was_rm_OY = was_rm_16_24[(was_rm_16_24['esr']== 3) | (was_rm_16_24['esr'] ==6)]"
   ]
  },
  {
   "cell_type": "code",
   "execution_count": 17,
   "metadata": {},
   "outputs": [
    {
     "data": {
      "text/html": [
       "<div>\n",
       "<style scoped>\n",
       "    .dataframe tbody tr th:only-of-type {\n",
       "        vertical-align: middle;\n",
       "    }\n",
       "\n",
       "    .dataframe tbody tr th {\n",
       "        vertical-align: top;\n",
       "    }\n",
       "\n",
       "    .dataframe thead th {\n",
       "        text-align: right;\n",
       "    }\n",
       "</style>\n",
       "<table border=\"1\" class=\"dataframe\">\n",
       "  <thead>\n",
       "    <tr style=\"text-align: right;\">\n",
       "      <th></th>\n",
       "      <th>Counts</th>\n",
       "    </tr>\n",
       "    <tr>\n",
       "      <th>puma</th>\n",
       "      <th></th>\n",
       "    </tr>\n",
       "  </thead>\n",
       "  <tbody>\n",
       "    <tr>\n",
       "      <th>11610</th>\n",
       "      <td>255</td>\n",
       "    </tr>\n",
       "    <tr>\n",
       "      <th>11611</th>\n",
       "      <td>271</td>\n",
       "    </tr>\n",
       "    <tr>\n",
       "      <th>11612</th>\n",
       "      <td>249</td>\n",
       "    </tr>\n",
       "    <tr>\n",
       "      <th>11613</th>\n",
       "      <td>317</td>\n",
       "    </tr>\n",
       "    <tr>\n",
       "      <th>11614</th>\n",
       "      <td>335</td>\n",
       "    </tr>\n",
       "    <tr>\n",
       "      <th>11615</th>\n",
       "      <td>308</td>\n",
       "    </tr>\n",
       "  </tbody>\n",
       "</table>\n",
       "</div>"
      ],
      "text/plain": [
       "       Counts\n",
       "puma         \n",
       "11610     255\n",
       "11611     271\n",
       "11612     249\n",
       "11613     317\n",
       "11614     335\n",
       "11615     308"
      ]
     },
     "execution_count": 17,
     "metadata": {},
     "output_type": "execute_result"
    }
   ],
   "source": [
    "was_rm_OY.groupby('puma').agg(Counts=('puma','count'))"
   ]
  },
  {
   "cell_type": "code",
   "execution_count": null,
   "metadata": {},
   "outputs": [],
   "source": [
    "# total size of OY"
   ]
  },
  {
   "cell_type": "code",
   "execution_count": 18,
   "metadata": {},
   "outputs": [
    {
     "data": {
      "text/plain": [
       "1735"
      ]
     },
     "execution_count": 18,
     "metadata": {},
     "output_type": "execute_result"
    }
   ],
   "source": [
    "len(was_rm_OY)"
   ]
  },
  {
   "cell_type": "code",
   "execution_count": null,
   "metadata": {},
   "outputs": [],
   "source": [
    "#OY split according to age group, 1st row of table"
   ]
  },
  {
   "cell_type": "code",
   "execution_count": 20,
   "metadata": {},
   "outputs": [
    {
     "data": {
      "text/html": [
       "<div>\n",
       "<style scoped>\n",
       "    .dataframe tbody tr th:only-of-type {\n",
       "        vertical-align: middle;\n",
       "    }\n",
       "\n",
       "    .dataframe tbody tr th {\n",
       "        vertical-align: top;\n",
       "    }\n",
       "\n",
       "    .dataframe thead th {\n",
       "        text-align: right;\n",
       "    }\n",
       "</style>\n",
       "<table border=\"1\" class=\"dataframe\">\n",
       "  <thead>\n",
       "    <tr style=\"text-align: right;\">\n",
       "      <th></th>\n",
       "      <th>Total</th>\n",
       "    </tr>\n",
       "    <tr>\n",
       "      <th>Age_Group</th>\n",
       "      <th></th>\n",
       "    </tr>\n",
       "  </thead>\n",
       "  <tbody>\n",
       "    <tr>\n",
       "      <th>16-18</th>\n",
       "      <td>1020</td>\n",
       "    </tr>\n",
       "    <tr>\n",
       "      <th>19-21</th>\n",
       "      <td>416</td>\n",
       "    </tr>\n",
       "    <tr>\n",
       "      <th>22-24</th>\n",
       "      <td>299</td>\n",
       "    </tr>\n",
       "  </tbody>\n",
       "</table>\n",
       "</div>"
      ],
      "text/plain": [
       "           Total\n",
       "Age_Group       \n",
       "16-18       1020\n",
       "19-21        416\n",
       "22-24        299"
      ]
     },
     "execution_count": 20,
     "metadata": {},
     "output_type": "execute_result"
    }
   ],
   "source": [
    "was_rm_OY.groupby('Age_Group').agg(Total=('Age_Group','count'))"
   ]
  },
  {
   "cell_type": "code",
   "execution_count": null,
   "metadata": {},
   "outputs": [],
   "source": [
    "# 1st part of the table"
   ]
  },
  {
   "cell_type": "code",
   "execution_count": 66,
   "metadata": {},
   "outputs": [
    {
     "data": {
      "text/html": [
       "<div>\n",
       "<style scoped>\n",
       "    .dataframe tbody tr th:only-of-type {\n",
       "        vertical-align: middle;\n",
       "    }\n",
       "\n",
       "    .dataframe tbody tr th {\n",
       "        vertical-align: top;\n",
       "    }\n",
       "\n",
       "    .dataframe thead th {\n",
       "        text-align: right;\n",
       "    }\n",
       "</style>\n",
       "<table border=\"1\" class=\"dataframe\">\n",
       "  <thead>\n",
       "    <tr style=\"text-align: right;\">\n",
       "      <th></th>\n",
       "      <th>rt</th>\n",
       "      <th>serialno</th>\n",
       "      <th>division</th>\n",
       "      <th>sporder</th>\n",
       "      <th>puma</th>\n",
       "      <th>region</th>\n",
       "      <th>st</th>\n",
       "      <th>adjinc</th>\n",
       "      <th>pwgtp</th>\n",
       "      <th>agep</th>\n",
       "      <th>...</th>\n",
       "      <th>pwgtp72</th>\n",
       "      <th>pwgtp73</th>\n",
       "      <th>pwgtp74</th>\n",
       "      <th>pwgtp75</th>\n",
       "      <th>pwgtp76</th>\n",
       "      <th>pwgtp77</th>\n",
       "      <th>pwgtp78</th>\n",
       "      <th>pwgtp79</th>\n",
       "      <th>pwgtp80</th>\n",
       "      <th>Age_Group</th>\n",
       "    </tr>\n",
       "  </thead>\n",
       "  <tbody>\n",
       "    <tr>\n",
       "      <th>7</th>\n",
       "      <td>P</td>\n",
       "      <td>2013000890432</td>\n",
       "      <td>9</td>\n",
       "      <td>2</td>\n",
       "      <td>11612</td>\n",
       "      <td>4</td>\n",
       "      <td>53</td>\n",
       "      <td>1061971</td>\n",
       "      <td>41</td>\n",
       "      <td>19</td>\n",
       "      <td>...</td>\n",
       "      <td>11</td>\n",
       "      <td>45</td>\n",
       "      <td>10</td>\n",
       "      <td>58</td>\n",
       "      <td>62</td>\n",
       "      <td>49</td>\n",
       "      <td>39</td>\n",
       "      <td>57</td>\n",
       "      <td>52</td>\n",
       "      <td>19-21</td>\n",
       "    </tr>\n",
       "    <tr>\n",
       "      <th>8</th>\n",
       "      <td>P</td>\n",
       "      <td>2013000890616</td>\n",
       "      <td>9</td>\n",
       "      <td>1</td>\n",
       "      <td>11612</td>\n",
       "      <td>4</td>\n",
       "      <td>53</td>\n",
       "      <td>1061971</td>\n",
       "      <td>41</td>\n",
       "      <td>18</td>\n",
       "      <td>...</td>\n",
       "      <td>13</td>\n",
       "      <td>14</td>\n",
       "      <td>61</td>\n",
       "      <td>40</td>\n",
       "      <td>9</td>\n",
       "      <td>62</td>\n",
       "      <td>49</td>\n",
       "      <td>46</td>\n",
       "      <td>39</td>\n",
       "      <td>16-18</td>\n",
       "    </tr>\n",
       "    <tr>\n",
       "      <th>9</th>\n",
       "      <td>P</td>\n",
       "      <td>2013000890616</td>\n",
       "      <td>9</td>\n",
       "      <td>2</td>\n",
       "      <td>11612</td>\n",
       "      <td>4</td>\n",
       "      <td>53</td>\n",
       "      <td>1061971</td>\n",
       "      <td>61</td>\n",
       "      <td>23</td>\n",
       "      <td>...</td>\n",
       "      <td>17</td>\n",
       "      <td>23</td>\n",
       "      <td>97</td>\n",
       "      <td>54</td>\n",
       "      <td>15</td>\n",
       "      <td>94</td>\n",
       "      <td>87</td>\n",
       "      <td>68</td>\n",
       "      <td>70</td>\n",
       "      <td>22-24</td>\n",
       "    </tr>\n",
       "    <tr>\n",
       "      <th>20</th>\n",
       "      <td>P</td>\n",
       "      <td>2013000895088</td>\n",
       "      <td>9</td>\n",
       "      <td>3</td>\n",
       "      <td>11613</td>\n",
       "      <td>4</td>\n",
       "      <td>53</td>\n",
       "      <td>1061971</td>\n",
       "      <td>15</td>\n",
       "      <td>17</td>\n",
       "      <td>...</td>\n",
       "      <td>4</td>\n",
       "      <td>16</td>\n",
       "      <td>28</td>\n",
       "      <td>4</td>\n",
       "      <td>15</td>\n",
       "      <td>4</td>\n",
       "      <td>16</td>\n",
       "      <td>23</td>\n",
       "      <td>28</td>\n",
       "      <td>16-18</td>\n",
       "    </tr>\n",
       "    <tr>\n",
       "      <th>26</th>\n",
       "      <td>P</td>\n",
       "      <td>2013000897069</td>\n",
       "      <td>9</td>\n",
       "      <td>2</td>\n",
       "      <td>11613</td>\n",
       "      <td>4</td>\n",
       "      <td>53</td>\n",
       "      <td>1061971</td>\n",
       "      <td>28</td>\n",
       "      <td>18</td>\n",
       "      <td>...</td>\n",
       "      <td>22</td>\n",
       "      <td>30</td>\n",
       "      <td>53</td>\n",
       "      <td>19</td>\n",
       "      <td>22</td>\n",
       "      <td>34</td>\n",
       "      <td>31</td>\n",
       "      <td>64</td>\n",
       "      <td>21</td>\n",
       "      <td>16-18</td>\n",
       "    </tr>\n",
       "  </tbody>\n",
       "</table>\n",
       "<p>5 rows × 287 columns</p>\n",
       "</div>"
      ],
      "text/plain": [
       "   rt       serialno  division  sporder   puma  region  st   adjinc  pwgtp  \\\n",
       "7   P  2013000890432         9        2  11612       4  53  1061971     41   \n",
       "8   P  2013000890616         9        1  11612       4  53  1061971     41   \n",
       "9   P  2013000890616         9        2  11612       4  53  1061971     61   \n",
       "20  P  2013000895088         9        3  11613       4  53  1061971     15   \n",
       "26  P  2013000897069         9        2  11613       4  53  1061971     28   \n",
       "\n",
       "    agep  ...  pwgtp72  pwgtp73  pwgtp74  pwgtp75  pwgtp76  pwgtp77  pwgtp78  \\\n",
       "7     19  ...       11       45       10       58       62       49       39   \n",
       "8     18  ...       13       14       61       40        9       62       49   \n",
       "9     23  ...       17       23       97       54       15       94       87   \n",
       "20    17  ...        4       16       28        4       15        4       16   \n",
       "26    18  ...       22       30       53       19       22       34       31   \n",
       "\n",
       "    pwgtp79  pwgtp80  Age_Group  \n",
       "7        57       52      19-21  \n",
       "8        46       39      16-18  \n",
       "9        68       70      22-24  \n",
       "20       23       28      16-18  \n",
       "26       64       21      16-18  \n",
       "\n",
       "[5 rows x 287 columns]"
      ]
     },
     "execution_count": 66,
     "metadata": {},
     "output_type": "execute_result"
    }
   ],
   "source": [
    "was_rm_16_24.head()"
   ]
  },
  {
   "cell_type": "code",
   "execution_count": 71,
   "metadata": {},
   "outputs": [
    {
     "data": {
      "text/plain": [
       "array([3., 1., 6., 2., 4.])"
      ]
     },
     "execution_count": 71,
     "metadata": {},
     "output_type": "execute_result"
    }
   ],
   "source": [
    "was_rm_16_24['esr'].unique()"
   ]
  },
  {
   "cell_type": "code",
   "execution_count": null,
   "metadata": {},
   "outputs": [],
   "source": [
    "#Working without diploma - SCHL bb to 15, ESR 1,2,4, 5\n",
    "#Not an Opportunity Youth - ESR 1, 2,  4, 5"
   ]
  },
  {
   "cell_type": "code",
   "execution_count": 86,
   "metadata": {},
   "outputs": [
    {
     "data": {
      "text/plain": [
       "array([19., 16., 13., 18., 21.,  1., 20., 17., 14., 15., 12., 10.,  9.,\n",
       "       22.,  8., 11.,  5.,  6.])"
      ]
     },
     "execution_count": 86,
     "metadata": {},
     "output_type": "execute_result"
    }
   ],
   "source": [
    "was_rm_16_24['schl'].unique()"
   ]
  },
  {
   "cell_type": "code",
   "execution_count": 82,
   "metadata": {},
   "outputs": [],
   "source": [
    "was_rm_16_24.loc[((was_rm_16_24['esr']== 3) |(was_rm_16_24['esr'] ==6)),'Status'] = 'Opportunity Youth'"
   ]
  },
  {
   "cell_type": "code",
   "execution_count": 84,
   "metadata": {},
   "outputs": [],
   "source": [
    "was_rm_16_24.loc[((was_rm_16_24['esr']!= 3) & (was_rm_16_24['esr'] !=6)),'Status']  = 'Not an Opportunity Youth'"
   ]
  },
  {
   "cell_type": "code",
   "execution_count": 90,
   "metadata": {},
   "outputs": [],
   "source": [
    "was_rm_16_24.loc[((was_rm_16_24['schl'] <=15)&((was_rm_16_24['esr']) <=2) | (was_rm_16_24['esr']==4) | (was_rm_16_24['esr']==5)),'Status'] = 'Working without diploma'"
   ]
  },
  {
   "cell_type": "code",
   "execution_count": 204,
   "metadata": {},
   "outputs": [],
   "source": [
    "was_table_1 = was_rm_16_24.groupby(['Status', 'Age_Group']).agg(Total=('Status','count'))"
   ]
  },
  {
   "cell_type": "code",
   "execution_count": 95,
   "metadata": {},
   "outputs": [
    {
     "data": {
      "text/html": [
       "<div>\n",
       "<style scoped>\n",
       "    .dataframe tbody tr th:only-of-type {\n",
       "        vertical-align: middle;\n",
       "    }\n",
       "\n",
       "    .dataframe tbody tr th {\n",
       "        vertical-align: top;\n",
       "    }\n",
       "\n",
       "    .dataframe thead tr th {\n",
       "        text-align: left;\n",
       "    }\n",
       "\n",
       "    .dataframe thead tr:last-of-type th {\n",
       "        text-align: right;\n",
       "    }\n",
       "</style>\n",
       "<table border=\"1\" class=\"dataframe\">\n",
       "  <thead>\n",
       "    <tr>\n",
       "      <th></th>\n",
       "      <th colspan=\"3\" halign=\"left\">Total</th>\n",
       "    </tr>\n",
       "    <tr>\n",
       "      <th>Age_Group</th>\n",
       "      <th>16-18</th>\n",
       "      <th>19-21</th>\n",
       "      <th>22-24</th>\n",
       "    </tr>\n",
       "    <tr>\n",
       "      <th>Status</th>\n",
       "      <th></th>\n",
       "      <th></th>\n",
       "      <th></th>\n",
       "    </tr>\n",
       "  </thead>\n",
       "  <tbody>\n",
       "    <tr>\n",
       "      <th>Not an Opportunity Youth</th>\n",
       "      <td>106</td>\n",
       "      <td>546</td>\n",
       "      <td>780</td>\n",
       "    </tr>\n",
       "    <tr>\n",
       "      <th>Opportunity Youth</th>\n",
       "      <td>1020</td>\n",
       "      <td>416</td>\n",
       "      <td>299</td>\n",
       "    </tr>\n",
       "    <tr>\n",
       "      <th>Working without diploma</th>\n",
       "      <td>187</td>\n",
       "      <td>61</td>\n",
       "      <td>67</td>\n",
       "    </tr>\n",
       "  </tbody>\n",
       "</table>\n",
       "</div>"
      ],
      "text/plain": [
       "                         Total            \n",
       "Age_Group                16-18 19-21 22-24\n",
       "Status                                    \n",
       "Not an Opportunity Youth   106   546   780\n",
       "Opportunity Youth         1020   416   299\n",
       "Working without diploma    187    61    67"
      ]
     },
     "execution_count": 95,
     "metadata": {},
     "output_type": "execute_result"
    }
   ],
   "source": [
    "was_table_1.unstack()"
   ]
  },
  {
   "cell_type": "code",
   "execution_count": null,
   "metadata": {},
   "outputs": [],
   "source": [
    "#2nd part of the table"
   ]
  },
  {
   "cell_type": "code",
   "execution_count": 63,
   "metadata": {},
   "outputs": [
    {
     "data": {
      "text/plain": [
       "array([19., 18., 13., 21., 16.,  1., 17., 14., 15., 12., 20., 10.,  9.,\n",
       "       11.,  8., 22.,  6.,  5.])"
      ]
     },
     "execution_count": 63,
     "metadata": {},
     "output_type": "execute_result"
    }
   ],
   "source": [
    "was_rm_OY['schl'].unique()"
   ]
  },
  {
   "cell_type": "code",
   "execution_count": 33,
   "metadata": {},
   "outputs": [],
   "source": [
    "was_rm_OY.loc[((was_rm_OY['schl'] >= 1) & (was_rm_OY['schl'] <=15)) ,  'Edu_attain'] = 'No Diploma'\n",
    "was_rm_OY.loc[((was_rm_OY['schl'] == 16) | (was_rm_OY['schl'] ==17)) ,  'Edu_attain'] = 'HS Diploma or GED'\n",
    "was_rm_OY.loc[((was_rm_OY['schl'] == 18) | (was_rm_OY['schl'] ==19)) ,  'Edu_attain'] = 'Some College, no degree'\n",
    "was_rm_OY.loc[((was_rm_OY['schl'] >= 20) & (was_rm_OY['schl'] <=24)) ,  'Edu_attain'] = 'Degree (Associate or Higher)'"
   ]
  },
  {
   "cell_type": "code",
   "execution_count": 34,
   "metadata": {},
   "outputs": [
    {
     "data": {
      "text/html": [
       "<div>\n",
       "<style scoped>\n",
       "    .dataframe tbody tr th:only-of-type {\n",
       "        vertical-align: middle;\n",
       "    }\n",
       "\n",
       "    .dataframe tbody tr th {\n",
       "        vertical-align: top;\n",
       "    }\n",
       "\n",
       "    .dataframe thead th {\n",
       "        text-align: right;\n",
       "    }\n",
       "</style>\n",
       "<table border=\"1\" class=\"dataframe\">\n",
       "  <thead>\n",
       "    <tr style=\"text-align: right;\">\n",
       "      <th></th>\n",
       "      <th>Count</th>\n",
       "    </tr>\n",
       "    <tr>\n",
       "      <th>Edu_attain</th>\n",
       "      <th></th>\n",
       "    </tr>\n",
       "  </thead>\n",
       "  <tbody>\n",
       "    <tr>\n",
       "      <th>Degree (Associate or Higher)</th>\n",
       "      <td>120</td>\n",
       "    </tr>\n",
       "    <tr>\n",
       "      <th>HS Diploma or GED</th>\n",
       "      <td>310</td>\n",
       "    </tr>\n",
       "    <tr>\n",
       "      <th>No Diploma</th>\n",
       "      <td>1033</td>\n",
       "    </tr>\n",
       "    <tr>\n",
       "      <th>Some College, no degree</th>\n",
       "      <td>272</td>\n",
       "    </tr>\n",
       "  </tbody>\n",
       "</table>\n",
       "</div>"
      ],
      "text/plain": [
       "                              Count\n",
       "Edu_attain                         \n",
       "Degree (Associate or Higher)    120\n",
       "HS Diploma or GED               310\n",
       "No Diploma                     1033\n",
       "Some College, no degree         272"
      ]
     },
     "execution_count": 34,
     "metadata": {},
     "output_type": "execute_result"
    }
   ],
   "source": [
    "was_rm_OY.groupby('Edu_attain').agg(Count=('Edu_attain','count'))"
   ]
  },
  {
   "cell_type": "code",
   "execution_count": 105,
   "metadata": {},
   "outputs": [
    {
     "data": {
      "text/plain": [
       "array(['Some College, no degree', 'No Diploma',\n",
       "       'Degree (Associate or Higher)', 'HS Diploma or GED'], dtype=object)"
      ]
     },
     "execution_count": 105,
     "metadata": {},
     "output_type": "execute_result"
    }
   ],
   "source": [
    "was_rm_OY['Edu_attain'].unique()"
   ]
  },
  {
   "cell_type": "code",
   "execution_count": null,
   "metadata": {},
   "outputs": [],
   "source": [
    "# No diploma - SCHOL column bb to  15\n",
    "# HS diploma or GED  - SCHL column - 16 & 17\n",
    "#Some College, No Degree SCHOL column - 18 & 19\n",
    "#Degree(Associate or higher) SCHL column - 20 to 24"
   ]
  },
  {
   "cell_type": "code",
   "execution_count": 147,
   "metadata": {},
   "outputs": [],
   "source": [
    "was_rm_df = was_rm_OY.groupby(['Edu_attain', 'Age_Group']).agg(Total=('Edu_attain','count'))"
   ]
  },
  {
   "cell_type": "code",
   "execution_count": 148,
   "metadata": {},
   "outputs": [
    {
     "data": {
      "text/html": [
       "<div>\n",
       "<style scoped>\n",
       "    .dataframe tbody tr th:only-of-type {\n",
       "        vertical-align: middle;\n",
       "    }\n",
       "\n",
       "    .dataframe tbody tr th {\n",
       "        vertical-align: top;\n",
       "    }\n",
       "\n",
       "    .dataframe thead th {\n",
       "        text-align: right;\n",
       "    }\n",
       "</style>\n",
       "<table border=\"1\" class=\"dataframe\">\n",
       "  <thead>\n",
       "    <tr style=\"text-align: right;\">\n",
       "      <th></th>\n",
       "      <th></th>\n",
       "      <th>Total</th>\n",
       "    </tr>\n",
       "    <tr>\n",
       "      <th>Edu_attain</th>\n",
       "      <th>Age_Group</th>\n",
       "      <th></th>\n",
       "    </tr>\n",
       "  </thead>\n",
       "  <tbody>\n",
       "    <tr>\n",
       "      <th rowspan=\"3\" valign=\"top\">Degree (Associate or Higher)</th>\n",
       "      <th>16-18</th>\n",
       "      <td>4</td>\n",
       "    </tr>\n",
       "    <tr>\n",
       "      <th>19-21</th>\n",
       "      <td>44</td>\n",
       "    </tr>\n",
       "    <tr>\n",
       "      <th>22-24</th>\n",
       "      <td>72</td>\n",
       "    </tr>\n",
       "    <tr>\n",
       "      <th rowspan=\"3\" valign=\"top\">HS Diploma or GED</th>\n",
       "      <th>16-18</th>\n",
       "      <td>81</td>\n",
       "    </tr>\n",
       "    <tr>\n",
       "      <th>19-21</th>\n",
       "      <td>134</td>\n",
       "    </tr>\n",
       "    <tr>\n",
       "      <th>22-24</th>\n",
       "      <td>95</td>\n",
       "    </tr>\n",
       "    <tr>\n",
       "      <th rowspan=\"3\" valign=\"top\">No Diploma</th>\n",
       "      <th>16-18</th>\n",
       "      <td>899</td>\n",
       "    </tr>\n",
       "    <tr>\n",
       "      <th>19-21</th>\n",
       "      <td>83</td>\n",
       "    </tr>\n",
       "    <tr>\n",
       "      <th>22-24</th>\n",
       "      <td>51</td>\n",
       "    </tr>\n",
       "    <tr>\n",
       "      <th rowspan=\"3\" valign=\"top\">Some College, no degree</th>\n",
       "      <th>16-18</th>\n",
       "      <td>36</td>\n",
       "    </tr>\n",
       "    <tr>\n",
       "      <th>19-21</th>\n",
       "      <td>155</td>\n",
       "    </tr>\n",
       "    <tr>\n",
       "      <th>22-24</th>\n",
       "      <td>81</td>\n",
       "    </tr>\n",
       "  </tbody>\n",
       "</table>\n",
       "</div>"
      ],
      "text/plain": [
       "                                        Total\n",
       "Edu_attain                   Age_Group       \n",
       "Degree (Associate or Higher) 16-18          4\n",
       "                             19-21         44\n",
       "                             22-24         72\n",
       "HS Diploma or GED            16-18         81\n",
       "                             19-21        134\n",
       "                             22-24         95\n",
       "No Diploma                   16-18        899\n",
       "                             19-21         83\n",
       "                             22-24         51\n",
       "Some College, no degree      16-18         36\n",
       "                             19-21        155\n",
       "                             22-24         81"
      ]
     },
     "execution_count": 148,
     "metadata": {},
     "output_type": "execute_result"
    }
   ],
   "source": [
    "was_rm_df"
   ]
  },
  {
   "cell_type": "code",
   "execution_count": 149,
   "metadata": {},
   "outputs": [
    {
     "data": {
      "text/html": [
       "<div>\n",
       "<style scoped>\n",
       "    .dataframe tbody tr th:only-of-type {\n",
       "        vertical-align: middle;\n",
       "    }\n",
       "\n",
       "    .dataframe tbody tr th {\n",
       "        vertical-align: top;\n",
       "    }\n",
       "\n",
       "    .dataframe thead tr th {\n",
       "        text-align: left;\n",
       "    }\n",
       "\n",
       "    .dataframe thead tr:last-of-type th {\n",
       "        text-align: right;\n",
       "    }\n",
       "</style>\n",
       "<table border=\"1\" class=\"dataframe\">\n",
       "  <thead>\n",
       "    <tr>\n",
       "      <th></th>\n",
       "      <th colspan=\"3\" halign=\"left\">Total</th>\n",
       "    </tr>\n",
       "    <tr>\n",
       "      <th>Age_Group</th>\n",
       "      <th>16-18</th>\n",
       "      <th>19-21</th>\n",
       "      <th>22-24</th>\n",
       "    </tr>\n",
       "    <tr>\n",
       "      <th>Edu_attain</th>\n",
       "      <th></th>\n",
       "      <th></th>\n",
       "      <th></th>\n",
       "    </tr>\n",
       "  </thead>\n",
       "  <tbody>\n",
       "    <tr>\n",
       "      <th>Degree (Associate or Higher)</th>\n",
       "      <td>4</td>\n",
       "      <td>44</td>\n",
       "      <td>72</td>\n",
       "    </tr>\n",
       "    <tr>\n",
       "      <th>HS Diploma or GED</th>\n",
       "      <td>81</td>\n",
       "      <td>134</td>\n",
       "      <td>95</td>\n",
       "    </tr>\n",
       "    <tr>\n",
       "      <th>No Diploma</th>\n",
       "      <td>899</td>\n",
       "      <td>83</td>\n",
       "      <td>51</td>\n",
       "    </tr>\n",
       "    <tr>\n",
       "      <th>Some College, no degree</th>\n",
       "      <td>36</td>\n",
       "      <td>155</td>\n",
       "      <td>81</td>\n",
       "    </tr>\n",
       "  </tbody>\n",
       "</table>\n",
       "</div>"
      ],
      "text/plain": [
       "                             Total            \n",
       "Age_Group                    16-18 19-21 22-24\n",
       "Edu_attain                                    \n",
       "Degree (Associate or Higher)     4    44    72\n",
       "HS Diploma or GED               81   134    95\n",
       "No Diploma                     899    83    51\n",
       "Some College, no degree         36   155    81"
      ]
     },
     "execution_count": 149,
     "metadata": {},
     "output_type": "execute_result"
    }
   ],
   "source": [
    "was_rm_df.unstack()"
   ]
  },
  {
   "cell_type": "code",
   "execution_count": 102,
   "metadata": {},
   "outputs": [
    {
     "data": {
      "text/html": [
       "<div>\n",
       "<style scoped>\n",
       "    .dataframe tbody tr th:only-of-type {\n",
       "        vertical-align: middle;\n",
       "    }\n",
       "\n",
       "    .dataframe tbody tr th {\n",
       "        vertical-align: top;\n",
       "    }\n",
       "\n",
       "    .dataframe thead th {\n",
       "        text-align: right;\n",
       "    }\n",
       "</style>\n",
       "<table border=\"1\" class=\"dataframe\">\n",
       "  <thead>\n",
       "    <tr style=\"text-align: right;\">\n",
       "      <th></th>\n",
       "      <th>rt</th>\n",
       "      <th>serialno</th>\n",
       "      <th>division</th>\n",
       "      <th>sporder</th>\n",
       "      <th>puma</th>\n",
       "      <th>region</th>\n",
       "      <th>st</th>\n",
       "      <th>adjinc</th>\n",
       "      <th>pwgtp</th>\n",
       "      <th>agep</th>\n",
       "      <th>...</th>\n",
       "      <th>pwgtp72</th>\n",
       "      <th>pwgtp73</th>\n",
       "      <th>pwgtp74</th>\n",
       "      <th>pwgtp75</th>\n",
       "      <th>pwgtp76</th>\n",
       "      <th>pwgtp77</th>\n",
       "      <th>pwgtp78</th>\n",
       "      <th>pwgtp79</th>\n",
       "      <th>pwgtp80</th>\n",
       "      <th>Age_Group</th>\n",
       "    </tr>\n",
       "  </thead>\n",
       "  <tbody>\n",
       "    <tr>\n",
       "      <th>0</th>\n",
       "      <td>P</td>\n",
       "      <td>2013000888692</td>\n",
       "      <td>9</td>\n",
       "      <td>1</td>\n",
       "      <td>11611</td>\n",
       "      <td>4</td>\n",
       "      <td>53</td>\n",
       "      <td>1061971</td>\n",
       "      <td>26</td>\n",
       "      <td>58</td>\n",
       "      <td>...</td>\n",
       "      <td>44</td>\n",
       "      <td>46</td>\n",
       "      <td>24</td>\n",
       "      <td>25</td>\n",
       "      <td>47</td>\n",
       "      <td>7</td>\n",
       "      <td>25</td>\n",
       "      <td>8</td>\n",
       "      <td>24</td>\n",
       "      <td>other</td>\n",
       "    </tr>\n",
       "  </tbody>\n",
       "</table>\n",
       "<p>1 rows × 287 columns</p>\n",
       "</div>"
      ],
      "text/plain": [
       "  rt       serialno  division  sporder   puma  region  st   adjinc  pwgtp  \\\n",
       "0  P  2013000888692         9        1  11611       4  53  1061971     26   \n",
       "\n",
       "   agep  ...  pwgtp72  pwgtp73  pwgtp74  pwgtp75  pwgtp76  pwgtp77  pwgtp78  \\\n",
       "0    58  ...       44       46       24       25       47        7       25   \n",
       "\n",
       "   pwgtp79  pwgtp80  Age_Group  \n",
       "0        8       24      other  \n",
       "\n",
       "[1 rows x 287 columns]"
      ]
     },
     "execution_count": 102,
     "metadata": {},
     "output_type": "execute_result"
    }
   ],
   "source": [
    "was_rm.head(1)"
   ]
  },
  {
   "cell_type": "code",
   "execution_count": 107,
   "metadata": {},
   "outputs": [
    {
     "data": {
      "text/plain": [
       "7             Some College, no degree\n",
       "26            Some College, no degree\n",
       "27                         No Diploma\n",
       "45       Degree (Associate or Higher)\n",
       "47                         No Diploma\n",
       "                     ...             \n",
       "34100               HS Diploma or GED\n",
       "34108               HS Diploma or GED\n",
       "34109                      No Diploma\n",
       "34132                      No Diploma\n",
       "34143                      No Diploma\n",
       "Name: Edu_attain, Length: 1735, dtype: object"
      ]
     },
     "execution_count": 107,
     "metadata": {},
     "output_type": "execute_result"
    }
   ],
   "source": [
    "was_rm_OY['Edu_attain']"
   ]
  },
  {
   "cell_type": "code",
   "execution_count": 121,
   "metadata": {},
   "outputs": [],
   "source": [
    "import numpy as np"
   ]
  },
  {
   "cell_type": "code",
   "execution_count": 194,
   "metadata": {},
   "outputs": [],
   "source": [
    "was_rm_OY_piv = was_rm_OY.pivot_table(index='Edu_attain', columns='Age_Group', aggfunc='size')"
   ]
  },
  {
   "cell_type": "code",
   "execution_count": 195,
   "metadata": {},
   "outputs": [
    {
     "data": {
      "text/html": [
       "<div>\n",
       "<style scoped>\n",
       "    .dataframe tbody tr th:only-of-type {\n",
       "        vertical-align: middle;\n",
       "    }\n",
       "\n",
       "    .dataframe tbody tr th {\n",
       "        vertical-align: top;\n",
       "    }\n",
       "\n",
       "    .dataframe thead th {\n",
       "        text-align: right;\n",
       "    }\n",
       "</style>\n",
       "<table border=\"1\" class=\"dataframe\">\n",
       "  <thead>\n",
       "    <tr style=\"text-align: right;\">\n",
       "      <th>Age_Group</th>\n",
       "      <th>16-18</th>\n",
       "      <th>19-21</th>\n",
       "      <th>22-24</th>\n",
       "    </tr>\n",
       "    <tr>\n",
       "      <th>Edu_attain</th>\n",
       "      <th></th>\n",
       "      <th></th>\n",
       "      <th></th>\n",
       "    </tr>\n",
       "  </thead>\n",
       "  <tbody>\n",
       "    <tr>\n",
       "      <th>Degree (Associate or Higher)</th>\n",
       "      <td>4</td>\n",
       "      <td>44</td>\n",
       "      <td>72</td>\n",
       "    </tr>\n",
       "    <tr>\n",
       "      <th>HS Diploma or GED</th>\n",
       "      <td>81</td>\n",
       "      <td>134</td>\n",
       "      <td>95</td>\n",
       "    </tr>\n",
       "    <tr>\n",
       "      <th>No Diploma</th>\n",
       "      <td>899</td>\n",
       "      <td>83</td>\n",
       "      <td>51</td>\n",
       "    </tr>\n",
       "    <tr>\n",
       "      <th>Some College, no degree</th>\n",
       "      <td>36</td>\n",
       "      <td>155</td>\n",
       "      <td>81</td>\n",
       "    </tr>\n",
       "  </tbody>\n",
       "</table>\n",
       "</div>"
      ],
      "text/plain": [
       "Age_Group                     16-18  19-21  22-24\n",
       "Edu_attain                                       \n",
       "Degree (Associate or Higher)      4     44     72\n",
       "HS Diploma or GED                81    134     95\n",
       "No Diploma                      899     83     51\n",
       "Some College, no degree          36    155     81"
      ]
     },
     "execution_count": 195,
     "metadata": {},
     "output_type": "execute_result"
    }
   ],
   "source": [
    "was_rm_OY_piv"
   ]
  },
  {
   "cell_type": "code",
   "execution_count": 188,
   "metadata": {},
   "outputs": [],
   "source": [
    "was_rm_OY_piv['Total'] = was_rm_OY['Edu_attain'].value_counts()"
   ]
  },
  {
   "cell_type": "code",
   "execution_count": 191,
   "metadata": {},
   "outputs": [
    {
     "data": {
      "text/plain": [
       "[1020, 416, 299]"
      ]
     },
     "execution_count": 191,
     "metadata": {},
     "output_type": "execute_result"
    }
   ],
   "source": [
    "list(was_rm_OY['Age_Group'].value_counts())"
   ]
  },
  {
   "cell_type": "code",
   "execution_count": 196,
   "metadata": {},
   "outputs": [],
   "source": [
    "was_rm_OY_piv.iloc[-1] = list(was_rm_OY['Age_Group'].value_counts())"
   ]
  },
  {
   "cell_type": "code",
   "execution_count": 197,
   "metadata": {},
   "outputs": [
    {
     "data": {
      "text/html": [
       "<div>\n",
       "<style scoped>\n",
       "    .dataframe tbody tr th:only-of-type {\n",
       "        vertical-align: middle;\n",
       "    }\n",
       "\n",
       "    .dataframe tbody tr th {\n",
       "        vertical-align: top;\n",
       "    }\n",
       "\n",
       "    .dataframe thead th {\n",
       "        text-align: right;\n",
       "    }\n",
       "</style>\n",
       "<table border=\"1\" class=\"dataframe\">\n",
       "  <thead>\n",
       "    <tr style=\"text-align: right;\">\n",
       "      <th>Age_Group</th>\n",
       "      <th>16-18</th>\n",
       "      <th>19-21</th>\n",
       "      <th>22-24</th>\n",
       "    </tr>\n",
       "    <tr>\n",
       "      <th>Edu_attain</th>\n",
       "      <th></th>\n",
       "      <th></th>\n",
       "      <th></th>\n",
       "    </tr>\n",
       "  </thead>\n",
       "  <tbody>\n",
       "    <tr>\n",
       "      <th>Degree (Associate or Higher)</th>\n",
       "      <td>4</td>\n",
       "      <td>44</td>\n",
       "      <td>72</td>\n",
       "    </tr>\n",
       "    <tr>\n",
       "      <th>HS Diploma or GED</th>\n",
       "      <td>81</td>\n",
       "      <td>134</td>\n",
       "      <td>95</td>\n",
       "    </tr>\n",
       "    <tr>\n",
       "      <th>No Diploma</th>\n",
       "      <td>899</td>\n",
       "      <td>83</td>\n",
       "      <td>51</td>\n",
       "    </tr>\n",
       "    <tr>\n",
       "      <th>Some College, no degree</th>\n",
       "      <td>1020</td>\n",
       "      <td>416</td>\n",
       "      <td>299</td>\n",
       "    </tr>\n",
       "  </tbody>\n",
       "</table>\n",
       "</div>"
      ],
      "text/plain": [
       "Age_Group                     16-18  19-21  22-24\n",
       "Edu_attain                                       \n",
       "Degree (Associate or Higher)      4     44     72\n",
       "HS Diploma or GED                81    134     95\n",
       "No Diploma                      899     83     51\n",
       "Some College, no degree        1020    416    299"
      ]
     },
     "execution_count": 197,
     "metadata": {},
     "output_type": "execute_result"
    }
   ],
   "source": [
    "was_rm_OY_piv"
   ]
  },
  {
   "cell_type": "code",
   "execution_count": 171,
   "metadata": {},
   "outputs": [
    {
     "data": {
      "text/plain": [
       "16-18    1020\n",
       "19-21     416\n",
       "22-24     299\n",
       "Name: Age_Group, dtype: int64"
      ]
     },
     "execution_count": 171,
     "metadata": {},
     "output_type": "execute_result"
    }
   ],
   "source": [
    "xx"
   ]
  },
  {
   "cell_type": "code",
   "execution_count": 174,
   "metadata": {},
   "outputs": [
    {
     "data": {
      "text/plain": [
       "1020"
      ]
     },
     "execution_count": 174,
     "metadata": {},
     "output_type": "execute_result"
    }
   ],
   "source": [
    "4+81+899+36"
   ]
  },
  {
   "cell_type": "code",
   "execution_count": null,
   "metadata": {},
   "outputs": [],
   "source": [
    "table = pivot_table(was_rm_OY, values=[\"Document\"],\n",
    "                    index=[\"Name\"], columns=[\"Time\"],\n",
    "                    aggfunc=lambda x: len(x),\n",
    "                    margins=True, dropna=True)"
   ]
  },
  {
   "cell_type": "code",
   "execution_count": null,
   "metadata": {},
   "outputs": [],
   "source": [
    "able = pd.pivot_table(df, index=['Manager', 'Status'], columns=['Product'], values=['Quantity','Price'],\n",
    "           aggfunc={'Quantity':len,'Price':[np.sum, np.mean]},fill_value=0)"
   ]
  },
  {
   "cell_type": "code",
   "execution_count": 140,
   "metadata": {},
   "outputs": [
    {
     "ename": "ValueError",
     "evalue": "Grouper for 'Age_Group' not 1-dimensional",
     "output_type": "error",
     "traceback": [
      "\u001b[0;31m---------------------------------------------------------------------------\u001b[0m",
      "\u001b[0;31mValueError\u001b[0m                                Traceback (most recent call last)",
      "\u001b[0;32m<ipython-input-140-5226de523fb0>\u001b[0m in \u001b[0;36m<module>\u001b[0;34m\u001b[0m\n\u001b[1;32m      1\u001b[0m able = pd.pivot_table(was_rm_OY, index=['Edu_attain'], columns=['Age_Group'], values=['Age_Group','Age_Group'],\n\u001b[0;32m----> 2\u001b[0;31m            aggfunc={'Age_Group':len,'Age_Group':len},fill_value=0)\n\u001b[0m",
      "\u001b[0;32m//anaconda3/envs/oy-env/lib/python3.7/site-packages/pandas/core/reshape/pivot.py\u001b[0m in \u001b[0;36mpivot_table\u001b[0;34m(data, values, index, columns, aggfunc, fill_value, margins, dropna, margins_name, observed)\u001b[0m\n\u001b[1;32m     93\u001b[0m         \u001b[0mvalues\u001b[0m \u001b[0;34m=\u001b[0m \u001b[0mlist\u001b[0m\u001b[0;34m(\u001b[0m\u001b[0mvalues\u001b[0m\u001b[0;34m)\u001b[0m\u001b[0;34m\u001b[0m\u001b[0;34m\u001b[0m\u001b[0m\n\u001b[1;32m     94\u001b[0m \u001b[0;34m\u001b[0m\u001b[0m\n\u001b[0;32m---> 95\u001b[0;31m     \u001b[0mgrouped\u001b[0m \u001b[0;34m=\u001b[0m \u001b[0mdata\u001b[0m\u001b[0;34m.\u001b[0m\u001b[0mgroupby\u001b[0m\u001b[0;34m(\u001b[0m\u001b[0mkeys\u001b[0m\u001b[0;34m,\u001b[0m \u001b[0mobserved\u001b[0m\u001b[0;34m=\u001b[0m\u001b[0mobserved\u001b[0m\u001b[0;34m)\u001b[0m\u001b[0;34m\u001b[0m\u001b[0;34m\u001b[0m\u001b[0m\n\u001b[0m\u001b[1;32m     96\u001b[0m     \u001b[0magged\u001b[0m \u001b[0;34m=\u001b[0m \u001b[0mgrouped\u001b[0m\u001b[0;34m.\u001b[0m\u001b[0magg\u001b[0m\u001b[0;34m(\u001b[0m\u001b[0maggfunc\u001b[0m\u001b[0;34m)\u001b[0m\u001b[0;34m\u001b[0m\u001b[0;34m\u001b[0m\u001b[0m\n\u001b[1;32m     97\u001b[0m     \u001b[0;32mif\u001b[0m \u001b[0mdropna\u001b[0m \u001b[0;32mand\u001b[0m \u001b[0misinstance\u001b[0m\u001b[0;34m(\u001b[0m\u001b[0magged\u001b[0m\u001b[0;34m,\u001b[0m \u001b[0mABCDataFrame\u001b[0m\u001b[0;34m)\u001b[0m \u001b[0;32mand\u001b[0m \u001b[0mlen\u001b[0m\u001b[0;34m(\u001b[0m\u001b[0magged\u001b[0m\u001b[0;34m.\u001b[0m\u001b[0mcolumns\u001b[0m\u001b[0;34m)\u001b[0m\u001b[0;34m:\u001b[0m\u001b[0;34m\u001b[0m\u001b[0;34m\u001b[0m\u001b[0m\n",
      "\u001b[0;32m//anaconda3/envs/oy-env/lib/python3.7/site-packages/pandas/core/generic.py\u001b[0m in \u001b[0;36mgroupby\u001b[0;34m(self, by, axis, level, as_index, sort, group_keys, squeeze, observed, **kwargs)\u001b[0m\n\u001b[1;32m   7892\u001b[0m             \u001b[0msqueeze\u001b[0m\u001b[0;34m=\u001b[0m\u001b[0msqueeze\u001b[0m\u001b[0;34m,\u001b[0m\u001b[0;34m\u001b[0m\u001b[0;34m\u001b[0m\u001b[0m\n\u001b[1;32m   7893\u001b[0m             \u001b[0mobserved\u001b[0m\u001b[0;34m=\u001b[0m\u001b[0mobserved\u001b[0m\u001b[0;34m,\u001b[0m\u001b[0;34m\u001b[0m\u001b[0;34m\u001b[0m\u001b[0m\n\u001b[0;32m-> 7894\u001b[0;31m             \u001b[0;34m**\u001b[0m\u001b[0mkwargs\u001b[0m\u001b[0;34m\u001b[0m\u001b[0;34m\u001b[0m\u001b[0m\n\u001b[0m\u001b[1;32m   7895\u001b[0m         )\n\u001b[1;32m   7896\u001b[0m \u001b[0;34m\u001b[0m\u001b[0m\n",
      "\u001b[0;32m//anaconda3/envs/oy-env/lib/python3.7/site-packages/pandas/core/groupby/groupby.py\u001b[0m in \u001b[0;36mgroupby\u001b[0;34m(obj, by, **kwds)\u001b[0m\n\u001b[1;32m   2520\u001b[0m         \u001b[0;32mraise\u001b[0m \u001b[0mTypeError\u001b[0m\u001b[0;34m(\u001b[0m\u001b[0;34m\"invalid type: {}\"\u001b[0m\u001b[0;34m.\u001b[0m\u001b[0mformat\u001b[0m\u001b[0;34m(\u001b[0m\u001b[0mobj\u001b[0m\u001b[0;34m)\u001b[0m\u001b[0;34m)\u001b[0m\u001b[0;34m\u001b[0m\u001b[0;34m\u001b[0m\u001b[0m\n\u001b[1;32m   2521\u001b[0m \u001b[0;34m\u001b[0m\u001b[0m\n\u001b[0;32m-> 2522\u001b[0;31m     \u001b[0;32mreturn\u001b[0m \u001b[0mklass\u001b[0m\u001b[0;34m(\u001b[0m\u001b[0mobj\u001b[0m\u001b[0;34m,\u001b[0m \u001b[0mby\u001b[0m\u001b[0;34m,\u001b[0m \u001b[0;34m**\u001b[0m\u001b[0mkwds\u001b[0m\u001b[0;34m)\u001b[0m\u001b[0;34m\u001b[0m\u001b[0;34m\u001b[0m\u001b[0m\n\u001b[0m",
      "\u001b[0;32m//anaconda3/envs/oy-env/lib/python3.7/site-packages/pandas/core/groupby/groupby.py\u001b[0m in \u001b[0;36m__init__\u001b[0;34m(self, obj, keys, axis, level, grouper, exclusions, selection, as_index, sort, group_keys, squeeze, observed, **kwargs)\u001b[0m\n\u001b[1;32m    389\u001b[0m                 \u001b[0msort\u001b[0m\u001b[0;34m=\u001b[0m\u001b[0msort\u001b[0m\u001b[0;34m,\u001b[0m\u001b[0;34m\u001b[0m\u001b[0;34m\u001b[0m\u001b[0m\n\u001b[1;32m    390\u001b[0m                 \u001b[0mobserved\u001b[0m\u001b[0;34m=\u001b[0m\u001b[0mobserved\u001b[0m\u001b[0;34m,\u001b[0m\u001b[0;34m\u001b[0m\u001b[0;34m\u001b[0m\u001b[0m\n\u001b[0;32m--> 391\u001b[0;31m                 \u001b[0mmutated\u001b[0m\u001b[0;34m=\u001b[0m\u001b[0mself\u001b[0m\u001b[0;34m.\u001b[0m\u001b[0mmutated\u001b[0m\u001b[0;34m,\u001b[0m\u001b[0;34m\u001b[0m\u001b[0;34m\u001b[0m\u001b[0m\n\u001b[0m\u001b[1;32m    392\u001b[0m             )\n\u001b[1;32m    393\u001b[0m \u001b[0;34m\u001b[0m\u001b[0m\n",
      "\u001b[0;32m//anaconda3/envs/oy-env/lib/python3.7/site-packages/pandas/core/groupby/grouper.py\u001b[0m in \u001b[0;36m_get_grouper\u001b[0;34m(obj, key, axis, level, sort, observed, mutated, validate)\u001b[0m\n\u001b[1;32m    650\u001b[0m                 \u001b[0min_axis\u001b[0m\u001b[0;34m=\u001b[0m\u001b[0min_axis\u001b[0m\u001b[0;34m,\u001b[0m\u001b[0;34m\u001b[0m\u001b[0;34m\u001b[0m\u001b[0m\n\u001b[1;32m    651\u001b[0m             )\n\u001b[0;32m--> 652\u001b[0;31m             \u001b[0;32mif\u001b[0m \u001b[0;32mnot\u001b[0m \u001b[0misinstance\u001b[0m\u001b[0;34m(\u001b[0m\u001b[0mgpr\u001b[0m\u001b[0;34m,\u001b[0m \u001b[0mGrouping\u001b[0m\u001b[0;34m)\u001b[0m\u001b[0;34m\u001b[0m\u001b[0;34m\u001b[0m\u001b[0m\n\u001b[0m\u001b[1;32m    653\u001b[0m             \u001b[0;32melse\u001b[0m \u001b[0mgpr\u001b[0m\u001b[0;34m\u001b[0m\u001b[0;34m\u001b[0m\u001b[0m\n\u001b[1;32m    654\u001b[0m         )\n",
      "\u001b[0;32m//anaconda3/envs/oy-env/lib/python3.7/site-packages/pandas/core/groupby/grouper.py\u001b[0m in \u001b[0;36m__init__\u001b[0;34m(self, index, grouper, obj, name, level, sort, observed, in_axis)\u001b[0m\n\u001b[1;32m    345\u001b[0m                 \u001b[0;32mif\u001b[0m \u001b[0mgetattr\u001b[0m\u001b[0;34m(\u001b[0m\u001b[0mself\u001b[0m\u001b[0;34m.\u001b[0m\u001b[0mgrouper\u001b[0m\u001b[0;34m,\u001b[0m \u001b[0;34m\"ndim\"\u001b[0m\u001b[0;34m,\u001b[0m \u001b[0;36m1\u001b[0m\u001b[0;34m)\u001b[0m \u001b[0;34m!=\u001b[0m \u001b[0;36m1\u001b[0m\u001b[0;34m:\u001b[0m\u001b[0;34m\u001b[0m\u001b[0;34m\u001b[0m\u001b[0m\n\u001b[1;32m    346\u001b[0m                     \u001b[0mt\u001b[0m \u001b[0;34m=\u001b[0m \u001b[0mself\u001b[0m\u001b[0;34m.\u001b[0m\u001b[0mname\u001b[0m \u001b[0;32mor\u001b[0m \u001b[0mstr\u001b[0m\u001b[0;34m(\u001b[0m\u001b[0mtype\u001b[0m\u001b[0;34m(\u001b[0m\u001b[0mself\u001b[0m\u001b[0;34m.\u001b[0m\u001b[0mgrouper\u001b[0m\u001b[0;34m)\u001b[0m\u001b[0;34m)\u001b[0m\u001b[0;34m\u001b[0m\u001b[0;34m\u001b[0m\u001b[0m\n\u001b[0;32m--> 347\u001b[0;31m                     \u001b[0;32mraise\u001b[0m \u001b[0mValueError\u001b[0m\u001b[0;34m(\u001b[0m\u001b[0;34m\"Grouper for '{}' not 1-dimensional\"\u001b[0m\u001b[0;34m.\u001b[0m\u001b[0mformat\u001b[0m\u001b[0;34m(\u001b[0m\u001b[0mt\u001b[0m\u001b[0;34m)\u001b[0m\u001b[0;34m)\u001b[0m\u001b[0;34m\u001b[0m\u001b[0;34m\u001b[0m\u001b[0m\n\u001b[0m\u001b[1;32m    348\u001b[0m                 \u001b[0mself\u001b[0m\u001b[0;34m.\u001b[0m\u001b[0mgrouper\u001b[0m \u001b[0;34m=\u001b[0m \u001b[0mself\u001b[0m\u001b[0;34m.\u001b[0m\u001b[0mindex\u001b[0m\u001b[0;34m.\u001b[0m\u001b[0mmap\u001b[0m\u001b[0;34m(\u001b[0m\u001b[0mself\u001b[0m\u001b[0;34m.\u001b[0m\u001b[0mgrouper\u001b[0m\u001b[0;34m)\u001b[0m\u001b[0;34m\u001b[0m\u001b[0;34m\u001b[0m\u001b[0m\n\u001b[1;32m    349\u001b[0m                 if not (\n",
      "\u001b[0;31mValueError\u001b[0m: Grouper for 'Age_Group' not 1-dimensional"
     ]
    }
   ],
   "source": [
    "able = pd.pivot_table(was_rm_OY, index=['Edu_attain'], columns=['Age_Group'], values=['Age_Group','Age_Group'],\n",
    "           aggfunc={'Age_Group':len,'Age_Group':len},fill_value=0)"
   ]
  },
  {
   "cell_type": "code",
   "execution_count": null,
   "metadata": {},
   "outputs": [],
   "source": [
    "able = pd.pivot_table(df, index=['Manager', 'Status'], columns=['Product'], values=['Quantity','Price'],\n",
    "           aggfunc={'Quantity':len,'Price':[np.sum, np.mean]},fill_value=0)"
   ]
  },
  {
   "cell_type": "code",
   "execution_count": null,
   "metadata": {},
   "outputs": [],
   "source": []
  },
  {
   "cell_type": "code",
   "execution_count": 163,
   "metadata": {},
   "outputs": [
    {
     "ename": "ValueError",
     "evalue": "could not convert string to float: '16-1816-1816-1816-1819-2119-2119-2119-2119-2119-2119-2119-2119-2119-2119-2119-2119-2119-2119-2119-2119-2119-2119-2119-2119-2119-2119-2119-2119-2119-2119-2119-2119-2119-2119-2119-2119-2119-2119-2119-2119-2119-2119-2119-2119-2119-2119-2119-2122-2422-2422-2422-2422-2422-2422-2422-2422-2422-2422-2422-2422-2422-2422-2422-2422-2422-2422-2422-2422-2422-2422-2422-2422-2422-2422-2422-2422-2422-2422-2422-2422-2422-2422-2422-2422-2422-2422-2422-2422-2422-2422-2422-2422-2422-2422-2422-2422-2422-2422-2422-2422-2422-2422-2422-2422-2422-2422-2422-2422-2422-2422-2422-2422-2422-2422-2422-2422-2422-2422-2422-24'",
     "output_type": "error",
     "traceback": [
      "\u001b[0;31m---------------------------------------------------------------------------\u001b[0m",
      "\u001b[0;31mValueError\u001b[0m                                Traceback (most recent call last)",
      "\u001b[0;32m//anaconda3/envs/oy-env/lib/python3.7/site-packages/pandas/core/groupby/groupby.py\u001b[0m in \u001b[0;36mapply\u001b[0;34m(self, func, *args, **kwargs)\u001b[0m\n\u001b[1;32m    724\u001b[0m             \u001b[0;32mtry\u001b[0m\u001b[0;34m:\u001b[0m\u001b[0;34m\u001b[0m\u001b[0;34m\u001b[0m\u001b[0m\n\u001b[0;32m--> 725\u001b[0;31m                 \u001b[0mresult\u001b[0m \u001b[0;34m=\u001b[0m \u001b[0mself\u001b[0m\u001b[0;34m.\u001b[0m\u001b[0m_python_apply_general\u001b[0m\u001b[0;34m(\u001b[0m\u001b[0mf\u001b[0m\u001b[0;34m)\u001b[0m\u001b[0;34m\u001b[0m\u001b[0;34m\u001b[0m\u001b[0m\n\u001b[0m\u001b[1;32m    726\u001b[0m             \u001b[0;32mexcept\u001b[0m \u001b[0mException\u001b[0m\u001b[0;34m:\u001b[0m\u001b[0;34m\u001b[0m\u001b[0;34m\u001b[0m\u001b[0m\n",
      "\u001b[0;32m//anaconda3/envs/oy-env/lib/python3.7/site-packages/pandas/core/groupby/groupby.py\u001b[0m in \u001b[0;36m_python_apply_general\u001b[0;34m(self, f)\u001b[0m\n\u001b[1;32m    741\u001b[0m     \u001b[0;32mdef\u001b[0m \u001b[0m_python_apply_general\u001b[0m\u001b[0;34m(\u001b[0m\u001b[0mself\u001b[0m\u001b[0;34m,\u001b[0m \u001b[0mf\u001b[0m\u001b[0;34m)\u001b[0m\u001b[0;34m:\u001b[0m\u001b[0;34m\u001b[0m\u001b[0;34m\u001b[0m\u001b[0m\n\u001b[0;32m--> 742\u001b[0;31m         \u001b[0mkeys\u001b[0m\u001b[0;34m,\u001b[0m \u001b[0mvalues\u001b[0m\u001b[0;34m,\u001b[0m \u001b[0mmutated\u001b[0m \u001b[0;34m=\u001b[0m \u001b[0mself\u001b[0m\u001b[0;34m.\u001b[0m\u001b[0mgrouper\u001b[0m\u001b[0;34m.\u001b[0m\u001b[0mapply\u001b[0m\u001b[0;34m(\u001b[0m\u001b[0mf\u001b[0m\u001b[0;34m,\u001b[0m \u001b[0mself\u001b[0m\u001b[0;34m.\u001b[0m\u001b[0m_selected_obj\u001b[0m\u001b[0;34m,\u001b[0m \u001b[0mself\u001b[0m\u001b[0;34m.\u001b[0m\u001b[0maxis\u001b[0m\u001b[0;34m)\u001b[0m\u001b[0;34m\u001b[0m\u001b[0;34m\u001b[0m\u001b[0m\n\u001b[0m\u001b[1;32m    743\u001b[0m \u001b[0;34m\u001b[0m\u001b[0m\n",
      "\u001b[0;32m//anaconda3/envs/oy-env/lib/python3.7/site-packages/pandas/core/groupby/ops.py\u001b[0m in \u001b[0;36mapply\u001b[0;34m(self, f, data, axis)\u001b[0m\n\u001b[1;32m    236\u001b[0m             \u001b[0mgroup_axes\u001b[0m \u001b[0;34m=\u001b[0m \u001b[0m_get_axes\u001b[0m\u001b[0;34m(\u001b[0m\u001b[0mgroup\u001b[0m\u001b[0;34m)\u001b[0m\u001b[0;34m\u001b[0m\u001b[0;34m\u001b[0m\u001b[0m\n\u001b[0;32m--> 237\u001b[0;31m             \u001b[0mres\u001b[0m \u001b[0;34m=\u001b[0m \u001b[0mf\u001b[0m\u001b[0;34m(\u001b[0m\u001b[0mgroup\u001b[0m\u001b[0;34m)\u001b[0m\u001b[0;34m\u001b[0m\u001b[0;34m\u001b[0m\u001b[0m\n\u001b[0m\u001b[1;32m    238\u001b[0m             \u001b[0;32mif\u001b[0m \u001b[0;32mnot\u001b[0m \u001b[0m_is_indexed_like\u001b[0m\u001b[0;34m(\u001b[0m\u001b[0mres\u001b[0m\u001b[0;34m,\u001b[0m \u001b[0mgroup_axes\u001b[0m\u001b[0;34m)\u001b[0m\u001b[0;34m:\u001b[0m\u001b[0;34m\u001b[0m\u001b[0;34m\u001b[0m\u001b[0m\n",
      "\u001b[0;32m<ipython-input-163-67b19dce124d>\u001b[0m in \u001b[0;36m<lambda>\u001b[0;34m(x)\u001b[0m\n\u001b[1;32m      3\u001b[0m state_pcts1 = state_office1.groupby(level=0).apply(lambda x:\n\u001b[0;32m----> 4\u001b[0;31m                                                  100 * x / float(x.sum()))\n\u001b[0m",
      "\u001b[0;32m//anaconda3/envs/oy-env/lib/python3.7/site-packages/pandas/core/series.py\u001b[0m in \u001b[0;36mwrapper\u001b[0;34m(self)\u001b[0m\n\u001b[1;32m    129\u001b[0m         \u001b[0;32mif\u001b[0m \u001b[0mlen\u001b[0m\u001b[0;34m(\u001b[0m\u001b[0mself\u001b[0m\u001b[0;34m)\u001b[0m \u001b[0;34m==\u001b[0m \u001b[0;36m1\u001b[0m\u001b[0;34m:\u001b[0m\u001b[0;34m\u001b[0m\u001b[0;34m\u001b[0m\u001b[0m\n\u001b[0;32m--> 130\u001b[0;31m             \u001b[0;32mreturn\u001b[0m \u001b[0mconverter\u001b[0m\u001b[0;34m(\u001b[0m\u001b[0mself\u001b[0m\u001b[0;34m.\u001b[0m\u001b[0miloc\u001b[0m\u001b[0;34m[\u001b[0m\u001b[0;36m0\u001b[0m\u001b[0;34m]\u001b[0m\u001b[0;34m)\u001b[0m\u001b[0;34m\u001b[0m\u001b[0;34m\u001b[0m\u001b[0m\n\u001b[0m\u001b[1;32m    131\u001b[0m         \u001b[0;32mraise\u001b[0m \u001b[0mTypeError\u001b[0m\u001b[0;34m(\u001b[0m\u001b[0;34m\"cannot convert the series to \"\u001b[0m \u001b[0;34m\"{0}\"\u001b[0m\u001b[0;34m.\u001b[0m\u001b[0mformat\u001b[0m\u001b[0;34m(\u001b[0m\u001b[0mstr\u001b[0m\u001b[0;34m(\u001b[0m\u001b[0mconverter\u001b[0m\u001b[0;34m)\u001b[0m\u001b[0;34m)\u001b[0m\u001b[0;34m)\u001b[0m\u001b[0;34m\u001b[0m\u001b[0;34m\u001b[0m\u001b[0m\n",
      "\u001b[0;31mValueError\u001b[0m: could not convert string to float: '16-1816-1816-1816-1819-2119-2119-2119-2119-2119-2119-2119-2119-2119-2119-2119-2119-2119-2119-2119-2119-2119-2119-2119-2119-2119-2119-2119-2119-2119-2119-2119-2119-2119-2119-2119-2119-2119-2119-2119-2119-2119-2119-2119-2119-2119-2119-2119-2122-2422-2422-2422-2422-2422-2422-2422-2422-2422-2422-2422-2422-2422-2422-2422-2422-2422-2422-2422-2422-2422-2422-2422-2422-2422-2422-2422-2422-2422-2422-2422-2422-2422-2422-2422-2422-2422-2422-2422-2422-2422-2422-2422-2422-2422-2422-2422-2422-2422-2422-2422-2422-2422-2422-2422-2422-2422-2422-2422-2422-2422-2422-2422-2422-2422-2422-2422-2422-2422-2422-2422-24'",
      "\nDuring handling of the above exception, another exception occurred:\n",
      "\u001b[0;31mValueError\u001b[0m                                Traceback (most recent call last)",
      "\u001b[0;32m<ipython-input-163-67b19dce124d>\u001b[0m in \u001b[0;36m<module>\u001b[0;34m\u001b[0m\n\u001b[1;32m      1\u001b[0m \u001b[0mstate_office1\u001b[0m \u001b[0;34m=\u001b[0m \u001b[0mwas_rm_OY\u001b[0m\u001b[0;34m.\u001b[0m\u001b[0mgroupby\u001b[0m\u001b[0;34m(\u001b[0m\u001b[0;34m[\u001b[0m\u001b[0;34m'Edu_attain'\u001b[0m\u001b[0;34m,\u001b[0m \u001b[0;34m'Age_Group'\u001b[0m\u001b[0;34m]\u001b[0m\u001b[0;34m)\u001b[0m\u001b[0;34m.\u001b[0m\u001b[0magg\u001b[0m\u001b[0;34m(\u001b[0m\u001b[0;34m{\u001b[0m\u001b[0;34m'Age_Group'\u001b[0m\u001b[0;34m:\u001b[0m \u001b[0;34m'sum'\u001b[0m\u001b[0;34m}\u001b[0m\u001b[0;34m)\u001b[0m\u001b[0;34m\u001b[0m\u001b[0;34m\u001b[0m\u001b[0m\n\u001b[1;32m      2\u001b[0m \u001b[0;31m# Change: groupby state_office and divide by sum\u001b[0m\u001b[0;34m\u001b[0m\u001b[0;34m\u001b[0m\u001b[0;34m\u001b[0m\u001b[0m\n\u001b[0;32m----> 3\u001b[0;31m state_pcts1 = state_office1.groupby(level=0).apply(lambda x:\n\u001b[0m\u001b[1;32m      4\u001b[0m                                                  100 * x / float(x.sum()))\n",
      "\u001b[0;32m//anaconda3/envs/oy-env/lib/python3.7/site-packages/pandas/core/groupby/groupby.py\u001b[0m in \u001b[0;36mapply\u001b[0;34m(self, func, *args, **kwargs)\u001b[0m\n\u001b[1;32m    735\u001b[0m \u001b[0;34m\u001b[0m\u001b[0m\n\u001b[1;32m    736\u001b[0m                 \u001b[0;32mwith\u001b[0m \u001b[0m_group_selection_context\u001b[0m\u001b[0;34m(\u001b[0m\u001b[0mself\u001b[0m\u001b[0;34m)\u001b[0m\u001b[0;34m:\u001b[0m\u001b[0;34m\u001b[0m\u001b[0;34m\u001b[0m\u001b[0m\n\u001b[0;32m--> 737\u001b[0;31m                     \u001b[0;32mreturn\u001b[0m \u001b[0mself\u001b[0m\u001b[0;34m.\u001b[0m\u001b[0m_python_apply_general\u001b[0m\u001b[0;34m(\u001b[0m\u001b[0mf\u001b[0m\u001b[0;34m)\u001b[0m\u001b[0;34m\u001b[0m\u001b[0;34m\u001b[0m\u001b[0m\n\u001b[0m\u001b[1;32m    738\u001b[0m \u001b[0;34m\u001b[0m\u001b[0m\n\u001b[1;32m    739\u001b[0m         \u001b[0;32mreturn\u001b[0m \u001b[0mresult\u001b[0m\u001b[0;34m\u001b[0m\u001b[0;34m\u001b[0m\u001b[0m\n",
      "\u001b[0;32m//anaconda3/envs/oy-env/lib/python3.7/site-packages/pandas/core/groupby/groupby.py\u001b[0m in \u001b[0;36m_python_apply_general\u001b[0;34m(self, f)\u001b[0m\n\u001b[1;32m    740\u001b[0m \u001b[0;34m\u001b[0m\u001b[0m\n\u001b[1;32m    741\u001b[0m     \u001b[0;32mdef\u001b[0m \u001b[0m_python_apply_general\u001b[0m\u001b[0;34m(\u001b[0m\u001b[0mself\u001b[0m\u001b[0;34m,\u001b[0m \u001b[0mf\u001b[0m\u001b[0;34m)\u001b[0m\u001b[0;34m:\u001b[0m\u001b[0;34m\u001b[0m\u001b[0;34m\u001b[0m\u001b[0m\n\u001b[0;32m--> 742\u001b[0;31m         \u001b[0mkeys\u001b[0m\u001b[0;34m,\u001b[0m \u001b[0mvalues\u001b[0m\u001b[0;34m,\u001b[0m \u001b[0mmutated\u001b[0m \u001b[0;34m=\u001b[0m \u001b[0mself\u001b[0m\u001b[0;34m.\u001b[0m\u001b[0mgrouper\u001b[0m\u001b[0;34m.\u001b[0m\u001b[0mapply\u001b[0m\u001b[0;34m(\u001b[0m\u001b[0mf\u001b[0m\u001b[0;34m,\u001b[0m \u001b[0mself\u001b[0m\u001b[0;34m.\u001b[0m\u001b[0m_selected_obj\u001b[0m\u001b[0;34m,\u001b[0m \u001b[0mself\u001b[0m\u001b[0;34m.\u001b[0m\u001b[0maxis\u001b[0m\u001b[0;34m)\u001b[0m\u001b[0;34m\u001b[0m\u001b[0;34m\u001b[0m\u001b[0m\n\u001b[0m\u001b[1;32m    743\u001b[0m \u001b[0;34m\u001b[0m\u001b[0m\n\u001b[1;32m    744\u001b[0m         return self._wrap_applied_output(\n",
      "\u001b[0;32m//anaconda3/envs/oy-env/lib/python3.7/site-packages/pandas/core/groupby/ops.py\u001b[0m in \u001b[0;36mapply\u001b[0;34m(self, f, data, axis)\u001b[0m\n\u001b[1;32m    235\u001b[0m             \u001b[0;31m# group might be modified\u001b[0m\u001b[0;34m\u001b[0m\u001b[0;34m\u001b[0m\u001b[0;34m\u001b[0m\u001b[0m\n\u001b[1;32m    236\u001b[0m             \u001b[0mgroup_axes\u001b[0m \u001b[0;34m=\u001b[0m \u001b[0m_get_axes\u001b[0m\u001b[0;34m(\u001b[0m\u001b[0mgroup\u001b[0m\u001b[0;34m)\u001b[0m\u001b[0;34m\u001b[0m\u001b[0;34m\u001b[0m\u001b[0m\n\u001b[0;32m--> 237\u001b[0;31m             \u001b[0mres\u001b[0m \u001b[0;34m=\u001b[0m \u001b[0mf\u001b[0m\u001b[0;34m(\u001b[0m\u001b[0mgroup\u001b[0m\u001b[0;34m)\u001b[0m\u001b[0;34m\u001b[0m\u001b[0;34m\u001b[0m\u001b[0m\n\u001b[0m\u001b[1;32m    238\u001b[0m             \u001b[0;32mif\u001b[0m \u001b[0;32mnot\u001b[0m \u001b[0m_is_indexed_like\u001b[0m\u001b[0;34m(\u001b[0m\u001b[0mres\u001b[0m\u001b[0;34m,\u001b[0m \u001b[0mgroup_axes\u001b[0m\u001b[0;34m)\u001b[0m\u001b[0;34m:\u001b[0m\u001b[0;34m\u001b[0m\u001b[0;34m\u001b[0m\u001b[0m\n\u001b[1;32m    239\u001b[0m                 \u001b[0mmutated\u001b[0m \u001b[0;34m=\u001b[0m \u001b[0;32mTrue\u001b[0m\u001b[0;34m\u001b[0m\u001b[0;34m\u001b[0m\u001b[0m\n",
      "\u001b[0;32m<ipython-input-163-67b19dce124d>\u001b[0m in \u001b[0;36m<lambda>\u001b[0;34m(x)\u001b[0m\n\u001b[1;32m      2\u001b[0m \u001b[0;31m# Change: groupby state_office and divide by sum\u001b[0m\u001b[0;34m\u001b[0m\u001b[0;34m\u001b[0m\u001b[0;34m\u001b[0m\u001b[0m\n\u001b[1;32m      3\u001b[0m state_pcts1 = state_office1.groupby(level=0).apply(lambda x:\n\u001b[0;32m----> 4\u001b[0;31m                                                  100 * x / float(x.sum()))\n\u001b[0m",
      "\u001b[0;32m//anaconda3/envs/oy-env/lib/python3.7/site-packages/pandas/core/series.py\u001b[0m in \u001b[0;36mwrapper\u001b[0;34m(self)\u001b[0m\n\u001b[1;32m    128\u001b[0m     \u001b[0;32mdef\u001b[0m \u001b[0mwrapper\u001b[0m\u001b[0;34m(\u001b[0m\u001b[0mself\u001b[0m\u001b[0;34m)\u001b[0m\u001b[0;34m:\u001b[0m\u001b[0;34m\u001b[0m\u001b[0;34m\u001b[0m\u001b[0m\n\u001b[1;32m    129\u001b[0m         \u001b[0;32mif\u001b[0m \u001b[0mlen\u001b[0m\u001b[0;34m(\u001b[0m\u001b[0mself\u001b[0m\u001b[0;34m)\u001b[0m \u001b[0;34m==\u001b[0m \u001b[0;36m1\u001b[0m\u001b[0;34m:\u001b[0m\u001b[0;34m\u001b[0m\u001b[0;34m\u001b[0m\u001b[0m\n\u001b[0;32m--> 130\u001b[0;31m             \u001b[0;32mreturn\u001b[0m \u001b[0mconverter\u001b[0m\u001b[0;34m(\u001b[0m\u001b[0mself\u001b[0m\u001b[0;34m.\u001b[0m\u001b[0miloc\u001b[0m\u001b[0;34m[\u001b[0m\u001b[0;36m0\u001b[0m\u001b[0;34m]\u001b[0m\u001b[0;34m)\u001b[0m\u001b[0;34m\u001b[0m\u001b[0;34m\u001b[0m\u001b[0m\n\u001b[0m\u001b[1;32m    131\u001b[0m         \u001b[0;32mraise\u001b[0m \u001b[0mTypeError\u001b[0m\u001b[0;34m(\u001b[0m\u001b[0;34m\"cannot convert the series to \"\u001b[0m \u001b[0;34m\"{0}\"\u001b[0m\u001b[0;34m.\u001b[0m\u001b[0mformat\u001b[0m\u001b[0;34m(\u001b[0m\u001b[0mstr\u001b[0m\u001b[0;34m(\u001b[0m\u001b[0mconverter\u001b[0m\u001b[0;34m)\u001b[0m\u001b[0;34m)\u001b[0m\u001b[0;34m)\u001b[0m\u001b[0;34m\u001b[0m\u001b[0;34m\u001b[0m\u001b[0m\n\u001b[1;32m    132\u001b[0m \u001b[0;34m\u001b[0m\u001b[0m\n",
      "\u001b[0;31mValueError\u001b[0m: could not convert string to float: '16-1816-1816-1816-1819-2119-2119-2119-2119-2119-2119-2119-2119-2119-2119-2119-2119-2119-2119-2119-2119-2119-2119-2119-2119-2119-2119-2119-2119-2119-2119-2119-2119-2119-2119-2119-2119-2119-2119-2119-2119-2119-2119-2119-2119-2119-2119-2119-2122-2422-2422-2422-2422-2422-2422-2422-2422-2422-2422-2422-2422-2422-2422-2422-2422-2422-2422-2422-2422-2422-2422-2422-2422-2422-2422-2422-2422-2422-2422-2422-2422-2422-2422-2422-2422-2422-2422-2422-2422-2422-2422-2422-2422-2422-2422-2422-2422-2422-2422-2422-2422-2422-2422-2422-2422-2422-2422-2422-2422-2422-2422-2422-2422-2422-2422-2422-2422-2422-2422-2422-24'"
     ]
    }
   ],
   "source": [
    "state_office1 = was_rm_OY.groupby(['Edu_attain', 'Age_Group']).agg({'Age_Group': 'sum'})\n",
    "# Change: groupby state_office and divide by sum\n",
    "state_pcts1 = state_office1.groupby(level=0).apply(lambda x:\n",
    "                                                  / float(x.sum()))"
   ]
  },
  {
   "cell_type": "code",
   "execution_count": null,
   "metadata": {},
   "outputs": [],
   "source": []
  },
  {
   "cell_type": "code",
   "execution_count": null,
   "metadata": {},
   "outputs": [],
   "source": []
  },
  {
   "cell_type": "code",
   "execution_count": 152,
   "metadata": {},
   "outputs": [],
   "source": [
    "import numpy as np\n",
    "import pandas as pd\n",
    "np.random.seed(0)\n",
    "df = pd.DataFrame({'state': ['CA', 'WA', 'CO', 'AZ'] * 3,\n",
    "                   'office_id': list(range(1, 7)) * 2,\n",
    "                   'sales': [np.random.randint(100000, 999999)\n",
    "                             for _ in range(12)]})"
   ]
  },
  {
   "cell_type": "code",
   "execution_count": 153,
   "metadata": {},
   "outputs": [
    {
     "data": {
      "text/html": [
       "<div>\n",
       "<style scoped>\n",
       "    .dataframe tbody tr th:only-of-type {\n",
       "        vertical-align: middle;\n",
       "    }\n",
       "\n",
       "    .dataframe tbody tr th {\n",
       "        vertical-align: top;\n",
       "    }\n",
       "\n",
       "    .dataframe thead th {\n",
       "        text-align: right;\n",
       "    }\n",
       "</style>\n",
       "<table border=\"1\" class=\"dataframe\">\n",
       "  <thead>\n",
       "    <tr style=\"text-align: right;\">\n",
       "      <th></th>\n",
       "      <th>state</th>\n",
       "      <th>office_id</th>\n",
       "      <th>sales</th>\n",
       "    </tr>\n",
       "  </thead>\n",
       "  <tbody>\n",
       "    <tr>\n",
       "      <th>0</th>\n",
       "      <td>CA</td>\n",
       "      <td>1</td>\n",
       "      <td>405711</td>\n",
       "    </tr>\n",
       "    <tr>\n",
       "      <th>1</th>\n",
       "      <td>WA</td>\n",
       "      <td>2</td>\n",
       "      <td>535829</td>\n",
       "    </tr>\n",
       "    <tr>\n",
       "      <th>2</th>\n",
       "      <td>CO</td>\n",
       "      <td>3</td>\n",
       "      <td>217952</td>\n",
       "    </tr>\n",
       "    <tr>\n",
       "      <th>3</th>\n",
       "      <td>AZ</td>\n",
       "      <td>4</td>\n",
       "      <td>252315</td>\n",
       "    </tr>\n",
       "    <tr>\n",
       "      <th>4</th>\n",
       "      <td>CA</td>\n",
       "      <td>5</td>\n",
       "      <td>982371</td>\n",
       "    </tr>\n",
       "  </tbody>\n",
       "</table>\n",
       "</div>"
      ],
      "text/plain": [
       "  state  office_id   sales\n",
       "0    CA          1  405711\n",
       "1    WA          2  535829\n",
       "2    CO          3  217952\n",
       "3    AZ          4  252315\n",
       "4    CA          5  982371"
      ]
     },
     "execution_count": 153,
     "metadata": {},
     "output_type": "execute_result"
    }
   ],
   "source": [
    "df.head()"
   ]
  },
  {
   "cell_type": "code",
   "execution_count": 155,
   "metadata": {},
   "outputs": [],
   "source": [
    "state_office = df.groupby(['state', 'office_id']).agg({'sales': 'sum'})\n",
    "# Change: groupby state_office and divide by sum\n",
    "state_pcts = state_office.groupby(level=0).apply(lambda x:\n",
    "                                                 100 * x / float(x.sum()))"
   ]
  },
  {
   "cell_type": "code",
   "execution_count": 157,
   "metadata": {},
   "outputs": [
    {
     "data": {
      "text/html": [
       "<div>\n",
       "<style scoped>\n",
       "    .dataframe tbody tr th:only-of-type {\n",
       "        vertical-align: middle;\n",
       "    }\n",
       "\n",
       "    .dataframe tbody tr th {\n",
       "        vertical-align: top;\n",
       "    }\n",
       "\n",
       "    .dataframe thead th {\n",
       "        text-align: right;\n",
       "    }\n",
       "</style>\n",
       "<table border=\"1\" class=\"dataframe\">\n",
       "  <thead>\n",
       "    <tr style=\"text-align: right;\">\n",
       "      <th></th>\n",
       "      <th></th>\n",
       "      <th>sales</th>\n",
       "    </tr>\n",
       "    <tr>\n",
       "      <th>state</th>\n",
       "      <th>office_id</th>\n",
       "      <th></th>\n",
       "    </tr>\n",
       "  </thead>\n",
       "  <tbody>\n",
       "    <tr>\n",
       "      <th rowspan=\"3\" valign=\"top\">AZ</th>\n",
       "      <th>2</th>\n",
       "      <td>222579</td>\n",
       "    </tr>\n",
       "    <tr>\n",
       "      <th>4</th>\n",
       "      <td>252315</td>\n",
       "    </tr>\n",
       "    <tr>\n",
       "      <th>6</th>\n",
       "      <td>835831</td>\n",
       "    </tr>\n",
       "    <tr>\n",
       "      <th rowspan=\"2\" valign=\"top\">CA</th>\n",
       "      <th>1</th>\n",
       "      <td>405711</td>\n",
       "    </tr>\n",
       "    <tr>\n",
       "      <th>3</th>\n",
       "      <td>710581</td>\n",
       "    </tr>\n",
       "  </tbody>\n",
       "</table>\n",
       "</div>"
      ],
      "text/plain": [
       "                  sales\n",
       "state office_id        \n",
       "AZ    2          222579\n",
       "      4          252315\n",
       "      6          835831\n",
       "CA    1          405711\n",
       "      3          710581"
      ]
     },
     "execution_count": 157,
     "metadata": {},
     "output_type": "execute_result"
    }
   ],
   "source": [
    "state_office.head()"
   ]
  },
  {
   "cell_type": "code",
   "execution_count": 156,
   "metadata": {},
   "outputs": [
    {
     "data": {
      "text/html": [
       "<div>\n",
       "<style scoped>\n",
       "    .dataframe tbody tr th:only-of-type {\n",
       "        vertical-align: middle;\n",
       "    }\n",
       "\n",
       "    .dataframe tbody tr th {\n",
       "        vertical-align: top;\n",
       "    }\n",
       "\n",
       "    .dataframe thead th {\n",
       "        text-align: right;\n",
       "    }\n",
       "</style>\n",
       "<table border=\"1\" class=\"dataframe\">\n",
       "  <thead>\n",
       "    <tr style=\"text-align: right;\">\n",
       "      <th></th>\n",
       "      <th></th>\n",
       "      <th>sales</th>\n",
       "    </tr>\n",
       "    <tr>\n",
       "      <th>state</th>\n",
       "      <th>office_id</th>\n",
       "      <th></th>\n",
       "    </tr>\n",
       "  </thead>\n",
       "  <tbody>\n",
       "    <tr>\n",
       "      <th rowspan=\"3\" valign=\"top\">AZ</th>\n",
       "      <th>2</th>\n",
       "      <td>16.981365</td>\n",
       "    </tr>\n",
       "    <tr>\n",
       "      <th>4</th>\n",
       "      <td>19.250033</td>\n",
       "    </tr>\n",
       "    <tr>\n",
       "      <th>6</th>\n",
       "      <td>63.768601</td>\n",
       "    </tr>\n",
       "    <tr>\n",
       "      <th rowspan=\"3\" valign=\"top\">CA</th>\n",
       "      <th>1</th>\n",
       "      <td>19.331879</td>\n",
       "    </tr>\n",
       "    <tr>\n",
       "      <th>3</th>\n",
       "      <td>33.858747</td>\n",
       "    </tr>\n",
       "    <tr>\n",
       "      <th>5</th>\n",
       "      <td>46.809373</td>\n",
       "    </tr>\n",
       "    <tr>\n",
       "      <th rowspan=\"3\" valign=\"top\">CO</th>\n",
       "      <th>1</th>\n",
       "      <td>36.851857</td>\n",
       "    </tr>\n",
       "    <tr>\n",
       "      <th>3</th>\n",
       "      <td>19.874290</td>\n",
       "    </tr>\n",
       "    <tr>\n",
       "      <th>5</th>\n",
       "      <td>43.273852</td>\n",
       "    </tr>\n",
       "    <tr>\n",
       "      <th rowspan=\"3\" valign=\"top\">WA</th>\n",
       "      <th>2</th>\n",
       "      <td>34.707233</td>\n",
       "    </tr>\n",
       "    <tr>\n",
       "      <th>4</th>\n",
       "      <td>35.511259</td>\n",
       "    </tr>\n",
       "    <tr>\n",
       "      <th>6</th>\n",
       "      <td>29.781508</td>\n",
       "    </tr>\n",
       "  </tbody>\n",
       "</table>\n",
       "</div>"
      ],
      "text/plain": [
       "                     sales\n",
       "state office_id           \n",
       "AZ    2          16.981365\n",
       "      4          19.250033\n",
       "      6          63.768601\n",
       "CA    1          19.331879\n",
       "      3          33.858747\n",
       "      5          46.809373\n",
       "CO    1          36.851857\n",
       "      3          19.874290\n",
       "      5          43.273852\n",
       "WA    2          34.707233\n",
       "      4          35.511259\n",
       "      6          29.781508"
      ]
     },
     "execution_count": 156,
     "metadata": {},
     "output_type": "execute_result"
    }
   ],
   "source": [
    "state_pcts"
   ]
  },
  {
   "cell_type": "code",
   "execution_count": 168,
   "metadata": {},
   "outputs": [],
   "source": [
    "xx = was_rm_OY['Age_Group'].value_counts()"
   ]
  },
  {
   "cell_type": "code",
   "execution_count": 169,
   "metadata": {},
   "outputs": [
    {
     "data": {
      "text/plain": [
       "pandas.core.series.Series"
      ]
     },
     "execution_count": 169,
     "metadata": {},
     "output_type": "execute_result"
    }
   ],
   "source": [
    "type(xx)"
   ]
  },
  {
   "cell_type": "code",
   "execution_count": 170,
   "metadata": {},
   "outputs": [
    {
     "data": {
      "text/plain": [
       "16-18    1020\n",
       "19-21     416\n",
       "22-24     299\n",
       "Name: Age_Group, dtype: int64"
      ]
     },
     "execution_count": 170,
     "metadata": {},
     "output_type": "execute_result"
    }
   ],
   "source": [
    "xx"
   ]
  },
  {
   "cell_type": "markdown",
   "metadata": {},
   "source": [
    "The SRP has asked that any extra time remaining be used to create the following items:\n",
    "\n",
    "Create a choropleth map of the count of OY by PUMA within South King County;\n",
    "\n",
    "For South King County, create a choropleth map that shows the percentage of jobs for workers age 29 or younger out of the total number of jobs per census block; and\n",
    "\n",
    "Of the census blocks where jobs for workers age 29 or younger are the majority of employed people, what are a few of the industries that employ this group of people?"
   ]
  },
  {
   "cell_type": "code",
   "execution_count": 210,
   "metadata": {},
   "outputs": [],
   "source": [
    "fp = \"/Users/naweedahmed/Desktop/Flatiron_Feb/project_one_feb/opportunity_youth/data/raw/tl_2017_53_puma10/tl_2017_53_puma10.shp\""
   ]
  },
  {
   "cell_type": "code",
   "execution_count": 214,
   "metadata": {},
   "outputs": [],
   "source": [
    "map_df = gpd.read_file(fp)"
   ]
  },
  {
   "cell_type": "code",
   "execution_count": 215,
   "metadata": {},
   "outputs": [
    {
     "data": {
      "text/html": [
       "<div>\n",
       "<style scoped>\n",
       "    .dataframe tbody tr th:only-of-type {\n",
       "        vertical-align: middle;\n",
       "    }\n",
       "\n",
       "    .dataframe tbody tr th {\n",
       "        vertical-align: top;\n",
       "    }\n",
       "\n",
       "    .dataframe thead th {\n",
       "        text-align: right;\n",
       "    }\n",
       "</style>\n",
       "<table border=\"1\" class=\"dataframe\">\n",
       "  <thead>\n",
       "    <tr style=\"text-align: right;\">\n",
       "      <th></th>\n",
       "      <th>STATEFP10</th>\n",
       "      <th>PUMACE10</th>\n",
       "      <th>GEOID10</th>\n",
       "      <th>NAMELSAD10</th>\n",
       "      <th>MTFCC10</th>\n",
       "      <th>FUNCSTAT10</th>\n",
       "      <th>ALAND10</th>\n",
       "      <th>AWATER10</th>\n",
       "      <th>INTPTLAT10</th>\n",
       "      <th>INTPTLON10</th>\n",
       "      <th>geometry</th>\n",
       "    </tr>\n",
       "  </thead>\n",
       "  <tbody>\n",
       "    <tr>\n",
       "      <th>0</th>\n",
       "      <td>53</td>\n",
       "      <td>10200</td>\n",
       "      <td>5310200</td>\n",
       "      <td>Skagit, Island &amp; San Juan Counties PUMA</td>\n",
       "      <td>G6120</td>\n",
       "      <td>S</td>\n",
       "      <td>5470622131</td>\n",
       "      <td>2441658886</td>\n",
       "      <td>+48.4470835</td>\n",
       "      <td>-122.1737477</td>\n",
       "      <td>POLYGON ((-122.44422 48.64527, -122.43685 48.6...</td>\n",
       "    </tr>\n",
       "    <tr>\n",
       "      <th>1</th>\n",
       "      <td>53</td>\n",
       "      <td>10100</td>\n",
       "      <td>5310100</td>\n",
       "      <td>Whatcom County--Bellingham City PUMA</td>\n",
       "      <td>G6120</td>\n",
       "      <td>S</td>\n",
       "      <td>5459332804</td>\n",
       "      <td>1028183246</td>\n",
       "      <td>+48.8426531</td>\n",
       "      <td>-121.8364325</td>\n",
       "      <td>POLYGON ((-122.40642 49.00230, -122.40617 49.0...</td>\n",
       "    </tr>\n",
       "    <tr>\n",
       "      <th>2</th>\n",
       "      <td>53</td>\n",
       "      <td>10400</td>\n",
       "      <td>5310400</td>\n",
       "      <td>Stevens, Okanogan, Pend Oreille &amp; Ferry Counti...</td>\n",
       "      <td>G6120</td>\n",
       "      <td>S</td>\n",
       "      <td>29389124389</td>\n",
       "      <td>489162432</td>\n",
       "      <td>+48.5031090</td>\n",
       "      <td>-118.7866777</td>\n",
       "      <td>POLYGON ((-118.14859 47.88667, -118.14899 47.8...</td>\n",
       "    </tr>\n",
       "    <tr>\n",
       "      <th>3</th>\n",
       "      <td>53</td>\n",
       "      <td>10504</td>\n",
       "      <td>5310504</td>\n",
       "      <td>Spokane County (Outer)--Cheney City PUMA</td>\n",
       "      <td>G6120</td>\n",
       "      <td>S</td>\n",
       "      <td>3983412021</td>\n",
       "      <td>35812133</td>\n",
       "      <td>+47.5972847</td>\n",
       "      <td>-117.1210417</td>\n",
       "      <td>POLYGON ((-117.10528 47.61018, -117.10527 47.6...</td>\n",
       "    </tr>\n",
       "    <tr>\n",
       "      <th>4</th>\n",
       "      <td>53</td>\n",
       "      <td>10503</td>\n",
       "      <td>5310503</td>\n",
       "      <td>Spokane County (East Central)--Greater Spokane...</td>\n",
       "      <td>G6120</td>\n",
       "      <td>S</td>\n",
       "      <td>270926976</td>\n",
       "      <td>5004332</td>\n",
       "      <td>+47.6561281</td>\n",
       "      <td>-117.1818649</td>\n",
       "      <td>POLYGON ((-117.15534 47.69971, -117.15509 47.6...</td>\n",
       "    </tr>\n",
       "  </tbody>\n",
       "</table>\n",
       "</div>"
      ],
      "text/plain": [
       "  STATEFP10 PUMACE10  GEOID10  \\\n",
       "0        53    10200  5310200   \n",
       "1        53    10100  5310100   \n",
       "2        53    10400  5310400   \n",
       "3        53    10504  5310504   \n",
       "4        53    10503  5310503   \n",
       "\n",
       "                                          NAMELSAD10 MTFCC10 FUNCSTAT10  \\\n",
       "0            Skagit, Island & San Juan Counties PUMA   G6120          S   \n",
       "1               Whatcom County--Bellingham City PUMA   G6120          S   \n",
       "2  Stevens, Okanogan, Pend Oreille & Ferry Counti...   G6120          S   \n",
       "3           Spokane County (Outer)--Cheney City PUMA   G6120          S   \n",
       "4  Spokane County (East Central)--Greater Spokane...   G6120          S   \n",
       "\n",
       "       ALAND10    AWATER10   INTPTLAT10    INTPTLON10  \\\n",
       "0   5470622131  2441658886  +48.4470835  -122.1737477   \n",
       "1   5459332804  1028183246  +48.8426531  -121.8364325   \n",
       "2  29389124389   489162432  +48.5031090  -118.7866777   \n",
       "3   3983412021    35812133  +47.5972847  -117.1210417   \n",
       "4    270926976     5004332  +47.6561281  -117.1818649   \n",
       "\n",
       "                                            geometry  \n",
       "0  POLYGON ((-122.44422 48.64527, -122.43685 48.6...  \n",
       "1  POLYGON ((-122.40642 49.00230, -122.40617 49.0...  \n",
       "2  POLYGON ((-118.14859 47.88667, -118.14899 47.8...  \n",
       "3  POLYGON ((-117.10528 47.61018, -117.10527 47.6...  \n",
       "4  POLYGON ((-117.15534 47.69971, -117.15509 47.6...  "
      ]
     },
     "execution_count": 215,
     "metadata": {},
     "output_type": "execute_result"
    }
   ],
   "source": [
    "map_df.head()"
   ]
  },
  {
   "cell_type": "code",
   "execution_count": null,
   "metadata": {},
   "outputs": [],
   "source": []
  },
  {
   "cell_type": "code",
   "execution_count": 223,
   "metadata": {},
   "outputs": [
    {
     "data": {
      "text/plain": [
       "<matplotlib.axes._subplots.AxesSubplot at 0x11c986be0>"
      ]
     },
     "execution_count": 223,
     "metadata": {},
     "output_type": "execute_result"
    },
    {
     "data": {
      "image/png": "[encoded data removed]",
      "text/plain": [
       "<Figure size 432x288 with 1 Axes>"
      ]
     },
     "metadata": {
      "needs_background": "light"
     },
     "output_type": "display_data"
    }
   ],
   "source": [
    "map_df.plot()"
   ]
  },
  {
   "cell_type": "code",
   "execution_count": 228,
   "metadata": {},
   "outputs": [],
   "source": [
    "KC_cities = pd.read_csv(\"KC_cities.csv\")"
   ]
  },
  {
   "cell_type": "code",
   "execution_count": null,
   "metadata": {},
   "outputs": [],
   "source": []
  }
 ],
 "metadata": {
  "kernelspec": {
   "display_name": "oy-env",
   "language": "python",
   "name": "oy-env"
  },
  "language_info": {
   "codemirror_mode": {
    "name": "ipython",
    "version": 3
   },
   "file_extension": ".py",
   "mimetype": "text/x-python",
   "name": "python",
   "nbconvert_exporter": "python",
   "pygments_lexer": "ipython3",
   "version": "3.7.3"
  }
 },
 "nbformat": 4,
 "nbformat_minor": 4
}
