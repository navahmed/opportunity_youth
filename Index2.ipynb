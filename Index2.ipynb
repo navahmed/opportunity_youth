{
 "cells": [
  {
   "cell_type": "markdown",
   "metadata": {},
   "source": []
  },
  {
   "cell_type": "code",
   "execution_count": 1,
   "metadata": {},
   "outputs": [],
   "source": [
    "#Importing necessary libraries.\n",
    "import pandas as pd\n",
    "import folium\n",
    "import geopandas as gpd\n",
    "import descartes\n",
    "from shapely.geometry import Point, Polygon\n",
    "import matplotlib.pyplot as plt\n",
    "%matplotlib inline"
   ]
  },
  {
   "cell_type": "markdown",
   "metadata": {},
   "source": [
    "The purpose of this study is to provide the SRP with an updated account of the South King County, Washington Opportunity Youth. Opportunity Youth is defined as individuals aged between 16 and 25, not working and not enrolled in school. The previous report was published in 2016, and we will be looking to provide an update of 2017's incremental amount. We will be looking to answer the following questions for the SRP.\n",
    "\n",
    "We will be looking to provide SRP with the following:\n",
    "\n",
    "\n",
    "1) A map visualising the King County area and highlight the South King County area.\n",
    "\n",
    "2) An updated estimate of total Opportunity Youth in the South King County area as of 2017.\n",
    "\n",
    "3) An updated table from page 2 of the 2016 data brief.\n",
    "\n",
    "4) A visualisation of a tend between 2016 and 2017\n"
   ]
  },
  {
   "cell_type": "markdown",
   "metadata": {},
   "source": [
    "# Question 1:"
   ]
  },
  {
   "cell_type": "markdown",
   "metadata": {},
   "source": [
    "A map that visualizes which parts of King County are a part of South King County"
   ]
  },
  {
   "cell_type": "markdown",
   "metadata": {},
   "source": [
    "To begin with, we will need to idenitfy the cities which are part of South King County. Based on information from Google, we found out that the following cities are a part of South King County:\n",
    "\n",
    "Auburn,Burien, Covington, Des Monies, Enumclaw, Federal Way, Kent, Maple Valley, Normandy Park,Renton, Tukwikla, SeaTac, White Center, Boulevard Park and Vashon.\n",
    "\n",
    "We used the following SQL query to extract a table with the PUMA IDs from the puma_names_2010 table."
   ]
  },
  {
   "cell_type": "markdown",
   "metadata": {},
   "source": [
    "The SQL query we used to obtain this table is as follows:"
   ]
  },
  {
   "cell_type": "markdown",
   "metadata": {},
   "source": [
    "```SQL\n",
    "SELECT\n",
    "    * \n",
    "FROM \n",
    "    puma_names_2010\n",
    "WHERE \n",
    "    puma_name LIKE '%Auburn%'\n",
    "    OR puma_name LIKE '%Federal Way%'\n",
    "    OR puma_name LIKE '%Kent%'\n",
    "    OR puma_name LIKE '%Renton%'\n",
    "    OR puma_name LIKE '%Tukwila%'\n",
    "    OR puma_name LIKE '%Highline%';\n",
    "```"
   ]
  },
  {
   "cell_type": "code",
   "execution_count": 2,
   "metadata": {},
   "outputs": [],
   "source": [
    "#Assigned the saved csv file as a dataframe to the variable pum_was\n",
    "pum_was = pd.read_csv('puma_was.csv')"
   ]
  },
  {
   "cell_type": "code",
   "execution_count": 3,
   "metadata": {},
   "outputs": [
    {
     "data": {
      "text/html": [
       "<div>\n",
       "<style scoped>\n",
       "    .dataframe tbody tr th:only-of-type {\n",
       "        vertical-align: middle;\n",
       "    }\n",
       "\n",
       "    .dataframe tbody tr th {\n",
       "        vertical-align: top;\n",
       "    }\n",
       "\n",
       "    .dataframe thead th {\n",
       "        text-align: right;\n",
       "    }\n",
       "</style>\n",
       "<table border=\"1\" class=\"dataframe\">\n",
       "  <thead>\n",
       "    <tr style=\"text-align: right;\">\n",
       "      <th></th>\n",
       "      <th>state_fips</th>\n",
       "      <th>state_name</th>\n",
       "      <th>cpuma0010</th>\n",
       "      <th>puma</th>\n",
       "      <th>geoid</th>\n",
       "      <th>gisjoin</th>\n",
       "      <th>puma_name</th>\n",
       "    </tr>\n",
       "  </thead>\n",
       "  <tbody>\n",
       "    <tr>\n",
       "      <th>0</th>\n",
       "      <td>1</td>\n",
       "      <td>Alabama                                       ...</td>\n",
       "      <td>14</td>\n",
       "      <td>1900</td>\n",
       "      <td>101900</td>\n",
       "      <td>G01001900</td>\n",
       "      <td>Lee County--Auburn City                       ...</td>\n",
       "    </tr>\n",
       "    <tr>\n",
       "      <th>1</th>\n",
       "      <td>1</td>\n",
       "      <td>Alabama                                       ...</td>\n",
       "      <td>16</td>\n",
       "      <td>2300</td>\n",
       "      <td>102300</td>\n",
       "      <td>G01002300</td>\n",
       "      <td>Coffee, Covington, Butler &amp; Crenshaw Counties ...</td>\n",
       "    </tr>\n",
       "    <tr>\n",
       "      <th>2</th>\n",
       "      <td>6</td>\n",
       "      <td>California                                    ...</td>\n",
       "      <td>108</td>\n",
       "      <td>6103</td>\n",
       "      <td>606103</td>\n",
       "      <td>G06006103</td>\n",
       "      <td>Placer County (East/High Country Region)--Aubu...</td>\n",
       "    </tr>\n",
       "    <tr>\n",
       "      <th>3</th>\n",
       "      <td>10</td>\n",
       "      <td>Delaware                                      ...</td>\n",
       "      <td>198</td>\n",
       "      <td>200</td>\n",
       "      <td>1000200</td>\n",
       "      <td>G10000200</td>\n",
       "      <td>Kent County--Dover City                       ...</td>\n",
       "    </tr>\n",
       "    <tr>\n",
       "      <th>4</th>\n",
       "      <td>17</td>\n",
       "      <td>Illinois                                      ...</td>\n",
       "      <td>337</td>\n",
       "      <td>3531</td>\n",
       "      <td>1703531</td>\n",
       "      <td>G17003531</td>\n",
       "      <td>Chicago City (South)--Auburn Gresham, Roseland...</td>\n",
       "    </tr>\n",
       "  </tbody>\n",
       "</table>\n",
       "</div>"
      ],
      "text/plain": [
       "   state_fips                                         state_name  cpuma0010  \\\n",
       "0           1  Alabama                                       ...         14   \n",
       "1           1  Alabama                                       ...         16   \n",
       "2           6  California                                    ...        108   \n",
       "3          10  Delaware                                      ...        198   \n",
       "4          17  Illinois                                      ...        337   \n",
       "\n",
       "   puma    geoid    gisjoin                                          puma_name  \n",
       "0  1900   101900  G01001900  Lee County--Auburn City                       ...  \n",
       "1  2300   102300  G01002300  Coffee, Covington, Butler & Crenshaw Counties ...  \n",
       "2  6103   606103  G06006103  Placer County (East/High Country Region)--Aubu...  \n",
       "3   200  1000200  G10000200  Kent County--Dover City                       ...  \n",
       "4  3531  1703531  G17003531  Chicago City (South)--Auburn Gresham, Roseland...  "
      ]
     },
     "execution_count": 3,
     "metadata": {},
     "output_type": "execute_result"
    }
   ],
   "source": [
    "#Checking the head of the dataframe\n",
    "pum_was.head()"
   ]
  },
  {
   "cell_type": "markdown",
   "metadata": {},
   "source": [
    "With the SQL query saved as a csv file, we loaded it into the Jupyter Notebook. We noticed that the SQL query gave a few cities outside Washington. In order to fix this, we filtered the dataframe using state_fips as 53, which is the id for Washinton. We then took the unique IDs in the 'puma' column of the table to identify the puma IDs for the cities we are interested in."
   ]
  },
  {
   "cell_type": "code",
   "execution_count": 4,
   "metadata": {},
   "outputs": [],
   "source": [
    "#Filtering out 'state_fips' column by 53\n",
    "pum_was = pum_was[pum_was['state_fips'] == 53]"
   ]
  },
  {
   "cell_type": "code",
   "execution_count": 5,
   "metadata": {},
   "outputs": [
    {
     "data": {
      "text/plain": [
       "[11610, 11613, 11614, 11615, 11611, 11612]"
      ]
     },
     "execution_count": 5,
     "metadata": {},
     "output_type": "execute_result"
    }
   ],
   "source": [
    "#Converting the unique puma IDs and casting that into a list\n",
    "puma_names_list = list(pum_was['puma'].unique())\n",
    "puma_names_list"
   ]
  },
  {
   "cell_type": "markdown",
   "metadata": {},
   "source": [
    "The list puma_names_list is the PUMA IDs in South King County that we are interested in"
   ]
  },
  {
   "cell_type": "markdown",
   "metadata": {},
   "source": [
    "This next section will look at plotting the map of South King County. We will use geopandas and the file tl_2017_53.shp from the data folder to generate the map shape for King County. We will then use the South King County PUMA IDs to create a column SKC on the dataframe. Using values in the column SKC, we will be able to highlight the South King County cities."
   ]
  },
  {
   "cell_type": "code",
   "execution_count": 6,
   "metadata": {},
   "outputs": [],
   "source": [
    "#Allocating the the shp file to the variable fp\n",
    "fp = \"/Users/naweedahmed/Desktop/Flatiron_Feb/project_one_feb/opportunity_youth/data/raw/tl_2017_53_puma10/tl_2017_53_puma10.shp\""
   ]
  },
  {
   "cell_type": "code",
   "execution_count": 20,
   "metadata": {},
   "outputs": [],
   "source": [
    "#Opening file KC_cities as a dataframe and assigning that to variable kc\n",
    "kc = pd.read_csv('KC_cities.csv')"
   ]
  },
  {
   "cell_type": "code",
   "execution_count": 21,
   "metadata": {},
   "outputs": [],
   "source": [
    "#Creating a variable map_df using the variable fp on geopandas\n",
    "map_df = gpd.read_file(fp)"
   ]
  },
  {
   "cell_type": "code",
   "execution_count": 22,
   "metadata": {},
   "outputs": [],
   "source": [
    "#Changing the type in columns PUMACE10 and GEOID10 to integers\n",
    "map_df.loc[:,'PUMACE10'] = map_df['PUMACE10'].astype(int)\n",
    "map_df.loc[:,'GEOID10'] = map_df['GEOID10'].astype(int)"
   ]
  },
  {
   "cell_type": "code",
   "execution_count": 23,
   "metadata": {},
   "outputs": [
    {
     "data": {
      "text/plain": [
       "<matplotlib.axes._subplots.AxesSubplot at 0x113125828>"
      ]
     },
     "execution_count": 23,
     "metadata": {},
     "output_type": "execute_result"
    },
    {
     "data": {
      "image/png": "[encoded data removed]",
      "text/plain": [
       "<Figure size 432x288 with 1 Axes>"
      ]
     },
     "metadata": {
      "needs_background": "light"
     },
     "output_type": "display_data"
    }
   ],
   "source": [
    "#plotting the map_df variable, we get the shape outline for the whole South King County.\n",
    "map_df.plot()"
   ]
  },
  {
   "cell_type": "markdown",
   "metadata": {},
   "source": [
    "Here we are extracting the unique PUMA IDs from the South King County area."
   ]
  },
  {
   "cell_type": "code",
   "execution_count": 25,
   "metadata": {},
   "outputs": [],
   "source": [
    "#Assigning this as a list to variable puma_list\n",
    "puma_list = pum_was['puma'].unique()"
   ]
  },
  {
   "cell_type": "code",
   "execution_count": 27,
   "metadata": {},
   "outputs": [],
   "source": [
    "#Taking the PUMA IDs between 11601 and 11616. These PUMA IDs identify the entire King Country Region\n",
    "kc_puma = map_df.loc[(map_df.PUMACE10 >=11601) & (map_df.PUMACE10 <=11616) ]"
   ]
  },
  {
   "cell_type": "code",
   "execution_count": 28,
   "metadata": {},
   "outputs": [],
   "source": [
    "#created an if statement to add 1 or 0 to column PUMACE10 based on the PUMA IDs. This will allow us to plot the South\n",
    "#King County cities on the map shown above.\n",
    "skc_puma = kc_puma.assign(SKC = [1 if row in puma_list else 0 for row in kc_puma['PUMACE10']])"
   ]
  },
  {
   "cell_type": "code",
   "execution_count": 29,
   "metadata": {},
   "outputs": [
    {
     "data": {
      "text/html": [
       "<div>\n",
       "<style scoped>\n",
       "    .dataframe tbody tr th:only-of-type {\n",
       "        vertical-align: middle;\n",
       "    }\n",
       "\n",
       "    .dataframe tbody tr th {\n",
       "        vertical-align: top;\n",
       "    }\n",
       "\n",
       "    .dataframe thead th {\n",
       "        text-align: right;\n",
       "    }\n",
       "</style>\n",
       "<table border=\"1\" class=\"dataframe\">\n",
       "  <thead>\n",
       "    <tr style=\"text-align: right;\">\n",
       "      <th></th>\n",
       "      <th>STATEFP10</th>\n",
       "      <th>PUMACE10</th>\n",
       "      <th>GEOID10</th>\n",
       "      <th>NAMELSAD10</th>\n",
       "      <th>MTFCC10</th>\n",
       "      <th>FUNCSTAT10</th>\n",
       "      <th>ALAND10</th>\n",
       "      <th>AWATER10</th>\n",
       "      <th>INTPTLAT10</th>\n",
       "      <th>INTPTLON10</th>\n",
       "      <th>geometry</th>\n",
       "      <th>SKC</th>\n",
       "    </tr>\n",
       "  </thead>\n",
       "  <tbody>\n",
       "    <tr>\n",
       "      <th>9</th>\n",
       "      <td>53</td>\n",
       "      <td>11612</td>\n",
       "      <td>5311612</td>\n",
       "      <td>King County (Far Southwest)--Federal Way, Des ...</td>\n",
       "      <td>G6120</td>\n",
       "      <td>S</td>\n",
       "      <td>160638807</td>\n",
       "      <td>279665546</td>\n",
       "      <td>+47.4764651</td>\n",
       "      <td>-122.4271168</td>\n",
       "      <td>POLYGON ((-122.33587 47.26382, -122.33676 47.2...</td>\n",
       "      <td>1</td>\n",
       "    </tr>\n",
       "    <tr>\n",
       "      <th>32</th>\n",
       "      <td>53</td>\n",
       "      <td>11616</td>\n",
       "      <td>5311616</td>\n",
       "      <td>King County (Northeast)--Snoqualmie City, Cott...</td>\n",
       "      <td>G6120</td>\n",
       "      <td>S</td>\n",
       "      <td>2477645989</td>\n",
       "      <td>49838932</td>\n",
       "      <td>+47.5779171</td>\n",
       "      <td>-121.6433869</td>\n",
       "      <td>POLYGON ((-121.87736 47.50068, -121.87745 47.5...</td>\n",
       "      <td>0</td>\n",
       "    </tr>\n",
       "    <tr>\n",
       "      <th>35</th>\n",
       "      <td>53</td>\n",
       "      <td>11611</td>\n",
       "      <td>5311611</td>\n",
       "      <td>King County (West Central)--Burien, SeaTac, Tu...</td>\n",
       "      <td>G6120</td>\n",
       "      <td>S</td>\n",
       "      <td>104685305</td>\n",
       "      <td>6835973</td>\n",
       "      <td>+47.4500687</td>\n",
       "      <td>-122.3101564</td>\n",
       "      <td>POLYGON ((-122.26541 47.48933, -122.26516 47.4...</td>\n",
       "      <td>1</td>\n",
       "    </tr>\n",
       "    <tr>\n",
       "      <th>36</th>\n",
       "      <td>53</td>\n",
       "      <td>11605</td>\n",
       "      <td>5311605</td>\n",
       "      <td>Seattle City (West)--Duwamish &amp; Beacon Hill PUMA</td>\n",
       "      <td>G6120</td>\n",
       "      <td>S</td>\n",
       "      <td>70104140</td>\n",
       "      <td>10124676</td>\n",
       "      <td>+47.5521279</td>\n",
       "      <td>-122.3523950</td>\n",
       "      <td>POLYGON ((-122.32246 47.59583, -122.32147 47.5...</td>\n",
       "      <td>0</td>\n",
       "    </tr>\n",
       "    <tr>\n",
       "      <th>37</th>\n",
       "      <td>53</td>\n",
       "      <td>11603</td>\n",
       "      <td>5311603</td>\n",
       "      <td>Seattle City (Downtown)--Queen Anne &amp; Magnolia...</td>\n",
       "      <td>G6120</td>\n",
       "      <td>S</td>\n",
       "      <td>29279826</td>\n",
       "      <td>8323991</td>\n",
       "      <td>+47.6391415</td>\n",
       "      <td>-122.3720415</td>\n",
       "      <td>POLYGON ((-122.32238 47.65293, -122.32234 47.6...</td>\n",
       "      <td>0</td>\n",
       "    </tr>\n",
       "  </tbody>\n",
       "</table>\n",
       "</div>"
      ],
      "text/plain": [
       "   STATEFP10  PUMACE10  GEOID10  \\\n",
       "9         53     11612  5311612   \n",
       "32        53     11616  5311616   \n",
       "35        53     11611  5311611   \n",
       "36        53     11605  5311605   \n",
       "37        53     11603  5311603   \n",
       "\n",
       "                                           NAMELSAD10 MTFCC10 FUNCSTAT10  \\\n",
       "9   King County (Far Southwest)--Federal Way, Des ...   G6120          S   \n",
       "32  King County (Northeast)--Snoqualmie City, Cott...   G6120          S   \n",
       "35  King County (West Central)--Burien, SeaTac, Tu...   G6120          S   \n",
       "36   Seattle City (West)--Duwamish & Beacon Hill PUMA   G6120          S   \n",
       "37  Seattle City (Downtown)--Queen Anne & Magnolia...   G6120          S   \n",
       "\n",
       "       ALAND10   AWATER10   INTPTLAT10    INTPTLON10  \\\n",
       "9    160638807  279665546  +47.4764651  -122.4271168   \n",
       "32  2477645989   49838932  +47.5779171  -121.6433869   \n",
       "35   104685305    6835973  +47.4500687  -122.3101564   \n",
       "36    70104140   10124676  +47.5521279  -122.3523950   \n",
       "37    29279826    8323991  +47.6391415  -122.3720415   \n",
       "\n",
       "                                             geometry  SKC  \n",
       "9   POLYGON ((-122.33587 47.26382, -122.33676 47.2...    1  \n",
       "32  POLYGON ((-121.87736 47.50068, -121.87745 47.5...    0  \n",
       "35  POLYGON ((-122.26541 47.48933, -122.26516 47.4...    1  \n",
       "36  POLYGON ((-122.32246 47.59583, -122.32147 47.5...    0  \n",
       "37  POLYGON ((-122.32238 47.65293, -122.32234 47.6...    0  "
      ]
     },
     "execution_count": 29,
     "metadata": {},
     "output_type": "execute_result"
    }
   ],
   "source": [
    "#Checking head.\n",
    "skc_puma.head()"
   ]
  },
  {
   "cell_type": "code",
   "execution_count": 110,
   "metadata": {},
   "outputs": [
    {
     "data": {
      "image/png": "[encoded data removed]",
      "text/plain": [
       "<Figure size 1440x1152 with 1 Axes>"
      ]
     },
     "metadata": {
      "needs_background": "light"
     },
     "output_type": "display_data"
    }
   ],
   "source": [
    "#Function for to plot the diagram\n",
    "fig,ax = plt.subplots(1, figsize=(20,16))\n",
    "ax= skc_puma.plot(ax=ax, column='SKC', cmap='Accent_r', alpha=0.5, linewidth=0.5, edgecolor='black', legend=False)\n",
    "ax.set_title('Map of King County')\n",
    "ax.set_axis_off()\n",
    "fig.tight_layout`\n",
    "plt.show();"
   ]
  },
  {
   "cell_type": "markdown",
   "metadata": {},
   "source": [
    "The Green shaded cities represent the South King County cities."
   ]
  },
  {
   "cell_type": "markdown",
   "metadata": {},
   "source": [
    "# Question 2"
   ]
  },
  {
   "cell_type": "markdown",
   "metadata": {},
   "source": [
    "\n",
    "\n",
    "An update of the estimated number of OY in South King County. In addition the estimate, be sure to include a breakdown of the count of OY by Public Use Microdata Area (PUMA) within South King County;"
   ]
  },
  {
   "cell_type": "markdown",
   "metadata": {},
   "source": [
    "In order to answer question 2, we would need to run a SQL extract on the pums_2017 table to obtain all the data needed to answer the question.\n",
    "We ran the following SQL query and saved the result under a Data Frame called was_rm"
   ]
  },
  {
   "cell_type": "markdown",
   "metadata": {},
   "source": [
    "```SQL\n",
    "SELECT \n",
    "* \n",
    "FROM pums_2017\n",
    "WHERE puma ='11610'\n",
    "OR puma ='11611'\n",
    "OR puma ='11612'\n",
    "OR puma ='11613'\n",
    "OR puma ='11614'\n",
    "OR puma ='11615'\n",
    "```"
   ]
  },
  {
   "cell_type": "code",
   "execution_count": 31,
   "metadata": {},
   "outputs": [],
   "source": [
    "#Opening the SQL query from the csv file using pandas and assigning it to the variable was_rm\n",
    "was_rm = pd.read_csv('was_rm.csv')"
   ]
  },
  {
   "cell_type": "code",
   "execution_count": 32,
   "metadata": {},
   "outputs": [
    {
     "data": {
      "text/html": [
       "<div>\n",
       "<style scoped>\n",
       "    .dataframe tbody tr th:only-of-type {\n",
       "        vertical-align: middle;\n",
       "    }\n",
       "\n",
       "    .dataframe tbody tr th {\n",
       "        vertical-align: top;\n",
       "    }\n",
       "\n",
       "    .dataframe thead th {\n",
       "        text-align: right;\n",
       "    }\n",
       "</style>\n",
       "<table border=\"1\" class=\"dataframe\">\n",
       "  <thead>\n",
       "    <tr style=\"text-align: right;\">\n",
       "      <th></th>\n",
       "      <th>rt</th>\n",
       "      <th>serialno</th>\n",
       "      <th>division</th>\n",
       "      <th>sporder</th>\n",
       "      <th>puma</th>\n",
       "      <th>region</th>\n",
       "      <th>st</th>\n",
       "      <th>adjinc</th>\n",
       "      <th>pwgtp</th>\n",
       "      <th>agep</th>\n",
       "      <th>...</th>\n",
       "      <th>pwgtp71</th>\n",
       "      <th>pwgtp72</th>\n",
       "      <th>pwgtp73</th>\n",
       "      <th>pwgtp74</th>\n",
       "      <th>pwgtp75</th>\n",
       "      <th>pwgtp76</th>\n",
       "      <th>pwgtp77</th>\n",
       "      <th>pwgtp78</th>\n",
       "      <th>pwgtp79</th>\n",
       "      <th>pwgtp80</th>\n",
       "    </tr>\n",
       "  </thead>\n",
       "  <tbody>\n",
       "    <tr>\n",
       "      <th>0</th>\n",
       "      <td>P</td>\n",
       "      <td>2013000888692</td>\n",
       "      <td>9</td>\n",
       "      <td>1</td>\n",
       "      <td>11611</td>\n",
       "      <td>4</td>\n",
       "      <td>53</td>\n",
       "      <td>1061971</td>\n",
       "      <td>26</td>\n",
       "      <td>58</td>\n",
       "      <td>...</td>\n",
       "      <td>26</td>\n",
       "      <td>44</td>\n",
       "      <td>46</td>\n",
       "      <td>24</td>\n",
       "      <td>25</td>\n",
       "      <td>47</td>\n",
       "      <td>7</td>\n",
       "      <td>25</td>\n",
       "      <td>8</td>\n",
       "      <td>24</td>\n",
       "    </tr>\n",
       "    <tr>\n",
       "      <th>1</th>\n",
       "      <td>P</td>\n",
       "      <td>2013000888957</td>\n",
       "      <td>9</td>\n",
       "      <td>1</td>\n",
       "      <td>11615</td>\n",
       "      <td>4</td>\n",
       "      <td>53</td>\n",
       "      <td>1061971</td>\n",
       "      <td>15</td>\n",
       "      <td>54</td>\n",
       "      <td>...</td>\n",
       "      <td>5</td>\n",
       "      <td>5</td>\n",
       "      <td>28</td>\n",
       "      <td>15</td>\n",
       "      <td>5</td>\n",
       "      <td>25</td>\n",
       "      <td>28</td>\n",
       "      <td>15</td>\n",
       "      <td>15</td>\n",
       "      <td>17</td>\n",
       "    </tr>\n",
       "    <tr>\n",
       "      <th>2</th>\n",
       "      <td>P</td>\n",
       "      <td>2013000888957</td>\n",
       "      <td>9</td>\n",
       "      <td>2</td>\n",
       "      <td>11615</td>\n",
       "      <td>4</td>\n",
       "      <td>53</td>\n",
       "      <td>1061971</td>\n",
       "      <td>18</td>\n",
       "      <td>27</td>\n",
       "      <td>...</td>\n",
       "      <td>5</td>\n",
       "      <td>5</td>\n",
       "      <td>31</td>\n",
       "      <td>20</td>\n",
       "      <td>5</td>\n",
       "      <td>36</td>\n",
       "      <td>30</td>\n",
       "      <td>15</td>\n",
       "      <td>17</td>\n",
       "      <td>20</td>\n",
       "    </tr>\n",
       "    <tr>\n",
       "      <th>3</th>\n",
       "      <td>P</td>\n",
       "      <td>2013000890399</td>\n",
       "      <td>9</td>\n",
       "      <td>1</td>\n",
       "      <td>11612</td>\n",
       "      <td>4</td>\n",
       "      <td>53</td>\n",
       "      <td>1061971</td>\n",
       "      <td>14</td>\n",
       "      <td>71</td>\n",
       "      <td>...</td>\n",
       "      <td>25</td>\n",
       "      <td>4</td>\n",
       "      <td>3</td>\n",
       "      <td>12</td>\n",
       "      <td>13</td>\n",
       "      <td>23</td>\n",
       "      <td>23</td>\n",
       "      <td>4</td>\n",
       "      <td>13</td>\n",
       "      <td>4</td>\n",
       "    </tr>\n",
       "    <tr>\n",
       "      <th>4</th>\n",
       "      <td>P</td>\n",
       "      <td>2013000890399</td>\n",
       "      <td>9</td>\n",
       "      <td>2</td>\n",
       "      <td>11612</td>\n",
       "      <td>4</td>\n",
       "      <td>53</td>\n",
       "      <td>1061971</td>\n",
       "      <td>13</td>\n",
       "      <td>59</td>\n",
       "      <td>...</td>\n",
       "      <td>29</td>\n",
       "      <td>3</td>\n",
       "      <td>4</td>\n",
       "      <td>16</td>\n",
       "      <td>14</td>\n",
       "      <td>18</td>\n",
       "      <td>17</td>\n",
       "      <td>2</td>\n",
       "      <td>15</td>\n",
       "      <td>4</td>\n",
       "    </tr>\n",
       "  </tbody>\n",
       "</table>\n",
       "<p>5 rows × 286 columns</p>\n",
       "</div>"
      ],
      "text/plain": [
       "  rt       serialno  division  sporder   puma  region  st   adjinc  pwgtp  \\\n",
       "0  P  2013000888692         9        1  11611       4  53  1061971     26   \n",
       "1  P  2013000888957         9        1  11615       4  53  1061971     15   \n",
       "2  P  2013000888957         9        2  11615       4  53  1061971     18   \n",
       "3  P  2013000890399         9        1  11612       4  53  1061971     14   \n",
       "4  P  2013000890399         9        2  11612       4  53  1061971     13   \n",
       "\n",
       "   agep  ...  pwgtp71  pwgtp72  pwgtp73  pwgtp74  pwgtp75  pwgtp76  pwgtp77  \\\n",
       "0    58  ...       26       44       46       24       25       47        7   \n",
       "1    54  ...        5        5       28       15        5       25       28   \n",
       "2    27  ...        5        5       31       20        5       36       30   \n",
       "3    71  ...       25        4        3       12       13       23       23   \n",
       "4    59  ...       29        3        4       16       14       18       17   \n",
       "\n",
       "   pwgtp78  pwgtp79  pwgtp80  \n",
       "0       25        8       24  \n",
       "1       15       15       17  \n",
       "2       15       17       20  \n",
       "3        4       13        4  \n",
       "4        2       15        4  \n",
       "\n",
       "[5 rows x 286 columns]"
      ]
     },
     "execution_count": 32,
     "metadata": {},
     "output_type": "execute_result"
    }
   ],
   "source": [
    "#Checking the head.\n",
    "was_rm.head()"
   ]
  },
  {
   "cell_type": "code",
   "execution_count": 33,
   "metadata": {},
   "outputs": [
    {
     "data": {
      "text/plain": [
       "34145"
      ]
     },
     "execution_count": 33,
     "metadata": {},
     "output_type": "execute_result"
    }
   ],
   "source": [
    "#Checking the length of the table\n",
    "len(was_rm)"
   ]
  },
  {
   "cell_type": "markdown",
   "metadata": {},
   "source": [
    "Opportunity Youth is defined by individuals aged between 16 and 24, not in school, or in employment. In order to determine this data set, we added a new column, 'Age_Group' and classified each individual into one of the following categories.\n",
    "\n",
    "1) Ages between 16 and 18 : '16-18'\n",
    "\n",
    "2) Ages between 19 and 21: '19-21'\n",
    "\n",
    "3) Ages between 22 and 24: '22-24'\n",
    "\n",
    "4) Ages below 16 and above 24: 'other'\n"
   ]
  },
  {
   "cell_type": "code",
   "execution_count": 34,
   "metadata": {},
   "outputs": [],
   "source": [
    "#Assigning categorical data to a new column Age_Group based on age criterion\n",
    "\n",
    "was_rm.loc[(was_rm['agep'] < 16),  'Age_Group'] = 'other'\n",
    "was_rm.loc[(was_rm['agep'] >24),  'Age_Group'] = 'other'\n",
    "was_rm.loc[((was_rm['agep'] >= 16) & (was_rm['agep'] <=18)) ,  'Age_Group'] = '16-18'\n",
    "was_rm.loc[((was_rm['agep'] >= 19) & (was_rm['agep'] <=21)) ,  'Age_Group'] = '19-21'\n",
    "was_rm.loc[((was_rm['agep'] >= 22) & (was_rm['agep'] <=24)) ,  'Age_Group'] = '22-24'"
   ]
  },
  {
   "cell_type": "markdown",
   "metadata": {},
   "source": [
    "Following this, we further filtered the data based on their school and employment status.\n",
    "We created a dataframe called 'was_rm_16_24' and filtered this according to ages above 16 and below 24. We will need to use this dataframe again later on.\n",
    "In addition to this, we took the same dataframe, and filtered it down even further, taking the following columns:\n",
    "'ESR' 1 and 3\n",
    "'SCH' 1"
   ]
  },
  {
   "cell_type": "code",
   "execution_count": 35,
   "metadata": {},
   "outputs": [],
   "source": [
    "#Creating a new data frame filtered on age between 16 and 24.\n",
    "was_rm_16_24 = was_rm[(was_rm['agep']>= 16) & (was_rm['agep'] <=24)]\n",
    "#Creating another data frame filtering out the OY population based on ESR as 3 or 6 and SCH as 1.\n",
    "was_rm_OY = was_rm_16_24[((was_rm_16_24['esr']== 3) | (was_rm_16_24['esr'] == 6)) & (was_rm_16_24['sch'] == 1)]"
   ]
  },
  {
   "cell_type": "markdown",
   "metadata": {},
   "source": [
    "Now that we have our Opportunity Youth data set, we can use the groupby and aggregrate pandas functions to see the counts based on the PUMA IDs"
   ]
  },
  {
   "cell_type": "code",
   "execution_count": 36,
   "metadata": {},
   "outputs": [
    {
     "data": {
      "text/html": [
       "<div>\n",
       "<style scoped>\n",
       "    .dataframe tbody tr th:only-of-type {\n",
       "        vertical-align: middle;\n",
       "    }\n",
       "\n",
       "    .dataframe tbody tr th {\n",
       "        vertical-align: top;\n",
       "    }\n",
       "\n",
       "    .dataframe thead th {\n",
       "        text-align: right;\n",
       "    }\n",
       "</style>\n",
       "<table border=\"1\" class=\"dataframe\">\n",
       "  <thead>\n",
       "    <tr style=\"text-align: right;\">\n",
       "      <th></th>\n",
       "      <th>Counts</th>\n",
       "    </tr>\n",
       "    <tr>\n",
       "      <th>puma</th>\n",
       "      <th></th>\n",
       "    </tr>\n",
       "  </thead>\n",
       "  <tbody>\n",
       "    <tr>\n",
       "      <th>11610</th>\n",
       "      <td>50</td>\n",
       "    </tr>\n",
       "    <tr>\n",
       "      <th>11611</th>\n",
       "      <td>71</td>\n",
       "    </tr>\n",
       "    <tr>\n",
       "      <th>11612</th>\n",
       "      <td>58</td>\n",
       "    </tr>\n",
       "    <tr>\n",
       "      <th>11613</th>\n",
       "      <td>76</td>\n",
       "    </tr>\n",
       "    <tr>\n",
       "      <th>11614</th>\n",
       "      <td>82</td>\n",
       "    </tr>\n",
       "    <tr>\n",
       "      <th>11615</th>\n",
       "      <td>54</td>\n",
       "    </tr>\n",
       "  </tbody>\n",
       "</table>\n",
       "</div>"
      ],
      "text/plain": [
       "       Counts\n",
       "puma         \n",
       "11610      50\n",
       "11611      71\n",
       "11612      58\n",
       "11613      76\n",
       "11614      82\n",
       "11615      54"
      ]
     },
     "execution_count": 36,
     "metadata": {},
     "output_type": "execute_result"
    }
   ],
   "source": [
    "#Using groupbuy function and aggregate function to illustrate Count of individuals South King Country cities \n",
    "#based on their puma IDs.\n",
    "was_rm_OY.groupby('puma').agg(Counts=('puma','count'))"
   ]
  },
  {
   "cell_type": "markdown",
   "metadata": {},
   "source": [
    "Total size of OY in South King County"
   ]
  },
  {
   "cell_type": "code",
   "execution_count": 37,
   "metadata": {},
   "outputs": [
    {
     "data": {
      "text/plain": [
       "391"
      ]
     },
     "execution_count": 37,
     "metadata": {},
     "output_type": "execute_result"
    }
   ],
   "source": [
    "len(was_rm_OY)"
   ]
  },
  {
   "cell_type": "markdown",
   "metadata": {},
   "source": [
    "# Question 3:"
   ]
  },
  {
   "cell_type": "markdown",
   "metadata": {},
   "source": [
    "    \n",
    "An update of the table “Opportunity Youth Status by Age” located on page 2 of the 2016 report “Opportunity Youth in the Road Map Project Region”"
   ]
  },
  {
   "cell_type": "code",
   "execution_count": null,
   "metadata": {},
   "outputs": [],
   "source": [
    "image goes here"
   ]
  },
  {
   "cell_type": "markdown",
   "metadata": {},
   "source": [
    " The table above is the \"Opportunity Youth in the Road Map Project Region\" from page 2 of the 2016 report."
   ]
  },
  {
   "cell_type": "markdown",
   "metadata": {},
   "source": [
    "In order to answer this question, we will use the dataframe 'was_rm_16_24' which already has the age of each individual classified under a column called 'Age_Group'.\n",
    "\n",
    "We will look to create 2 tables representing the top half and bottom half of table above based on the 2017 incremental data.\n"
   ]
  },
  {
   "cell_type": "markdown",
   "metadata": {},
   "source": [
    "Table 1 - Total Population:\n",
    "\n",
    "In order to obtain the subsets we want, we will create a new column on the dataframe called 'Status'. This column is assigned based on the following conditions:\n",
    "\n",
    "1) Opportunity Youth: ESR: 3 & 6, SCH: 1\n",
    "\n",
    "2) Working Without Diploma: SCHL 1 to 15, ESR 1, 2, 4 and 5\n",
    "\n",
    "3) Not an Opportunity Youth: ESR 1, 2, 4 and 5, SCH everthing except 1"
   ]
  },
  {
   "cell_type": "code",
   "execution_count": 43,
   "metadata": {},
   "outputs": [
    {
     "name": "stderr",
     "output_type": "stream",
     "text": [
      "//anaconda3/envs/oy-env/lib/python3.7/site-packages/pandas/core/indexing.py:376: SettingWithCopyWarning: \n",
      "A value is trying to be set on a copy of a slice from a DataFrame.\n",
      "Try using .loc[row_indexer,col_indexer] = value instead\n",
      "\n",
      "See the caveats in the documentation: http://pandas.pydata.org/pandas-docs/stable/user_guide/indexing.html#returning-a-view-versus-a-copy\n",
      "  self.obj[key] = _infer_fill_value(value)\n",
      "//anaconda3/envs/oy-env/lib/python3.7/site-packages/pandas/core/indexing.py:494: SettingWithCopyWarning: \n",
      "A value is trying to be set on a copy of a slice from a DataFrame.\n",
      "Try using .loc[row_indexer,col_indexer] = value instead\n",
      "\n",
      "See the caveats in the documentation: http://pandas.pydata.org/pandas-docs/stable/user_guide/indexing.html#returning-a-view-versus-a-copy\n",
      "  self.obj[item] = s\n"
     ]
    }
   ],
   "source": [
    "#This will add categorical data to new column Series based on the columns on the table.\n",
    "was_rm_16_24.loc[(((was_rm_16_24['esr']== 3) |(was_rm_16_24['esr'] ==6)) & (was_rm_16_24['sch'] == 1) ),'Status'] = 'Opportunity Youth'"
   ]
  },
  {
   "cell_type": "code",
   "execution_count": 44,
   "metadata": {},
   "outputs": [],
   "source": [
    "#This will add categorical data to new column Series based on the columns on the table.\n",
    "was_rm_16_24.loc[((was_rm_16_24['esr']!= 3) & (was_rm_16_24['esr'] !=6) | (was_rm_16_24['sch'] !=1)),'Status']  = 'Not an Opportunity Youth'"
   ]
  },
  {
   "cell_type": "code",
   "execution_count": 45,
   "metadata": {},
   "outputs": [],
   "source": [
    "#This will add categorical data to new column Series based on the columns on the table.\n",
    "was_rm_16_24.loc[((was_rm_16_24['schl'] <=15)&((was_rm_16_24['esr']) <=2) | (was_rm_16_24['esr']==4) | (was_rm_16_24['esr']==5)),'Status'] = 'Working without diploma'"
   ]
  },
  {
   "cell_type": "markdown",
   "metadata": {},
   "source": [
    "After running the classifications above, we can use groupby and aggregate methods to build the table we are looking for."
   ]
  },
  {
   "cell_type": "code",
   "execution_count": 51,
   "metadata": {},
   "outputs": [
    {
     "data": {
      "text/html": [
       "<div>\n",
       "<style scoped>\n",
       "    .dataframe tbody tr th:only-of-type {\n",
       "        vertical-align: middle;\n",
       "    }\n",
       "\n",
       "    .dataframe tbody tr th {\n",
       "        vertical-align: top;\n",
       "    }\n",
       "\n",
       "    .dataframe thead th {\n",
       "        text-align: right;\n",
       "    }\n",
       "</style>\n",
       "<table border=\"1\" class=\"dataframe\">\n",
       "  <thead>\n",
       "    <tr style=\"text-align: right;\">\n",
       "      <th></th>\n",
       "      <th></th>\n",
       "      <th>Total</th>\n",
       "    </tr>\n",
       "    <tr>\n",
       "      <th>Status</th>\n",
       "      <th>Age_Group</th>\n",
       "      <th></th>\n",
       "    </tr>\n",
       "  </thead>\n",
       "  <tbody>\n",
       "    <tr>\n",
       "      <th rowspan=\"3\" valign=\"top\">Not an Opportunity Youth</th>\n",
       "      <th>16-18</th>\n",
       "      <td>1066</td>\n",
       "    </tr>\n",
       "    <tr>\n",
       "      <th>19-21</th>\n",
       "      <td>816</td>\n",
       "    </tr>\n",
       "    <tr>\n",
       "      <th>22-24</th>\n",
       "      <td>894</td>\n",
       "    </tr>\n",
       "    <tr>\n",
       "      <th rowspan=\"3\" valign=\"top\">Opportunity Youth</th>\n",
       "      <th>16-18</th>\n",
       "      <td>60</td>\n",
       "    </tr>\n",
       "    <tr>\n",
       "      <th>19-21</th>\n",
       "      <td>146</td>\n",
       "    </tr>\n",
       "    <tr>\n",
       "      <th>22-24</th>\n",
       "      <td>185</td>\n",
       "    </tr>\n",
       "    <tr>\n",
       "      <th rowspan=\"3\" valign=\"top\">Working without diploma</th>\n",
       "      <th>16-18</th>\n",
       "      <td>187</td>\n",
       "    </tr>\n",
       "    <tr>\n",
       "      <th>19-21</th>\n",
       "      <td>61</td>\n",
       "    </tr>\n",
       "    <tr>\n",
       "      <th>22-24</th>\n",
       "      <td>67</td>\n",
       "    </tr>\n",
       "  </tbody>\n",
       "</table>\n",
       "</div>"
      ],
      "text/plain": [
       "                                    Total\n",
       "Status                   Age_Group       \n",
       "Not an Opportunity Youth 16-18       1066\n",
       "                         19-21        816\n",
       "                         22-24        894\n",
       "Opportunity Youth        16-18         60\n",
       "                         19-21        146\n",
       "                         22-24        185\n",
       "Working without diploma  16-18        187\n",
       "                         19-21         61\n",
       "                         22-24         67"
      ]
     },
     "execution_count": 51,
     "metadata": {},
     "output_type": "execute_result"
    }
   ],
   "source": [
    "# Groupby and aggregate function.\n",
    "was_table_1 = was_rm_16_24.groupby(['Status', 'Age_Group']).agg(Total=('Status','count'))\n",
    "was_table_1"
   ]
  },
  {
   "cell_type": "code",
   "execution_count": 52,
   "metadata": {},
   "outputs": [
    {
     "data": {
      "text/html": [
       "<div>\n",
       "<style scoped>\n",
       "    .dataframe tbody tr th:only-of-type {\n",
       "        vertical-align: middle;\n",
       "    }\n",
       "\n",
       "    .dataframe tbody tr th {\n",
       "        vertical-align: top;\n",
       "    }\n",
       "\n",
       "    .dataframe thead tr th {\n",
       "        text-align: left;\n",
       "    }\n",
       "\n",
       "    .dataframe thead tr:last-of-type th {\n",
       "        text-align: right;\n",
       "    }\n",
       "</style>\n",
       "<table border=\"1\" class=\"dataframe\">\n",
       "  <thead>\n",
       "    <tr>\n",
       "      <th></th>\n",
       "      <th colspan=\"3\" halign=\"left\">Total</th>\n",
       "    </tr>\n",
       "    <tr>\n",
       "      <th>Age_Group</th>\n",
       "      <th>16-18</th>\n",
       "      <th>19-21</th>\n",
       "      <th>22-24</th>\n",
       "    </tr>\n",
       "    <tr>\n",
       "      <th>Status</th>\n",
       "      <th></th>\n",
       "      <th></th>\n",
       "      <th></th>\n",
       "    </tr>\n",
       "  </thead>\n",
       "  <tbody>\n",
       "    <tr>\n",
       "      <th>Not an Opportunity Youth</th>\n",
       "      <td>1066</td>\n",
       "      <td>816</td>\n",
       "      <td>894</td>\n",
       "    </tr>\n",
       "    <tr>\n",
       "      <th>Opportunity Youth</th>\n",
       "      <td>60</td>\n",
       "      <td>146</td>\n",
       "      <td>185</td>\n",
       "    </tr>\n",
       "    <tr>\n",
       "      <th>Working without diploma</th>\n",
       "      <td>187</td>\n",
       "      <td>61</td>\n",
       "      <td>67</td>\n",
       "    </tr>\n",
       "  </tbody>\n",
       "</table>\n",
       "</div>"
      ],
      "text/plain": [
       "                         Total            \n",
       "Age_Group                16-18 19-21 22-24\n",
       "Status                                    \n",
       "Not an Opportunity Youth  1066   816   894\n",
       "Opportunity Youth           60   146   185\n",
       "Working without diploma    187    61    67"
      ]
     },
     "execution_count": 52,
     "metadata": {},
     "output_type": "execute_result"
    }
   ],
   "source": [
    "#We used the unstack method to flatten the table\n",
    "was_table_1.unstack()"
   ]
  },
  {
   "cell_type": "markdown",
   "metadata": {},
   "source": [
    "\n",
    "\n",
    "Table 2 - Opportunity Youth:\n",
    "\n",
    "In order to build the bottom half of the table, we will create a new column on the dataframe called 'Edu_attain'. This is the education attainment of each individual in the dataset.\n",
    "We will use the following:\n",
    "\n",
    "1) No Diploma: SCHL 1 to 15\n",
    "\n",
    "2) HS Diploma or GED: SCHL 16 and 17\n",
    "\n",
    "3) Some College, no degree: SCHL 18 and 19\n",
    "\n",
    "4) Degree (Associate or Higher): SCHL 20, 21, 22, 23 and 24"
   ]
  },
  {
   "cell_type": "code",
   "execution_count": 381,
   "metadata": {},
   "outputs": [],
   "source": [
    "#We are assinging categorical data to a new column Edu_attain based on values in the schl column.\n",
    "#Information in the schl columns represents each individuals educational attainment.\n",
    "was_rm_OY.loc[((was_rm_OY['schl'] >= 1) & (was_rm_OY['schl'] <=15)) ,  'Edu_attain'] = 'No Diploma'\n",
    "was_rm_OY.loc[((was_rm_OY['schl'] == 16) | (was_rm_OY['schl'] ==17)) ,  'Edu_attain'] = 'HS Diploma or GED'\n",
    "was_rm_OY.loc[((was_rm_OY['schl'] == 18) | (was_rm_OY['schl'] ==19)) ,  'Edu_attain'] = 'Some College, no degree'\n",
    "was_rm_OY.loc[((was_rm_OY['schl'] >= 20) & (was_rm_OY['schl'] <=24)) ,  'Edu_attain'] = 'Degree (Associate or Higher)'"
   ]
  },
  {
   "cell_type": "code",
   "execution_count": 100,
   "metadata": {},
   "outputs": [],
   "source": [
    "#Using groupby and aggregate method to build the table we want\n",
    "was_table_2 = was_rm_OY.groupby(['Edu_attain', 'Age_Group']).agg(Total=('Edu_attain','count'))"
   ]
  },
  {
   "cell_type": "code",
   "execution_count": 101,
   "metadata": {},
   "outputs": [
    {
     "data": {
      "text/html": [
       "<div>\n",
       "<style scoped>\n",
       "    .dataframe tbody tr th:only-of-type {\n",
       "        vertical-align: middle;\n",
       "    }\n",
       "\n",
       "    .dataframe tbody tr th {\n",
       "        vertical-align: top;\n",
       "    }\n",
       "\n",
       "    .dataframe thead th {\n",
       "        text-align: right;\n",
       "    }\n",
       "</style>\n",
       "<table border=\"1\" class=\"dataframe\">\n",
       "  <thead>\n",
       "    <tr style=\"text-align: right;\">\n",
       "      <th></th>\n",
       "      <th></th>\n",
       "      <th>Total</th>\n",
       "    </tr>\n",
       "    <tr>\n",
       "      <th>Edu_attain</th>\n",
       "      <th>Age_Group</th>\n",
       "      <th></th>\n",
       "    </tr>\n",
       "  </thead>\n",
       "  <tbody>\n",
       "    <tr>\n",
       "      <th rowspan=\"2\" valign=\"top\">Degree (Associate or Higher)</th>\n",
       "      <th>19-21</th>\n",
       "      <td>4</td>\n",
       "    </tr>\n",
       "    <tr>\n",
       "      <th>22-24</th>\n",
       "      <td>17</td>\n",
       "    </tr>\n",
       "    <tr>\n",
       "      <th rowspan=\"3\" valign=\"top\">HS Diploma or GED</th>\n",
       "      <th>16-18</th>\n",
       "      <td>19</td>\n",
       "    </tr>\n",
       "    <tr>\n",
       "      <th>19-21</th>\n",
       "      <td>79</td>\n",
       "    </tr>\n",
       "    <tr>\n",
       "      <th>22-24</th>\n",
       "      <td>83</td>\n",
       "    </tr>\n",
       "    <tr>\n",
       "      <th rowspan=\"3\" valign=\"top\">No Diploma</th>\n",
       "      <th>16-18</th>\n",
       "      <td>39</td>\n",
       "    </tr>\n",
       "    <tr>\n",
       "      <th>19-21</th>\n",
       "      <td>47</td>\n",
       "    </tr>\n",
       "    <tr>\n",
       "      <th>22-24</th>\n",
       "      <td>47</td>\n",
       "    </tr>\n",
       "    <tr>\n",
       "      <th rowspan=\"3\" valign=\"top\">Some College, no degree</th>\n",
       "      <th>16-18</th>\n",
       "      <td>2</td>\n",
       "    </tr>\n",
       "    <tr>\n",
       "      <th>19-21</th>\n",
       "      <td>16</td>\n",
       "    </tr>\n",
       "    <tr>\n",
       "      <th>22-24</th>\n",
       "      <td>38</td>\n",
       "    </tr>\n",
       "  </tbody>\n",
       "</table>\n",
       "</div>"
      ],
      "text/plain": [
       "                                        Total\n",
       "Edu_attain                   Age_Group       \n",
       "Degree (Associate or Higher) 19-21          4\n",
       "                             22-24         17\n",
       "HS Diploma or GED            16-18         19\n",
       "                             19-21         79\n",
       "                             22-24         83\n",
       "No Diploma                   16-18         39\n",
       "                             19-21         47\n",
       "                             22-24         47\n",
       "Some College, no degree      16-18          2\n",
       "                             19-21         16\n",
       "                             22-24         38"
      ]
     },
     "execution_count": 101,
     "metadata": {},
     "output_type": "execute_result"
    }
   ],
   "source": [
    "was_table_2"
   ]
  },
  {
   "cell_type": "code",
   "execution_count": 102,
   "metadata": {},
   "outputs": [
    {
     "data": {
      "text/html": [
       "<div>\n",
       "<style scoped>\n",
       "    .dataframe tbody tr th:only-of-type {\n",
       "        vertical-align: middle;\n",
       "    }\n",
       "\n",
       "    .dataframe tbody tr th {\n",
       "        vertical-align: top;\n",
       "    }\n",
       "\n",
       "    .dataframe thead tr th {\n",
       "        text-align: left;\n",
       "    }\n",
       "\n",
       "    .dataframe thead tr:last-of-type th {\n",
       "        text-align: right;\n",
       "    }\n",
       "</style>\n",
       "<table border=\"1\" class=\"dataframe\">\n",
       "  <thead>\n",
       "    <tr>\n",
       "      <th></th>\n",
       "      <th colspan=\"3\" halign=\"left\">Total</th>\n",
       "    </tr>\n",
       "    <tr>\n",
       "      <th>Age_Group</th>\n",
       "      <th>16-18</th>\n",
       "      <th>19-21</th>\n",
       "      <th>22-24</th>\n",
       "    </tr>\n",
       "    <tr>\n",
       "      <th>Edu_attain</th>\n",
       "      <th></th>\n",
       "      <th></th>\n",
       "      <th></th>\n",
       "    </tr>\n",
       "  </thead>\n",
       "  <tbody>\n",
       "    <tr>\n",
       "      <th>Degree (Associate or Higher)</th>\n",
       "      <td>NaN</td>\n",
       "      <td>4.0</td>\n",
       "      <td>17.0</td>\n",
       "    </tr>\n",
       "    <tr>\n",
       "      <th>HS Diploma or GED</th>\n",
       "      <td>19.0</td>\n",
       "      <td>79.0</td>\n",
       "      <td>83.0</td>\n",
       "    </tr>\n",
       "    <tr>\n",
       "      <th>No Diploma</th>\n",
       "      <td>39.0</td>\n",
       "      <td>47.0</td>\n",
       "      <td>47.0</td>\n",
       "    </tr>\n",
       "    <tr>\n",
       "      <th>Some College, no degree</th>\n",
       "      <td>2.0</td>\n",
       "      <td>16.0</td>\n",
       "      <td>38.0</td>\n",
       "    </tr>\n",
       "  </tbody>\n",
       "</table>\n",
       "</div>"
      ],
      "text/plain": [
       "                             Total            \n",
       "Age_Group                    16-18 19-21 22-24\n",
       "Edu_attain                                    \n",
       "Degree (Associate or Higher)   NaN   4.0  17.0\n",
       "HS Diploma or GED             19.0  79.0  83.0\n",
       "No Diploma                    39.0  47.0  47.0\n",
       "Some College, no degree        2.0  16.0  38.0"
      ]
     },
     "execution_count": 102,
     "metadata": {},
     "output_type": "execute_result"
    }
   ],
   "source": [
    "#using unstack method to flatten the table\n",
    "was_table_2.unstack()"
   ]
  },
  {
   "cell_type": "code",
   "execution_count": null,
   "metadata": {},
   "outputs": [],
   "source": []
  },
  {
   "cell_type": "code",
   "execution_count": null,
   "metadata": {},
   "outputs": [],
   "source": []
  },
  {
   "cell_type": "markdown",
   "metadata": {},
   "source": [
    "Question 3"
   ]
  },
  {
   "cell_type": "code",
   "execution_count": 397,
   "metadata": {},
   "outputs": [],
   "source": [
    "data_2016 = [['Not an opportunity Youth', 46661, 32318, 36426, 115405],\n",
    "        ['Opportuntiy Youth',2805, 7284, 8728 , 18817],\n",
    "        ['Working without Diploma', 587, 2049, 2877, 5513],\n",
    "        ]\n",
    "\n",
    "df_2016 = pd.DataFrame(data_2016, columns = ['Status', '16-18 (2016)', '19-21 (2016)', '22-24 (2016)', 'Total'])\n",
    "\n"
   ]
  },
  {
   "cell_type": "code",
   "execution_count": 398,
   "metadata": {},
   "outputs": [
    {
     "data": {
      "text/html": [
       "<div>\n",
       "<style scoped>\n",
       "    .dataframe tbody tr th:only-of-type {\n",
       "        vertical-align: middle;\n",
       "    }\n",
       "\n",
       "    .dataframe tbody tr th {\n",
       "        vertical-align: top;\n",
       "    }\n",
       "\n",
       "    .dataframe thead th {\n",
       "        text-align: right;\n",
       "    }\n",
       "</style>\n",
       "<table border=\"1\" class=\"dataframe\">\n",
       "  <thead>\n",
       "    <tr style=\"text-align: right;\">\n",
       "      <th></th>\n",
       "      <th>Status</th>\n",
       "      <th>16-18 (2016)</th>\n",
       "      <th>19-21 (2016)</th>\n",
       "      <th>22-24 (2016)</th>\n",
       "      <th>Total</th>\n",
       "    </tr>\n",
       "  </thead>\n",
       "  <tbody>\n",
       "    <tr>\n",
       "      <th>0</th>\n",
       "      <td>Not an opportunity Youth</td>\n",
       "      <td>46661</td>\n",
       "      <td>32318</td>\n",
       "      <td>36426</td>\n",
       "      <td>115405</td>\n",
       "    </tr>\n",
       "    <tr>\n",
       "      <th>1</th>\n",
       "      <td>Opportuntiy Youth</td>\n",
       "      <td>2805</td>\n",
       "      <td>7284</td>\n",
       "      <td>8728</td>\n",
       "      <td>18817</td>\n",
       "    </tr>\n",
       "    <tr>\n",
       "      <th>2</th>\n",
       "      <td>Working without Diploma</td>\n",
       "      <td>587</td>\n",
       "      <td>2049</td>\n",
       "      <td>2877</td>\n",
       "      <td>5513</td>\n",
       "    </tr>\n",
       "  </tbody>\n",
       "</table>\n",
       "</div>"
      ],
      "text/plain": [
       "                     Status  16-18 (2016)  19-21 (2016)  22-24 (2016)   Total\n",
       "0  Not an opportunity Youth         46661         32318         36426  115405\n",
       "1         Opportuntiy Youth          2805          7284          8728   18817\n",
       "2   Working without Diploma           587          2049          2877    5513"
      ]
     },
     "execution_count": 398,
     "metadata": {},
     "output_type": "execute_result"
    }
   ],
   "source": [
    "df_2016"
   ]
  },
  {
   "cell_type": "code",
   "execution_count": 399,
   "metadata": {},
   "outputs": [
    {
     "data": {
      "text/html": [
       "<div>\n",
       "<style scoped>\n",
       "    .dataframe tbody tr th:only-of-type {\n",
       "        vertical-align: middle;\n",
       "    }\n",
       "\n",
       "    .dataframe tbody tr th {\n",
       "        vertical-align: top;\n",
       "    }\n",
       "\n",
       "    .dataframe thead th {\n",
       "        text-align: right;\n",
       "    }\n",
       "</style>\n",
       "<table border=\"1\" class=\"dataframe\">\n",
       "  <thead>\n",
       "    <tr style=\"text-align: right;\">\n",
       "      <th></th>\n",
       "      <th>16-18 (2016)</th>\n",
       "      <th>19-21 (2016)</th>\n",
       "      <th>22-24 (2016)</th>\n",
       "      <th>Total</th>\n",
       "    </tr>\n",
       "    <tr>\n",
       "      <th>Status</th>\n",
       "      <th></th>\n",
       "      <th></th>\n",
       "      <th></th>\n",
       "      <th></th>\n",
       "    </tr>\n",
       "  </thead>\n",
       "  <tbody>\n",
       "    <tr>\n",
       "      <th>Not an opportunity Youth</th>\n",
       "      <td>46661</td>\n",
       "      <td>32318</td>\n",
       "      <td>36426</td>\n",
       "      <td>115405</td>\n",
       "    </tr>\n",
       "    <tr>\n",
       "      <th>Opportuntiy Youth</th>\n",
       "      <td>2805</td>\n",
       "      <td>7284</td>\n",
       "      <td>8728</td>\n",
       "      <td>18817</td>\n",
       "    </tr>\n",
       "    <tr>\n",
       "      <th>Working without Diploma</th>\n",
       "      <td>587</td>\n",
       "      <td>2049</td>\n",
       "      <td>2877</td>\n",
       "      <td>5513</td>\n",
       "    </tr>\n",
       "  </tbody>\n",
       "</table>\n",
       "</div>"
      ],
      "text/plain": [
       "                          16-18 (2016)  19-21 (2016)  22-24 (2016)   Total\n",
       "Status                                                                    \n",
       "Not an opportunity Youth         46661         32318         36426  115405\n",
       "Opportuntiy Youth                 2805          7284          8728   18817\n",
       "Working without Diploma            587          2049          2877    5513"
      ]
     },
     "execution_count": 399,
     "metadata": {},
     "output_type": "execute_result"
    }
   ],
   "source": [
    "df_2016.set_index('Status')"
   ]
  },
  {
   "cell_type": "code",
   "execution_count": 401,
   "metadata": {},
   "outputs": [
    {
     "data": {
      "text/html": [
       "<div>\n",
       "<style scoped>\n",
       "    .dataframe tbody tr th:only-of-type {\n",
       "        vertical-align: middle;\n",
       "    }\n",
       "\n",
       "    .dataframe tbody tr th {\n",
       "        vertical-align: top;\n",
       "    }\n",
       "\n",
       "    .dataframe thead tr th {\n",
       "        text-align: left;\n",
       "    }\n",
       "\n",
       "    .dataframe thead tr:last-of-type th {\n",
       "        text-align: right;\n",
       "    }\n",
       "</style>\n",
       "<table border=\"1\" class=\"dataframe\">\n",
       "  <thead>\n",
       "    <tr>\n",
       "      <th></th>\n",
       "      <th colspan=\"3\" halign=\"left\">Total</th>\n",
       "    </tr>\n",
       "    <tr>\n",
       "      <th>Age_Group</th>\n",
       "      <th>16-18</th>\n",
       "      <th>19-21</th>\n",
       "      <th>22-24</th>\n",
       "    </tr>\n",
       "    <tr>\n",
       "      <th>Status</th>\n",
       "      <th></th>\n",
       "      <th></th>\n",
       "      <th></th>\n",
       "    </tr>\n",
       "  </thead>\n",
       "  <tbody>\n",
       "    <tr>\n",
       "      <th>Not an Opportunity Youth</th>\n",
       "      <td>1066</td>\n",
       "      <td>816</td>\n",
       "      <td>894</td>\n",
       "    </tr>\n",
       "    <tr>\n",
       "      <th>Opportunity Youth</th>\n",
       "      <td>60</td>\n",
       "      <td>146</td>\n",
       "      <td>185</td>\n",
       "    </tr>\n",
       "    <tr>\n",
       "      <th>Working without diploma</th>\n",
       "      <td>187</td>\n",
       "      <td>61</td>\n",
       "      <td>67</td>\n",
       "    </tr>\n",
       "  </tbody>\n",
       "</table>\n",
       "</div>"
      ],
      "text/plain": [
       "                         Total            \n",
       "Age_Group                16-18 19-21 22-24\n",
       "Status                                    \n",
       "Not an Opportunity Youth  1066   816   894\n",
       "Opportunity Youth           60   146   185\n",
       "Working without diploma    187    61    67"
      ]
     },
     "execution_count": 401,
     "metadata": {},
     "output_type": "execute_result"
    }
   ],
   "source": [
    "was_table_1.unstack()"
   ]
  },
  {
   "cell_type": "code",
   "execution_count": 63,
   "metadata": {},
   "outputs": [
    {
     "data": {
      "text/plain": [
       "2944"
      ]
     },
     "execution_count": 63,
     "metadata": {},
     "output_type": "execute_result"
    }
   ],
   "source": [
    "67+2877"
   ]
  },
  {
   "cell_type": "code",
   "execution_count": 70,
   "metadata": {},
   "outputs": [],
   "source": [
    "delta_data = [['Not an Opportunity Youth', 46661, 47727, 32318, 33134, 36426, 37320], ['Opportunity Youth', 2805, 2865, 7284, 7430, 8728, 8913], [' Working without diploma', 587, 774, 2049, 2110, 2877, 2944]]\n",
    "delta_data_df = pd.DataFrame( delta_data, columns = ['Category','16-18 (2016)', '16-18 (2017)', '19-21 (2016)', '19-21 (2017)', '22-24 (2016)', '22-24 (2017)'])"
   ]
  },
  {
   "cell_type": "code",
   "execution_count": 71,
   "metadata": {},
   "outputs": [
    {
     "data": {
      "text/html": [
       "<div>\n",
       "<style scoped>\n",
       "    .dataframe tbody tr th:only-of-type {\n",
       "        vertical-align: middle;\n",
       "    }\n",
       "\n",
       "    .dataframe tbody tr th {\n",
       "        vertical-align: top;\n",
       "    }\n",
       "\n",
       "    .dataframe thead th {\n",
       "        text-align: right;\n",
       "    }\n",
       "</style>\n",
       "<table border=\"1\" class=\"dataframe\">\n",
       "  <thead>\n",
       "    <tr style=\"text-align: right;\">\n",
       "      <th></th>\n",
       "      <th>Category</th>\n",
       "      <th>16-18 (2016)</th>\n",
       "      <th>16-18 (2017)</th>\n",
       "      <th>19-21 (2016)</th>\n",
       "      <th>19-21 (2017)</th>\n",
       "      <th>22-24 (2016)</th>\n",
       "      <th>22-24 (2017)</th>\n",
       "    </tr>\n",
       "  </thead>\n",
       "  <tbody>\n",
       "    <tr>\n",
       "      <th>0</th>\n",
       "      <td>Not an Opportunity Youth</td>\n",
       "      <td>46661</td>\n",
       "      <td>47727</td>\n",
       "      <td>32318</td>\n",
       "      <td>33134</td>\n",
       "      <td>36426</td>\n",
       "      <td>37320</td>\n",
       "    </tr>\n",
       "    <tr>\n",
       "      <th>1</th>\n",
       "      <td>Opportunity Youth</td>\n",
       "      <td>2805</td>\n",
       "      <td>2865</td>\n",
       "      <td>7284</td>\n",
       "      <td>7430</td>\n",
       "      <td>8728</td>\n",
       "      <td>8913</td>\n",
       "    </tr>\n",
       "    <tr>\n",
       "      <th>2</th>\n",
       "      <td>Working without diploma</td>\n",
       "      <td>587</td>\n",
       "      <td>774</td>\n",
       "      <td>2049</td>\n",
       "      <td>2110</td>\n",
       "      <td>2877</td>\n",
       "      <td>2944</td>\n",
       "    </tr>\n",
       "  </tbody>\n",
       "</table>\n",
       "</div>"
      ],
      "text/plain": [
       "                   Category  16-18 (2016)  16-18 (2017)  19-21 (2016)  \\\n",
       "0  Not an Opportunity Youth         46661         47727         32318   \n",
       "1         Opportunity Youth          2805          2865          7284   \n",
       "2   Working without diploma           587           774          2049   \n",
       "\n",
       "   19-21 (2017)  22-24 (2016)  22-24 (2017)  \n",
       "0         33134         36426         37320  \n",
       "1          7430          8728          8913  \n",
       "2          2110          2877          2944  "
      ]
     },
     "execution_count": 71,
     "metadata": {},
     "output_type": "execute_result"
    }
   ],
   "source": [
    "\n",
    "delta_data_df"
   ]
  },
  {
   "cell_type": "code",
   "execution_count": 72,
   "metadata": {},
   "outputs": [
    {
     "data": {
      "text/plain": [
       "Index(['Category', '16-18 (2016)', '16-18 (2017)', '19-21 (2016)',\n",
       "       '19-21 (2017)', '22-24 (2016)', '22-24 (2017)'],\n",
       "      dtype='object')"
      ]
     },
     "execution_count": 72,
     "metadata": {},
     "output_type": "execute_result"
    }
   ],
   "source": [
    "delta_data_df.columns\n"
   ]
  },
  {
   "cell_type": "code",
   "execution_count": 74,
   "metadata": {},
   "outputs": [
    {
     "ename": "SyntaxError",
     "evalue": "invalid syntax (<ipython-input-74-dec7c8b8d57f>, line 2)",
     "output_type": "error",
     "traceback": [
      "\u001b[0;36m  File \u001b[0;32m\"<ipython-input-74-dec7c8b8d57f>\"\u001b[0;36m, line \u001b[0;32m2\u001b[0m\n\u001b[0;31m    delta_data_df['19-21 Delta%'] = (delta_data_df ['19-21 (2017)'] - delta_data_df ['19-21 (2016)']) / delta_data_df ['19-21 (2016)'] *100\u001b[0m\n\u001b[0m                ^\u001b[0m\n\u001b[0;31mSyntaxError\u001b[0m\u001b[0;31m:\u001b[0m invalid syntax\n"
     ]
    }
   ],
   "source": [
    "delta_data_df['16-18 Delta%'] = ((delta_data_df ['16-18 (2017)'] - delta_data_df ['16-18 (2016)'])/ delta_data_df ['16-18 (2016)'] *100\n",
    "delta_data_df['19-21 Delta%'] = (delta_data_df ['19-21 (2017)'] - delta_data_df ['19-21 (2016)']) / delta_data_df ['19-21 (2016)'] *100\n",
    "delta_data_df['22-24 Delta%'] = (delta_data_df ['22-24 (2017)'] - delta_data_df ['22-24 (2016)']) / delta_data_df ['22-24 (2016)'] *100\n",
    "delta_data_df"
   ]
  },
  {
   "cell_type": "code",
   "execution_count": null,
   "metadata": {},
   "outputs": [],
   "source": []
  },
  {
   "cell_type": "code",
   "execution_count": null,
   "metadata": {},
   "outputs": [],
   "source": []
  },
  {
   "cell_type": "code",
   "execution_count": null,
   "metadata": {},
   "outputs": [],
   "source": []
  },
  {
   "cell_type": "code",
   "execution_count": null,
   "metadata": {},
   "outputs": [],
   "source": []
  },
  {
   "cell_type": "code",
   "execution_count": null,
   "metadata": {},
   "outputs": [],
   "source": []
  },
  {
   "cell_type": "code",
   "execution_count": null,
   "metadata": {},
   "outputs": [],
   "source": []
  },
  {
   "cell_type": "code",
   "execution_count": null,
   "metadata": {},
   "outputs": [],
   "source": []
  },
  {
   "cell_type": "code",
   "execution_count": null,
   "metadata": {},
   "outputs": [],
   "source": []
  },
  {
   "cell_type": "code",
   "execution_count": null,
   "metadata": {},
   "outputs": [],
   "source": []
  },
  {
   "cell_type": "code",
   "execution_count": null,
   "metadata": {},
   "outputs": [],
   "source": []
  },
  {
   "cell_type": "code",
   "execution_count": null,
   "metadata": {},
   "outputs": [],
   "source": []
  },
  {
   "cell_type": "code",
   "execution_count": null,
   "metadata": {},
   "outputs": [],
   "source": []
  },
  {
   "cell_type": "code",
   "execution_count": 210,
   "metadata": {},
   "outputs": [],
   "source": []
  },
  {
   "cell_type": "code",
   "execution_count": 214,
   "metadata": {},
   "outputs": [],
   "source": []
  },
  {
   "cell_type": "code",
   "execution_count": 232,
   "metadata": {},
   "outputs": [],
   "source": []
  },
  {
   "cell_type": "code",
   "execution_count": 228,
   "metadata": {},
   "outputs": [],
   "source": []
  },
  {
   "cell_type": "code",
   "execution_count": 235,
   "metadata": {},
   "outputs": [],
   "source": []
  },
  {
   "cell_type": "markdown",
   "metadata": {},
   "source": [
    "# Question 4"
   ]
  },
  {
   "cell_type": "markdown",
   "metadata": {},
   "source": [
    "A visualization that highlights a trend between the 2016 report and current data."
   ]
  },
  {
   "cell_type": "markdown",
   "metadata": {},
   "source": [
    "We will create a Pie Chart illustrating the Race demographics in the Road Map region Opportunity Youth and show the trend between 2016 and 2017"
   ]
  },
  {
   "cell_type": "markdown",
   "metadata": {},
   "source": [
    "Table 1: 2016 Numbers\n",
    "\n",
    "We will first create a dataframe for the 2016 numbers based on table 3, page 2 of the 2016 report"
   ]
  },
  {
   "cell_type": "code",
   "execution_count": 84,
   "metadata": {},
   "outputs": [
    {
     "data": {
      "text/html": [
       "<div>\n",
       "<style scoped>\n",
       "    .dataframe tbody tr th:only-of-type {\n",
       "        vertical-align: middle;\n",
       "    }\n",
       "\n",
       "    .dataframe tbody tr th {\n",
       "        vertical-align: top;\n",
       "    }\n",
       "\n",
       "    .dataframe thead th {\n",
       "        text-align: right;\n",
       "    }\n",
       "</style>\n",
       "<table border=\"1\" class=\"dataframe\">\n",
       "  <thead>\n",
       "    <tr style=\"text-align: right;\">\n",
       "      <th></th>\n",
       "      <th>Race</th>\n",
       "      <th>Count</th>\n",
       "    </tr>\n",
       "  </thead>\n",
       "  <tbody>\n",
       "    <tr>\n",
       "      <th>0</th>\n",
       "      <td>American Indian/Alaska Native</td>\n",
       "      <td>387</td>\n",
       "    </tr>\n",
       "    <tr>\n",
       "      <th>1</th>\n",
       "      <td>Native Hawaiian and Other Pacific Islander</td>\n",
       "      <td>439</td>\n",
       "    </tr>\n",
       "    <tr>\n",
       "      <th>2</th>\n",
       "      <td>Black/African American</td>\n",
       "      <td>2791</td>\n",
       "    </tr>\n",
       "    <tr>\n",
       "      <th>3</th>\n",
       "      <td>Hispanic</td>\n",
       "      <td>2008</td>\n",
       "    </tr>\n",
       "    <tr>\n",
       "      <th>4</th>\n",
       "      <td>Some Other Race alone</td>\n",
       "      <td>1112</td>\n",
       "    </tr>\n",
       "    <tr>\n",
       "      <th>5</th>\n",
       "      <td>Two or More Races</td>\n",
       "      <td>1534</td>\n",
       "    </tr>\n",
       "    <tr>\n",
       "      <th>6</th>\n",
       "      <td>White</td>\n",
       "      <td>8547</td>\n",
       "    </tr>\n",
       "    <tr>\n",
       "      <th>7</th>\n",
       "      <td>Asian</td>\n",
       "      <td>1999</td>\n",
       "    </tr>\n",
       "  </tbody>\n",
       "</table>\n",
       "</div>"
      ],
      "text/plain": [
       "                                         Race  Count\n",
       "0               American Indian/Alaska Native    387\n",
       "1  Native Hawaiian and Other Pacific Islander    439\n",
       "2                      Black/African American   2791\n",
       "3                                    Hispanic   2008\n",
       "4                       Some Other Race alone   1112\n",
       "5                           Two or More Races   1534\n",
       "6                                       White   8547\n",
       "7                                       Asian   1999"
      ]
     },
     "execution_count": 84,
     "metadata": {},
     "output_type": "execute_result"
    }
   ],
   "source": [
    "#Creating a list of races.\n",
    "OY_16_race = ['American Indian/Alaska Native','Native Hawaiian and Other Pacific Islander','Black/African American','Hispanic','Some Other Race alone','Two or More Races','White', 'Asian']\n",
    "#Creating a list of values for each of the races.\n",
    "OY_16_count = [387,439,2791,2008,1112,1534,8547,1999]\n",
    "#Turning the 2 lists into a dictionary with keys 'Race' and 'Count'\n",
    "pie_16 = {'Race':OY_16_race, 'Count':OY_16_count}\n",
    "#Turning the dictionary into a dataframe\n",
    "pie_16_df = pd.DataFrame(pie_16)\n",
    "pie_16_df"
   ]
  },
  {
   "cell_type": "markdown",
   "metadata": {},
   "source": [
    "Table 2: Incremental 2017 numbers\n",
    "\n",
    "Now we will create another data frame showing the incremental numbers in 2017. We will use the was_rm_OY dataframe to do this. We will assign the values in the 'raclp' column the equivalent race as per the documentation.\n",
    "\n",
    "\n",
    "White: 1\n",
    "\n",
    "Black/African American: 2\n",
    "\n",
    "American Indian/Alaska Native: 3, 4 and 5\n",
    "\n",
    "Asian: 6\n",
    "\n",
    "Native Hawaiian and Other Pacific Islander: 7\n",
    "\n",
    "Some Other Race alone: 8\n",
    "\n",
    "Two or More Races:9"
   ]
  },
  {
   "cell_type": "code",
   "execution_count": 85,
   "metadata": {},
   "outputs": [
    {
     "data": {
      "text/html": [
       "<div>\n",
       "<style scoped>\n",
       "    .dataframe tbody tr th:only-of-type {\n",
       "        vertical-align: middle;\n",
       "    }\n",
       "\n",
       "    .dataframe tbody tr th {\n",
       "        vertical-align: top;\n",
       "    }\n",
       "\n",
       "    .dataframe thead th {\n",
       "        text-align: right;\n",
       "    }\n",
       "</style>\n",
       "<table border=\"1\" class=\"dataframe\">\n",
       "  <thead>\n",
       "    <tr style=\"text-align: right;\">\n",
       "      <th></th>\n",
       "      <th>rt</th>\n",
       "      <th>serialno</th>\n",
       "      <th>division</th>\n",
       "      <th>sporder</th>\n",
       "      <th>puma</th>\n",
       "      <th>region</th>\n",
       "      <th>st</th>\n",
       "      <th>adjinc</th>\n",
       "      <th>pwgtp</th>\n",
       "      <th>agep</th>\n",
       "      <th>...</th>\n",
       "      <th>pwgtp73</th>\n",
       "      <th>pwgtp74</th>\n",
       "      <th>pwgtp75</th>\n",
       "      <th>pwgtp76</th>\n",
       "      <th>pwgtp77</th>\n",
       "      <th>pwgtp78</th>\n",
       "      <th>pwgtp79</th>\n",
       "      <th>pwgtp80</th>\n",
       "      <th>Age_Group</th>\n",
       "      <th>Edu_attain</th>\n",
       "    </tr>\n",
       "  </thead>\n",
       "  <tbody>\n",
       "    <tr>\n",
       "      <th>138</th>\n",
       "      <td>P</td>\n",
       "      <td>2013000916904</td>\n",
       "      <td>9</td>\n",
       "      <td>4</td>\n",
       "      <td>11614</td>\n",
       "      <td>4</td>\n",
       "      <td>53</td>\n",
       "      <td>1061971</td>\n",
       "      <td>14</td>\n",
       "      <td>17</td>\n",
       "      <td>...</td>\n",
       "      <td>12</td>\n",
       "      <td>22</td>\n",
       "      <td>14</td>\n",
       "      <td>14</td>\n",
       "      <td>4</td>\n",
       "      <td>24</td>\n",
       "      <td>4</td>\n",
       "      <td>13</td>\n",
       "      <td>16-18</td>\n",
       "      <td>No Diploma</td>\n",
       "    </tr>\n",
       "    <tr>\n",
       "      <th>189</th>\n",
       "      <td>P</td>\n",
       "      <td>2013000926030</td>\n",
       "      <td>9</td>\n",
       "      <td>1</td>\n",
       "      <td>11613</td>\n",
       "      <td>4</td>\n",
       "      <td>53</td>\n",
       "      <td>1061971</td>\n",
       "      <td>5</td>\n",
       "      <td>22</td>\n",
       "      <td>...</td>\n",
       "      <td>8</td>\n",
       "      <td>1</td>\n",
       "      <td>1</td>\n",
       "      <td>5</td>\n",
       "      <td>5</td>\n",
       "      <td>11</td>\n",
       "      <td>5</td>\n",
       "      <td>5</td>\n",
       "      <td>22-24</td>\n",
       "      <td>HS Diploma or GED</td>\n",
       "    </tr>\n",
       "    <tr>\n",
       "      <th>242</th>\n",
       "      <td>P</td>\n",
       "      <td>2013000941965</td>\n",
       "      <td>9</td>\n",
       "      <td>3</td>\n",
       "      <td>11612</td>\n",
       "      <td>4</td>\n",
       "      <td>53</td>\n",
       "      <td>1061971</td>\n",
       "      <td>37</td>\n",
       "      <td>24</td>\n",
       "      <td>...</td>\n",
       "      <td>35</td>\n",
       "      <td>9</td>\n",
       "      <td>23</td>\n",
       "      <td>65</td>\n",
       "      <td>49</td>\n",
       "      <td>12</td>\n",
       "      <td>11</td>\n",
       "      <td>27</td>\n",
       "      <td>22-24</td>\n",
       "      <td>HS Diploma or GED</td>\n",
       "    </tr>\n",
       "    <tr>\n",
       "      <th>325</th>\n",
       "      <td>P</td>\n",
       "      <td>2013000950917</td>\n",
       "      <td>9</td>\n",
       "      <td>2</td>\n",
       "      <td>11613</td>\n",
       "      <td>4</td>\n",
       "      <td>53</td>\n",
       "      <td>1061971</td>\n",
       "      <td>17</td>\n",
       "      <td>24</td>\n",
       "      <td>...</td>\n",
       "      <td>5</td>\n",
       "      <td>6</td>\n",
       "      <td>14</td>\n",
       "      <td>17</td>\n",
       "      <td>16</td>\n",
       "      <td>16</td>\n",
       "      <td>35</td>\n",
       "      <td>5</td>\n",
       "      <td>22-24</td>\n",
       "      <td>Some College, no degree</td>\n",
       "    </tr>\n",
       "    <tr>\n",
       "      <th>357</th>\n",
       "      <td>P</td>\n",
       "      <td>2013000960556</td>\n",
       "      <td>9</td>\n",
       "      <td>3</td>\n",
       "      <td>11611</td>\n",
       "      <td>4</td>\n",
       "      <td>53</td>\n",
       "      <td>1061971</td>\n",
       "      <td>23</td>\n",
       "      <td>22</td>\n",
       "      <td>...</td>\n",
       "      <td>32</td>\n",
       "      <td>30</td>\n",
       "      <td>8</td>\n",
       "      <td>38</td>\n",
       "      <td>34</td>\n",
       "      <td>21</td>\n",
       "      <td>24</td>\n",
       "      <td>25</td>\n",
       "      <td>22-24</td>\n",
       "      <td>Some College, no degree</td>\n",
       "    </tr>\n",
       "  </tbody>\n",
       "</table>\n",
       "<p>5 rows × 288 columns</p>\n",
       "</div>"
      ],
      "text/plain": [
       "    rt       serialno  division  sporder   puma  region  st   adjinc  pwgtp  \\\n",
       "138  P  2013000916904         9        4  11614       4  53  1061971     14   \n",
       "189  P  2013000926030         9        1  11613       4  53  1061971      5   \n",
       "242  P  2013000941965         9        3  11612       4  53  1061971     37   \n",
       "325  P  2013000950917         9        2  11613       4  53  1061971     17   \n",
       "357  P  2013000960556         9        3  11611       4  53  1061971     23   \n",
       "\n",
       "     agep  ...  pwgtp73  pwgtp74  pwgtp75  pwgtp76  pwgtp77  pwgtp78  pwgtp79  \\\n",
       "138    17  ...       12       22       14       14        4       24        4   \n",
       "189    22  ...        8        1        1        5        5       11        5   \n",
       "242    24  ...       35        9       23       65       49       12       11   \n",
       "325    24  ...        5        6       14       17       16       16       35   \n",
       "357    22  ...       32       30        8       38       34       21       24   \n",
       "\n",
       "     pwgtp80  Age_Group               Edu_attain  \n",
       "138       13      16-18               No Diploma  \n",
       "189        5      22-24        HS Diploma or GED  \n",
       "242       27      22-24        HS Diploma or GED  \n",
       "325        5      22-24  Some College, no degree  \n",
       "357       25      22-24  Some College, no degree  \n",
       "\n",
       "[5 rows x 288 columns]"
      ]
     },
     "execution_count": 85,
     "metadata": {},
     "output_type": "execute_result"
    }
   ],
   "source": [
    "was_rm_OY.head()"
   ]
  },
  {
   "cell_type": "code",
   "execution_count": 86,
   "metadata": {},
   "outputs": [],
   "source": [
    "#Assigning the values in the'raclp' column based on the appropriate race as per the index.\n",
    "was_rm_OY.loc[(was_rm_OY['rac1p']==7),'Race' ] = 'Native Hawaiian and Other Pacific Islander' \n",
    "was_rm_OY.loc[((was_rm_OY['rac1p']==3)| (was_rm_OY['rac1p']==4)|(was_rm_OY['rac1p']==5)) ,'Race' ] = 'American Indian/Alaska Native'\n",
    "was_rm_OY.loc[(was_rm_OY['rac1p']==2),'Race' ] = 'Black/African American'\n",
    "was_rm_OY.loc[(was_rm_OY['rac1p']==8),'Race' ] = 'Some Other Race alone'\n",
    "was_rm_OY.loc[(was_rm_OY['rac1p']==9),'Race' ] = 'Two or More Races'\n",
    "was_rm_OY.loc[(was_rm_OY['rac1p']==1),'Race' ] = 'White'\n",
    "was_rm_OY.loc[(was_rm_OY['rac1p']==6),'Race' ] = 'Asian'"
   ]
  },
  {
   "cell_type": "code",
   "execution_count": 87,
   "metadata": {},
   "outputs": [],
   "source": [
    "#Hispanic is not shown as a race under 'raclp'. We have used the 'hisp' column of the table to identify the Hispanic race.\n",
    "was_rm_OY.loc[(was_rm_OY['hisp']!=1),'Race' ] = 'Hispanic'"
   ]
  },
  {
   "cell_type": "code",
   "execution_count": 88,
   "metadata": {},
   "outputs": [],
   "source": [
    "#Doing a group by and aggregate function, using 'Race' as the column, and showing the count.\n",
    "pie_17_df = was_rm_OY.groupby('Race').agg(Count=('Race','count'))"
   ]
  },
  {
   "cell_type": "code",
   "execution_count": 89,
   "metadata": {},
   "outputs": [
    {
     "data": {
      "text/html": [
       "<div>\n",
       "<style scoped>\n",
       "    .dataframe tbody tr th:only-of-type {\n",
       "        vertical-align: middle;\n",
       "    }\n",
       "\n",
       "    .dataframe tbody tr th {\n",
       "        vertical-align: top;\n",
       "    }\n",
       "\n",
       "    .dataframe thead th {\n",
       "        text-align: right;\n",
       "    }\n",
       "</style>\n",
       "<table border=\"1\" class=\"dataframe\">\n",
       "  <thead>\n",
       "    <tr style=\"text-align: right;\">\n",
       "      <th></th>\n",
       "      <th>Race</th>\n",
       "      <th>Count</th>\n",
       "    </tr>\n",
       "  </thead>\n",
       "  <tbody>\n",
       "    <tr>\n",
       "      <th>0</th>\n",
       "      <td>American Indian/Alaska Native</td>\n",
       "      <td>27</td>\n",
       "    </tr>\n",
       "    <tr>\n",
       "      <th>1</th>\n",
       "      <td>Asian</td>\n",
       "      <td>42</td>\n",
       "    </tr>\n",
       "    <tr>\n",
       "      <th>2</th>\n",
       "      <td>Black/African American</td>\n",
       "      <td>36</td>\n",
       "    </tr>\n",
       "    <tr>\n",
       "      <th>3</th>\n",
       "      <td>Hispanic</td>\n",
       "      <td>66</td>\n",
       "    </tr>\n",
       "    <tr>\n",
       "      <th>4</th>\n",
       "      <td>Native Hawaiian and Other Pacific Islander</td>\n",
       "      <td>10</td>\n",
       "    </tr>\n",
       "    <tr>\n",
       "      <th>5</th>\n",
       "      <td>Some Other Race alone</td>\n",
       "      <td>1</td>\n",
       "    </tr>\n",
       "    <tr>\n",
       "      <th>6</th>\n",
       "      <td>Two or More Races</td>\n",
       "      <td>27</td>\n",
       "    </tr>\n",
       "    <tr>\n",
       "      <th>7</th>\n",
       "      <td>White</td>\n",
       "      <td>182</td>\n",
       "    </tr>\n",
       "  </tbody>\n",
       "</table>\n",
       "</div>"
      ],
      "text/plain": [
       "                                         Race  Count\n",
       "0               American Indian/Alaska Native     27\n",
       "1                                       Asian     42\n",
       "2                      Black/African American     36\n",
       "3                                    Hispanic     66\n",
       "4  Native Hawaiian and Other Pacific Islander     10\n",
       "5                       Some Other Race alone      1\n",
       "6                           Two or More Races     27\n",
       "7                                       White    182"
      ]
     },
     "execution_count": 89,
     "metadata": {},
     "output_type": "execute_result"
    }
   ],
   "source": [
    "#resetting the index.\n",
    "pie_17_df.reset_index()"
   ]
  },
  {
   "cell_type": "markdown",
   "metadata": {},
   "source": [
    "Now that we have the 2 tables, we will merge them and then sum the 2 columns to show the 2017 total numbers"
   ]
  },
  {
   "cell_type": "code",
   "execution_count": 92,
   "metadata": {},
   "outputs": [],
   "source": [
    "#merging the 2 dataframes together using the Race column\n",
    "merged = pd.merge(pie_16_df, pie_17_df, on='Race')"
   ]
  },
  {
   "cell_type": "code",
   "execution_count": 93,
   "metadata": {},
   "outputs": [],
   "source": [
    "#Renaming the columns to 2016 and 2017 incremental\n",
    "merged.rename(columns={'Count_x':'2016', 'Count_y': '2017 incremental'}, inplace=True)"
   ]
  },
  {
   "cell_type": "code",
   "execution_count": 94,
   "metadata": {},
   "outputs": [
    {
     "data": {
      "text/html": [
       "<div>\n",
       "<style scoped>\n",
       "    .dataframe tbody tr th:only-of-type {\n",
       "        vertical-align: middle;\n",
       "    }\n",
       "\n",
       "    .dataframe tbody tr th {\n",
       "        vertical-align: top;\n",
       "    }\n",
       "\n",
       "    .dataframe thead th {\n",
       "        text-align: right;\n",
       "    }\n",
       "</style>\n",
       "<table border=\"1\" class=\"dataframe\">\n",
       "  <thead>\n",
       "    <tr style=\"text-align: right;\">\n",
       "      <th></th>\n",
       "      <th>Race</th>\n",
       "      <th>2016</th>\n",
       "      <th>2017 incremental</th>\n",
       "    </tr>\n",
       "  </thead>\n",
       "  <tbody>\n",
       "    <tr>\n",
       "      <th>0</th>\n",
       "      <td>American Indian/Alaska Native</td>\n",
       "      <td>387</td>\n",
       "      <td>27</td>\n",
       "    </tr>\n",
       "    <tr>\n",
       "      <th>1</th>\n",
       "      <td>Native Hawaiian and Other Pacific Islander</td>\n",
       "      <td>439</td>\n",
       "      <td>10</td>\n",
       "    </tr>\n",
       "    <tr>\n",
       "      <th>2</th>\n",
       "      <td>Black/African American</td>\n",
       "      <td>2791</td>\n",
       "      <td>36</td>\n",
       "    </tr>\n",
       "    <tr>\n",
       "      <th>3</th>\n",
       "      <td>Hispanic</td>\n",
       "      <td>2008</td>\n",
       "      <td>66</td>\n",
       "    </tr>\n",
       "    <tr>\n",
       "      <th>4</th>\n",
       "      <td>Some Other Race alone</td>\n",
       "      <td>1112</td>\n",
       "      <td>1</td>\n",
       "    </tr>\n",
       "    <tr>\n",
       "      <th>5</th>\n",
       "      <td>Two or More Races</td>\n",
       "      <td>1534</td>\n",
       "      <td>27</td>\n",
       "    </tr>\n",
       "    <tr>\n",
       "      <th>6</th>\n",
       "      <td>White</td>\n",
       "      <td>8547</td>\n",
       "      <td>182</td>\n",
       "    </tr>\n",
       "    <tr>\n",
       "      <th>7</th>\n",
       "      <td>Asian</td>\n",
       "      <td>1999</td>\n",
       "      <td>42</td>\n",
       "    </tr>\n",
       "  </tbody>\n",
       "</table>\n",
       "</div>"
      ],
      "text/plain": [
       "                                         Race  2016  2017 incremental\n",
       "0               American Indian/Alaska Native   387                27\n",
       "1  Native Hawaiian and Other Pacific Islander   439                10\n",
       "2                      Black/African American  2791                36\n",
       "3                                    Hispanic  2008                66\n",
       "4                       Some Other Race alone  1112                 1\n",
       "5                           Two or More Races  1534                27\n",
       "6                                       White  8547               182\n",
       "7                                       Asian  1999                42"
      ]
     },
     "execution_count": 94,
     "metadata": {},
     "output_type": "execute_result"
    }
   ],
   "source": [
    "merged"
   ]
  },
  {
   "cell_type": "code",
   "execution_count": 95,
   "metadata": {},
   "outputs": [],
   "source": [
    "#Adding the values in the columns ' 2016' and '2017 incremental' to form a new column '2017 Total'\n",
    "#We will use 2016 and 2017 Total to plot the Pie Charts\n",
    "merged['2017 Total'] = merged['2016']+ merged['2017 incremental']"
   ]
  },
  {
   "cell_type": "code",
   "execution_count": 96,
   "metadata": {},
   "outputs": [
    {
     "data": {
      "text/html": [
       "<div>\n",
       "<style scoped>\n",
       "    .dataframe tbody tr th:only-of-type {\n",
       "        vertical-align: middle;\n",
       "    }\n",
       "\n",
       "    .dataframe tbody tr th {\n",
       "        vertical-align: top;\n",
       "    }\n",
       "\n",
       "    .dataframe thead th {\n",
       "        text-align: right;\n",
       "    }\n",
       "</style>\n",
       "<table border=\"1\" class=\"dataframe\">\n",
       "  <thead>\n",
       "    <tr style=\"text-align: right;\">\n",
       "      <th></th>\n",
       "      <th>Race</th>\n",
       "      <th>2016</th>\n",
       "      <th>2017 incremental</th>\n",
       "      <th>2017 Total</th>\n",
       "    </tr>\n",
       "  </thead>\n",
       "  <tbody>\n",
       "    <tr>\n",
       "      <th>0</th>\n",
       "      <td>American Indian/Alaska Native</td>\n",
       "      <td>387</td>\n",
       "      <td>27</td>\n",
       "      <td>414</td>\n",
       "    </tr>\n",
       "    <tr>\n",
       "      <th>1</th>\n",
       "      <td>Native Hawaiian and Other Pacific Islander</td>\n",
       "      <td>439</td>\n",
       "      <td>10</td>\n",
       "      <td>449</td>\n",
       "    </tr>\n",
       "    <tr>\n",
       "      <th>2</th>\n",
       "      <td>Black/African American</td>\n",
       "      <td>2791</td>\n",
       "      <td>36</td>\n",
       "      <td>2827</td>\n",
       "    </tr>\n",
       "    <tr>\n",
       "      <th>3</th>\n",
       "      <td>Hispanic</td>\n",
       "      <td>2008</td>\n",
       "      <td>66</td>\n",
       "      <td>2074</td>\n",
       "    </tr>\n",
       "    <tr>\n",
       "      <th>4</th>\n",
       "      <td>Some Other Race alone</td>\n",
       "      <td>1112</td>\n",
       "      <td>1</td>\n",
       "      <td>1113</td>\n",
       "    </tr>\n",
       "    <tr>\n",
       "      <th>5</th>\n",
       "      <td>Two or More Races</td>\n",
       "      <td>1534</td>\n",
       "      <td>27</td>\n",
       "      <td>1561</td>\n",
       "    </tr>\n",
       "    <tr>\n",
       "      <th>6</th>\n",
       "      <td>White</td>\n",
       "      <td>8547</td>\n",
       "      <td>182</td>\n",
       "      <td>8729</td>\n",
       "    </tr>\n",
       "    <tr>\n",
       "      <th>7</th>\n",
       "      <td>Asian</td>\n",
       "      <td>1999</td>\n",
       "      <td>42</td>\n",
       "      <td>2041</td>\n",
       "    </tr>\n",
       "  </tbody>\n",
       "</table>\n",
       "</div>"
      ],
      "text/plain": [
       "                                         Race  2016  2017 incremental  \\\n",
       "0               American Indian/Alaska Native   387                27   \n",
       "1  Native Hawaiian and Other Pacific Islander   439                10   \n",
       "2                      Black/African American  2791                36   \n",
       "3                                    Hispanic  2008                66   \n",
       "4                       Some Other Race alone  1112                 1   \n",
       "5                           Two or More Races  1534                27   \n",
       "6                                       White  8547               182   \n",
       "7                                       Asian  1999                42   \n",
       "\n",
       "   2017 Total  \n",
       "0         414  \n",
       "1         449  \n",
       "2        2827  \n",
       "3        2074  \n",
       "4        1113  \n",
       "5        1561  \n",
       "6        8729  \n",
       "7        2041  "
      ]
     },
     "execution_count": 96,
     "metadata": {},
     "output_type": "execute_result"
    }
   ],
   "source": [
    "merged"
   ]
  },
  {
   "cell_type": "markdown",
   "metadata": {},
   "source": [
    "Here we will plot the Pie Charts"
   ]
  },
  {
   "cell_type": "markdown",
   "metadata": {},
   "source": [
    "Pie Chart 1: Race as % of Population of Ordinary Youth 2016:"
   ]
  },
  {
   "cell_type": "code",
   "execution_count": 97,
   "metadata": {},
   "outputs": [
    {
     "data": {
      "image/png": "[encoded data removed]",
      "text/plain": [
       "<Figure size 576x432 with 1 Axes>"
      ]
     },
     "metadata": {},
     "output_type": "display_data"
    }
   ],
   "source": [
    "# Create a list of colors (from iWantHue)\n",
    "colors = [\"#E13F29\", \"#D69A80\", \"#D63B59\", \"#AE5552\", \"#CB5C3B\", \"#EB8076\", \"#96624E\",\"#EB1076\"]\n",
    "plt.figure(figsize=(8,6))\n",
    "# Create a pie chart\n",
    "plt.pie(\n",
    "    # using data total)arrests\n",
    "    merged['2016'],\n",
    "    # with the labels being officer names\n",
    "    labels=merged['Race'],\n",
    "    # with no shadows\n",
    "    shadow=False,\n",
    "    # with colors\n",
    "    colors=colors,\n",
    "    # with one slide exploded out\n",
    "    explode=(0,0,0,0,0,0,0,0.15),\n",
    "    # with the start angle at 90%\n",
    "    startangle=150,\n",
    "    # with the percent listed as a fraction\n",
    "    autopct='%1.1f%%',\n",
    "    )\n",
    "\n",
    "# View the plot drop abovea\n",
    "plt.axis('equal')\n",
    "plt.title('Race as % of Population of Ordinary Youth 2016')\n",
    "# View the plot\n",
    "plt.tight_layout()\n",
    "plt.show()"
   ]
  },
  {
   "cell_type": "markdown",
   "metadata": {},
   "source": [
    "Pie Chart 2: Race as % of Population of Ordinary Youth 2017:"
   ]
  },
  {
   "cell_type": "code",
   "execution_count": 98,
   "metadata": {},
   "outputs": [
    {
     "data": {
      "image/png": "[encoded data removed]",
      "text/plain": [
       "<Figure size 576x432 with 1 Axes>"
      ]
     },
     "metadata": {},
     "output_type": "display_data"
    }
   ],
   "source": [
    "# Create a list of colors (from iWantHue)\n",
    "colors = [\"#E13F29\", \"#D69A80\", \"#D63B59\", \"#AE5552\", \"#CB5C3B\", \"#EB8076\", \"#96624E\",\"#EB1076\"]\n",
    "plt.figure(figsize=(8,6))\n",
    "# Create a pie chart\n",
    "plt.pie(\n",
    "    # using data total)arrests\n",
    "    merged['2017 Total'],\n",
    "    # with the labels being officer names\n",
    "    labels=merged['Race'],\n",
    "    # with no shadows\n",
    "    shadow=False,\n",
    "    # with colors\n",
    "    colors=colors,\n",
    "    # with one slide exploded out\n",
    "    explode=(0,0,0,0,0,0,0,0.15),\n",
    "    # with the start angle at 90%\n",
    "    startangle=150,\n",
    "    # with the percent listed as a fraction\n",
    "    autopct='%1.1f%%',\n",
    "    )\n",
    "\n",
    "# View the plot drop abovea\n",
    "plt.axis('equal')\n",
    "plt.title('Race as % of Population of Ordinary Youth 2017')\n",
    "# View the plot\n",
    "plt.tight_layout()\n",
    "plt.show()"
   ]
  },
  {
   "cell_type": "code",
   "execution_count": null,
   "metadata": {},
   "outputs": [],
   "source": []
  }
 ],
 "metadata": {
  "kernelspec": {
   "display_name": "oy-env",
   "language": "python",
   "name": "oy-env"
  },
  "language_info": {
   "codemirror_mode": {
    "name": "ipython",
    "version": 3
   },
   "file_extension": ".py",
   "mimetype": "text/x-python",
   "name": "python",
   "nbconvert_exporter": "python",
   "pygments_lexer": "ipython3",
   "version": "3.7.3"
  }
 },
 "nbformat": 4,
 "nbformat_minor": 4
}
